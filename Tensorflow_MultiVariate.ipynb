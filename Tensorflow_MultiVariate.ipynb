{
 "cells": [
  {
   "cell_type": "code",
   "execution_count": 1,
   "id": "d0c0ab37-18d7-4388-bbcf-44418efb2d6a",
   "metadata": {
    "execution": {
     "iopub.execute_input": "2021-11-11T18:01:36.664239Z",
     "iopub.status.busy": "2021-11-11T18:01:36.663881Z",
     "iopub.status.idle": "2021-11-11T18:01:36.859419Z",
     "shell.execute_reply": "2021-11-11T18:01:36.859055Z",
     "shell.execute_reply.started": "2021-11-11T18:01:36.664140Z"
    },
    "tags": []
   },
   "outputs": [],
   "source": [
    "import pandas as pd"
   ]
  },
  {
   "cell_type": "code",
   "execution_count": 2,
   "id": "460179f3-2a55-48e1-ab1c-2d34b1e980e0",
   "metadata": {
    "execution": {
     "iopub.execute_input": "2021-11-11T18:01:36.859993Z",
     "iopub.status.busy": "2021-11-11T18:01:36.859854Z",
     "iopub.status.idle": "2021-11-11T18:01:37.492516Z",
     "shell.execute_reply": "2021-11-11T18:01:37.492106Z",
     "shell.execute_reply.started": "2021-11-11T18:01:36.859980Z"
    },
    "tags": []
   },
   "outputs": [
    {
     "name": "stdout",
     "output_type": "stream",
     "text": [
      "<class 'pandas.core.frame.DataFrame'>\n",
      "RangeIndex: 420551 entries, 0 to 420550\n",
      "Data columns (total 3 columns):\n",
      " #   Column     Non-Null Count   Dtype  \n",
      "---  ------     --------------   -----  \n",
      " 0   Date Time  420551 non-null  object \n",
      " 1   p (mbar)   420551 non-null  float64\n",
      " 2   T (degC)   420551 non-null  float64\n",
      "dtypes: float64(2), object(1)\n",
      "memory usage: 9.6+ MB\n"
     ]
    }
   ],
   "source": [
    "df = pd.read_csv(\n",
    "    \"dataset/jena_climate_2009_2016.zip\", compression=\"zip\", low_memory=False\n",
    ")\n",
    "df = df[[\"Date Time\", \"p (mbar)\", \"T (degC)\"]]\n",
    "df.info(verbose=True, memory_usage=True, show_counts=True)"
   ]
  },
  {
   "cell_type": "code",
   "execution_count": 3,
   "id": "4d2e6e43-5f20-4fe1-96fc-f8c9e719880d",
   "metadata": {
    "execution": {
     "iopub.execute_input": "2021-11-11T18:01:37.493530Z",
     "iopub.status.busy": "2021-11-11T18:01:37.493396Z",
     "iopub.status.idle": "2021-11-11T18:01:37.502764Z",
     "shell.execute_reply": "2021-11-11T18:01:37.502347Z",
     "shell.execute_reply.started": "2021-11-11T18:01:37.493517Z"
    },
    "tags": []
   },
   "outputs": [
    {
     "data": {
      "text/html": [
       "<div>\n",
       "<style scoped>\n",
       "    .dataframe tbody tr th:only-of-type {\n",
       "        vertical-align: middle;\n",
       "    }\n",
       "\n",
       "    .dataframe tbody tr th {\n",
       "        vertical-align: top;\n",
       "    }\n",
       "\n",
       "    .dataframe thead th {\n",
       "        text-align: right;\n",
       "    }\n",
       "</style>\n",
       "<table border=\"1\" class=\"dataframe\">\n",
       "  <thead>\n",
       "    <tr style=\"text-align: right;\">\n",
       "      <th></th>\n",
       "      <th>Date Time</th>\n",
       "      <th>p (mbar)</th>\n",
       "      <th>T (degC)</th>\n",
       "    </tr>\n",
       "  </thead>\n",
       "  <tbody>\n",
       "    <tr>\n",
       "      <th>0</th>\n",
       "      <td>01.01.2009 00:10:00</td>\n",
       "      <td>996.52</td>\n",
       "      <td>-8.02</td>\n",
       "    </tr>\n",
       "    <tr>\n",
       "      <th>1</th>\n",
       "      <td>01.01.2009 00:20:00</td>\n",
       "      <td>996.57</td>\n",
       "      <td>-8.41</td>\n",
       "    </tr>\n",
       "    <tr>\n",
       "      <th>2</th>\n",
       "      <td>01.01.2009 00:30:00</td>\n",
       "      <td>996.53</td>\n",
       "      <td>-8.51</td>\n",
       "    </tr>\n",
       "    <tr>\n",
       "      <th>3</th>\n",
       "      <td>01.01.2009 00:40:00</td>\n",
       "      <td>996.51</td>\n",
       "      <td>-8.31</td>\n",
       "    </tr>\n",
       "    <tr>\n",
       "      <th>4</th>\n",
       "      <td>01.01.2009 00:50:00</td>\n",
       "      <td>996.51</td>\n",
       "      <td>-8.27</td>\n",
       "    </tr>\n",
       "  </tbody>\n",
       "</table>\n",
       "</div>"
      ],
      "text/plain": [
       "             Date Time  p (mbar)  T (degC)\n",
       "0  01.01.2009 00:10:00    996.52     -8.02\n",
       "1  01.01.2009 00:20:00    996.57     -8.41\n",
       "2  01.01.2009 00:30:00    996.53     -8.51\n",
       "3  01.01.2009 00:40:00    996.51     -8.31\n",
       "4  01.01.2009 00:50:00    996.51     -8.27"
      ]
     },
     "execution_count": 3,
     "metadata": {},
     "output_type": "execute_result"
    }
   ],
   "source": [
    "df.head()"
   ]
  },
  {
   "cell_type": "code",
   "execution_count": 4,
   "id": "04d84fbd-cf15-49da-915f-75e1e24072d5",
   "metadata": {
    "execution": {
     "iopub.execute_input": "2021-11-11T18:01:37.503249Z",
     "iopub.status.busy": "2021-11-11T18:01:37.503150Z",
     "iopub.status.idle": "2021-11-11T18:01:38.280748Z",
     "shell.execute_reply": "2021-11-11T18:01:38.280367Z",
     "shell.execute_reply.started": "2021-11-11T18:01:37.503237Z"
    },
    "tags": []
   },
   "outputs": [],
   "source": [
    "def set_time_index(\n",
    "    df: pd.DataFrame, col_name: str, time_format: str = None\n",
    ") -> pd.DataFrame:\n",
    "    if col_name not in df.columns:\n",
    "        raise Exception(\"Column {} is not in dataset: {}\".format(col_name, df.columns))\n",
    "    try:\n",
    "        if time_format != None:\n",
    "            df.index = pd.to_datetime(df[col_name], format=time_format)\n",
    "        else:\n",
    "            df.index = pd.to_datetime(df[col_name])\n",
    "    except Exception as e:\n",
    "        print(\"Unable to set {} as time index: {}\".format(col_name, e))\n",
    "    return df\n",
    "\n",
    "\n",
    "df = set_time_index(df, \"Date Time\", time_format=\"%d.%m.%Y %H:%M:%S\")\n",
    "del df[\"Date Time\"]"
   ]
  },
  {
   "cell_type": "code",
   "execution_count": 5,
   "id": "9739682b-f03d-40c7-9faa-b50b2e55e0cd",
   "metadata": {
    "execution": {
     "iopub.execute_input": "2021-11-11T18:01:38.281289Z",
     "iopub.status.busy": "2021-11-11T18:01:38.281192Z",
     "iopub.status.idle": "2021-11-11T18:01:38.304491Z",
     "shell.execute_reply": "2021-11-11T18:01:38.304142Z",
     "shell.execute_reply.started": "2021-11-11T18:01:38.281277Z"
    },
    "tags": []
   },
   "outputs": [
    {
     "data": {
      "text/html": [
       "<div>\n",
       "<style scoped>\n",
       "    .dataframe tbody tr th:only-of-type {\n",
       "        vertical-align: middle;\n",
       "    }\n",
       "\n",
       "    .dataframe tbody tr th {\n",
       "        vertical-align: top;\n",
       "    }\n",
       "\n",
       "    .dataframe thead th {\n",
       "        text-align: right;\n",
       "    }\n",
       "</style>\n",
       "<table border=\"1\" class=\"dataframe\">\n",
       "  <thead>\n",
       "    <tr style=\"text-align: right;\">\n",
       "      <th></th>\n",
       "      <th>p (mbar)</th>\n",
       "      <th>T (degC)</th>\n",
       "    </tr>\n",
       "    <tr>\n",
       "      <th>Date Time</th>\n",
       "      <th></th>\n",
       "      <th></th>\n",
       "    </tr>\n",
       "  </thead>\n",
       "  <tbody>\n",
       "    <tr>\n",
       "      <th>2009-01-01 00:10:00</th>\n",
       "      <td>996.52</td>\n",
       "      <td>-8.02</td>\n",
       "    </tr>\n",
       "    <tr>\n",
       "      <th>2009-01-01 00:20:00</th>\n",
       "      <td>996.57</td>\n",
       "      <td>-8.41</td>\n",
       "    </tr>\n",
       "    <tr>\n",
       "      <th>2009-01-01 00:30:00</th>\n",
       "      <td>996.53</td>\n",
       "      <td>-8.51</td>\n",
       "    </tr>\n",
       "    <tr>\n",
       "      <th>2009-01-01 00:40:00</th>\n",
       "      <td>996.51</td>\n",
       "      <td>-8.31</td>\n",
       "    </tr>\n",
       "    <tr>\n",
       "      <th>2009-01-01 00:50:00</th>\n",
       "      <td>996.51</td>\n",
       "      <td>-8.27</td>\n",
       "    </tr>\n",
       "  </tbody>\n",
       "</table>\n",
       "</div>"
      ],
      "text/plain": [
       "                     p (mbar)  T (degC)\n",
       "Date Time                              \n",
       "2009-01-01 00:10:00    996.52     -8.02\n",
       "2009-01-01 00:20:00    996.57     -8.41\n",
       "2009-01-01 00:30:00    996.53     -8.51\n",
       "2009-01-01 00:40:00    996.51     -8.31\n",
       "2009-01-01 00:50:00    996.51     -8.27"
      ]
     },
     "execution_count": 5,
     "metadata": {},
     "output_type": "execute_result"
    }
   ],
   "source": [
    "df.head()"
   ]
  },
  {
   "cell_type": "code",
   "execution_count": 6,
   "id": "5781098a-cc9f-4bf6-841c-01a65bb40e53",
   "metadata": {
    "execution": {
     "iopub.execute_input": "2021-11-11T18:01:38.305023Z",
     "iopub.status.busy": "2021-11-11T18:01:38.304923Z",
     "iopub.status.idle": "2021-11-11T18:01:38.769686Z",
     "shell.execute_reply": "2021-11-11T18:01:38.769364Z",
     "shell.execute_reply.started": "2021-11-11T18:01:38.305011Z"
    },
    "tags": []
   },
   "outputs": [
    {
     "data": {
      "image/png": "[encoded data removed]",
      "text/plain": [
       "<Figure size 1440x360 with 1 Axes>"
      ]
     },
     "metadata": {
      "needs_background": "light"
     },
     "output_type": "display_data"
    },
    {
     "data": {
      "image/png": "[encoded data removed]",
      "text/plain": [
       "<Figure size 1440x360 with 1 Axes>"
      ]
     },
     "metadata": {
      "needs_background": "light"
     },
     "output_type": "display_data"
    }
   ],
   "source": [
    "# df.plot(subplots=True)\n",
    "import matplotlib.pyplot as plt\n",
    "\n",
    "for i in df.columns:\n",
    "    plt.figure(figsize=(20, 5))\n",
    "    plt.title(i)\n",
    "    plt.plot(df[i])"
   ]
  },
  {
   "cell_type": "code",
   "execution_count": 7,
   "id": "c37dc953-5cf7-4e3e-b602-6311a420c83c",
   "metadata": {
    "execution": {
     "iopub.execute_input": "2021-11-11T18:01:38.770231Z",
     "iopub.status.busy": "2021-11-11T18:01:38.770134Z",
     "iopub.status.idle": "2021-11-11T18:01:38.774161Z",
     "shell.execute_reply": "2021-11-11T18:01:38.773878Z",
     "shell.execute_reply.started": "2021-11-11T18:01:38.770219Z"
    },
    "tags": []
   },
   "outputs": [],
   "source": [
    "# interval-> Seconds to resample\n",
    "def resample_df(df: pd.DataFrame, interval: int) -> pd.DataFrame:\n",
    "    # Time interval is the number of seconds between each misuration\n",
    "    time_interval = df.index.to_series().diff().dt.seconds.mode()[0]\n",
    "    # These misuration break the rule, resample to `time_interval`\n",
    "    df[df.index.to_series().diff().dt.seconds > time_interval]\n",
    "    # Take only the integer part\n",
    "    time_interval = str(int(time_interval))\n",
    "    df = df.resample(time_interval + \"S\").mean().ffill().interpolate()\n",
    "    assert (df.index.to_series().diff().dt.seconds > float(time_interval)).sum() == 0\n",
    "    df = df.resample(\"{}\".format(interval) + \"S\").mean().ffill().interpolate()\n",
    "    assert (df.index.to_series().diff().dt.seconds > float(interval)).sum() == 0\n",
    "    return df\n",
    "\n",
    "\n",
    "import numpy as np\n",
    "\n",
    "\n",
    "def normalize(values: np.ndarray):\n",
    "    return (values - values.mean()) / np.std(values)"
   ]
  },
  {
   "cell_type": "code",
   "execution_count": 8,
   "id": "0b7b3e0a-c258-4fb0-8d58-0bde4dfc27e4",
   "metadata": {
    "execution": {
     "iopub.execute_input": "2021-11-11T18:01:38.774695Z",
     "iopub.status.busy": "2021-11-11T18:01:38.774594Z",
     "iopub.status.idle": "2021-11-11T18:01:38.813665Z",
     "shell.execute_reply": "2021-11-11T18:01:38.813351Z",
     "shell.execute_reply.started": "2021-11-11T18:01:38.774683Z"
    },
    "tags": []
   },
   "outputs": [
    {
     "data": {
      "text/html": [
       "<div>\n",
       "<style scoped>\n",
       "    .dataframe tbody tr th:only-of-type {\n",
       "        vertical-align: middle;\n",
       "    }\n",
       "\n",
       "    .dataframe tbody tr th {\n",
       "        vertical-align: top;\n",
       "    }\n",
       "\n",
       "    .dataframe thead th {\n",
       "        text-align: right;\n",
       "    }\n",
       "</style>\n",
       "<table border=\"1\" class=\"dataframe\">\n",
       "  <thead>\n",
       "    <tr style=\"text-align: right;\">\n",
       "      <th></th>\n",
       "      <th>p (mbar)</th>\n",
       "      <th>T (degC)</th>\n",
       "    </tr>\n",
       "  </thead>\n",
       "  <tbody>\n",
       "    <tr>\n",
       "      <th>count</th>\n",
       "      <td>420551.000000</td>\n",
       "      <td>420551.000000</td>\n",
       "    </tr>\n",
       "    <tr>\n",
       "      <th>mean</th>\n",
       "      <td>989.212776</td>\n",
       "      <td>9.450147</td>\n",
       "    </tr>\n",
       "    <tr>\n",
       "      <th>std</th>\n",
       "      <td>8.358481</td>\n",
       "      <td>8.423365</td>\n",
       "    </tr>\n",
       "    <tr>\n",
       "      <th>min</th>\n",
       "      <td>913.600000</td>\n",
       "      <td>-23.010000</td>\n",
       "    </tr>\n",
       "    <tr>\n",
       "      <th>25%</th>\n",
       "      <td>984.200000</td>\n",
       "      <td>3.360000</td>\n",
       "    </tr>\n",
       "    <tr>\n",
       "      <th>50%</th>\n",
       "      <td>989.580000</td>\n",
       "      <td>9.420000</td>\n",
       "    </tr>\n",
       "    <tr>\n",
       "      <th>75%</th>\n",
       "      <td>994.720000</td>\n",
       "      <td>15.470000</td>\n",
       "    </tr>\n",
       "    <tr>\n",
       "      <th>max</th>\n",
       "      <td>1015.350000</td>\n",
       "      <td>37.280000</td>\n",
       "    </tr>\n",
       "  </tbody>\n",
       "</table>\n",
       "</div>"
      ],
      "text/plain": [
       "            p (mbar)       T (degC)\n",
       "count  420551.000000  420551.000000\n",
       "mean      989.212776       9.450147\n",
       "std         8.358481       8.423365\n",
       "min       913.600000     -23.010000\n",
       "25%       984.200000       3.360000\n",
       "50%       989.580000       9.420000\n",
       "75%       994.720000      15.470000\n",
       "max      1015.350000      37.280000"
      ]
     },
     "execution_count": 8,
     "metadata": {},
     "output_type": "execute_result"
    }
   ],
   "source": [
    "df.describe()"
   ]
  },
  {
   "cell_type": "code",
   "execution_count": 9,
   "id": "8c23fed6-e860-45fd-9072-8645c07457e3",
   "metadata": {
    "execution": {
     "iopub.execute_input": "2021-11-11T18:01:38.814313Z",
     "iopub.status.busy": "2021-11-11T18:01:38.814191Z",
     "iopub.status.idle": "2021-11-11T18:01:38.898531Z",
     "shell.execute_reply": "2021-11-11T18:01:38.898200Z",
     "shell.execute_reply.started": "2021-11-11T18:01:38.814300Z"
    },
    "tags": []
   },
   "outputs": [
    {
     "name": "stdout",
     "output_type": "stream",
     "text": [
      "<class 'pandas.core.frame.DataFrame'>\n",
      "DatetimeIndex: 2923 entries, 2009-01-01 to 2017-01-01\n",
      "Freq: 86400S\n",
      "Data columns (total 2 columns):\n",
      " #   Column    Non-Null Count  Dtype  \n",
      "---  ------    --------------  -----  \n",
      " 0   p (mbar)  2923 non-null   float64\n",
      " 1   T (degC)  2923 non-null   float64\n",
      "dtypes: float64(2)\n",
      "memory usage: 68.5 KB\n"
     ]
    }
   ],
   "source": [
    "# Resample to 1 day\n",
    "df = resample_df(df, 86400)\n",
    "# df[\"T (degC)\"] = df[\"T (degC)\"].astype(\"float16\")\n",
    "# df[\"p (mbar)\"] = df[\"p (mbar)\"].astype(\"float16\")\n",
    "\n",
    "# df[\"T (degC)\"] = normalize(df[\"T (degC)\"].values)\n",
    "df.info(verbose=True, memory_usage=True, show_counts=True)"
   ]
  },
  {
   "cell_type": "code",
   "execution_count": 10,
   "id": "e5f730e5-736c-425a-9d87-3ac5495ebf3a",
   "metadata": {
    "execution": {
     "iopub.execute_input": "2021-11-11T18:01:38.899108Z",
     "iopub.status.busy": "2021-11-11T18:01:38.899002Z",
     "iopub.status.idle": "2021-11-11T18:01:38.907992Z",
     "shell.execute_reply": "2021-11-11T18:01:38.907608Z",
     "shell.execute_reply.started": "2021-11-11T18:01:38.899095Z"
    },
    "tags": []
   },
   "outputs": [
    {
     "data": {
      "text/html": [
       "<div>\n",
       "<style scoped>\n",
       "    .dataframe tbody tr th:only-of-type {\n",
       "        vertical-align: middle;\n",
       "    }\n",
       "\n",
       "    .dataframe tbody tr th {\n",
       "        vertical-align: top;\n",
       "    }\n",
       "\n",
       "    .dataframe thead th {\n",
       "        text-align: right;\n",
       "    }\n",
       "</style>\n",
       "<table border=\"1\" class=\"dataframe\">\n",
       "  <thead>\n",
       "    <tr style=\"text-align: right;\">\n",
       "      <th></th>\n",
       "      <th>p (mbar)</th>\n",
       "      <th>T (degC)</th>\n",
       "    </tr>\n",
       "  </thead>\n",
       "  <tbody>\n",
       "    <tr>\n",
       "      <th>count</th>\n",
       "      <td>2923.000000</td>\n",
       "      <td>2923.000000</td>\n",
       "    </tr>\n",
       "    <tr>\n",
       "      <th>mean</th>\n",
       "      <td>989.222404</td>\n",
       "      <td>9.438695</td>\n",
       "    </tr>\n",
       "    <tr>\n",
       "      <th>std</th>\n",
       "      <td>8.091493</td>\n",
       "      <td>7.836859</td>\n",
       "    </tr>\n",
       "    <tr>\n",
       "      <th>min</th>\n",
       "      <td>948.995972</td>\n",
       "      <td>-16.457292</td>\n",
       "    </tr>\n",
       "    <tr>\n",
       "      <th>25%</th>\n",
       "      <td>984.362674</td>\n",
       "      <td>3.811007</td>\n",
       "    </tr>\n",
       "    <tr>\n",
       "      <th>50%</th>\n",
       "      <td>989.530000</td>\n",
       "      <td>9.708333</td>\n",
       "    </tr>\n",
       "    <tr>\n",
       "      <th>75%</th>\n",
       "      <td>994.459410</td>\n",
       "      <td>15.419062</td>\n",
       "    </tr>\n",
       "    <tr>\n",
       "      <th>max</th>\n",
       "      <td>1013.957569</td>\n",
       "      <td>29.375347</td>\n",
       "    </tr>\n",
       "  </tbody>\n",
       "</table>\n",
       "</div>"
      ],
      "text/plain": [
       "          p (mbar)     T (degC)\n",
       "count  2923.000000  2923.000000\n",
       "mean    989.222404     9.438695\n",
       "std       8.091493     7.836859\n",
       "min     948.995972   -16.457292\n",
       "25%     984.362674     3.811007\n",
       "50%     989.530000     9.708333\n",
       "75%     994.459410    15.419062\n",
       "max    1013.957569    29.375347"
      ]
     },
     "execution_count": 10,
     "metadata": {},
     "output_type": "execute_result"
    }
   ],
   "source": [
    "df.describe()"
   ]
  },
  {
   "cell_type": "markdown",
   "id": "e329577a-b8ce-440c-90aa-dfb06eabc4f0",
   "metadata": {},
   "source": [
    "# TENSORFLOW"
   ]
  },
  {
   "cell_type": "code",
   "execution_count": 11,
   "id": "f9ae46a7-ce59-44b5-a49d-d4fe46dde903",
   "metadata": {
    "execution": {
     "iopub.execute_input": "2021-11-11T18:01:38.908577Z",
     "iopub.status.busy": "2021-11-11T18:01:38.908463Z",
     "iopub.status.idle": "2021-11-11T18:01:39.997798Z",
     "shell.execute_reply": "2021-11-11T18:01:39.997480Z",
     "shell.execute_reply.started": "2021-11-11T18:01:38.908564Z"
    },
    "tags": []
   },
   "outputs": [
    {
     "name": "stdout",
     "output_type": "stream",
     "text": [
      "INFO:tensorflow:Mixed precision compatibility check (mixed_float16): OK\n",
      "Your GPU will likely run quickly with dtype policy mixed_float16 as it has compute capability of at least 7.0. Your GPU: NVIDIA GeForce RTX 2080 Ti, compute capability 7.5\n"
     ]
    },
    {
     "name": "stderr",
     "output_type": "stream",
     "text": [
      "2021-11-11 19:01:39.990721: I tensorflow/stream_executor/cuda/cuda_gpu_executor.cc:939] successful NUMA node read from SysFS had negative value (-1), but there must be at least one NUMA node, so returning NUMA node zero\n",
      "2021-11-11 19:01:39.994794: I tensorflow/stream_executor/cuda/cuda_gpu_executor.cc:939] successful NUMA node read from SysFS had negative value (-1), but there must be at least one NUMA node, so returning NUMA node zero\n",
      "2021-11-11 19:01:39.995088: I tensorflow/stream_executor/cuda/cuda_gpu_executor.cc:939] successful NUMA node read from SysFS had negative value (-1), but there must be at least one NUMA node, so returning NUMA node zero\n",
      "2021-11-11 19:01:39.995416: I tensorflow/stream_executor/cuda/cuda_gpu_executor.cc:939] successful NUMA node read from SysFS had negative value (-1), but there must be at least one NUMA node, so returning NUMA node zero\n"
     ]
    }
   ],
   "source": [
    "import tensorflow as tf\n",
    "from tensorflow.keras import mixed_precision\n",
    "\n",
    "policy = mixed_precision.Policy(\"mixed_float16\")\n",
    "mixed_precision.set_global_policy(policy)"
   ]
  },
  {
   "cell_type": "code",
   "execution_count": 12,
   "id": "f8fa982d-6acd-4680-8a55-5b0bd3317fc5",
   "metadata": {
    "execution": {
     "iopub.execute_input": "2021-11-11T18:01:39.999176Z",
     "iopub.status.busy": "2021-11-11T18:01:39.999067Z",
     "iopub.status.idle": "2021-11-11T18:01:40.004329Z",
     "shell.execute_reply": "2021-11-11T18:01:40.003857Z",
     "shell.execute_reply.started": "2021-11-11T18:01:39.999163Z"
    },
    "tags": []
   },
   "outputs": [
    {
     "data": {
      "text/html": [
       "<div>\n",
       "<style scoped>\n",
       "    .dataframe tbody tr th:only-of-type {\n",
       "        vertical-align: middle;\n",
       "    }\n",
       "\n",
       "    .dataframe tbody tr th {\n",
       "        vertical-align: top;\n",
       "    }\n",
       "\n",
       "    .dataframe thead th {\n",
       "        text-align: right;\n",
       "    }\n",
       "</style>\n",
       "<table border=\"1\" class=\"dataframe\">\n",
       "  <thead>\n",
       "    <tr style=\"text-align: right;\">\n",
       "      <th></th>\n",
       "      <th>p (mbar)</th>\n",
       "      <th>T (degC)</th>\n",
       "    </tr>\n",
       "    <tr>\n",
       "      <th>Date Time</th>\n",
       "      <th></th>\n",
       "      <th></th>\n",
       "    </tr>\n",
       "  </thead>\n",
       "  <tbody>\n",
       "    <tr>\n",
       "      <th>2009-01-01</th>\n",
       "      <td>999.145594</td>\n",
       "      <td>-6.810629</td>\n",
       "    </tr>\n",
       "    <tr>\n",
       "      <th>2009-01-02</th>\n",
       "      <td>999.600625</td>\n",
       "      <td>-3.728194</td>\n",
       "    </tr>\n",
       "    <tr>\n",
       "      <th>2009-01-03</th>\n",
       "      <td>998.548611</td>\n",
       "      <td>-5.271736</td>\n",
       "    </tr>\n",
       "    <tr>\n",
       "      <th>2009-01-04</th>\n",
       "      <td>988.510694</td>\n",
       "      <td>-1.375208</td>\n",
       "    </tr>\n",
       "    <tr>\n",
       "      <th>2009-01-05</th>\n",
       "      <td>990.405694</td>\n",
       "      <td>-4.867153</td>\n",
       "    </tr>\n",
       "  </tbody>\n",
       "</table>\n",
       "</div>"
      ],
      "text/plain": [
       "              p (mbar)  T (degC)\n",
       "Date Time                       \n",
       "2009-01-01  999.145594 -6.810629\n",
       "2009-01-02  999.600625 -3.728194\n",
       "2009-01-03  998.548611 -5.271736\n",
       "2009-01-04  988.510694 -1.375208\n",
       "2009-01-05  990.405694 -4.867153"
      ]
     },
     "execution_count": 12,
     "metadata": {},
     "output_type": "execute_result"
    }
   ],
   "source": [
    "df.head()"
   ]
  },
  {
   "cell_type": "markdown",
   "id": "d5aca4e5-f171-44a8-b7fb-23da9a05f69e",
   "metadata": {},
   "source": [
    "## Scale data"
   ]
  },
  {
   "cell_type": "code",
   "execution_count": 13,
   "id": "b083494a-672d-4fb4-8f61-1fbd9b9d11ba",
   "metadata": {
    "execution": {
     "iopub.execute_input": "2021-11-11T18:01:40.004878Z",
     "iopub.status.busy": "2021-11-11T18:01:40.004775Z",
     "iopub.status.idle": "2021-11-11T18:01:40.145678Z",
     "shell.execute_reply": "2021-11-11T18:01:40.145276Z",
     "shell.execute_reply.started": "2021-11-11T18:01:40.004865Z"
    },
    "tags": []
   },
   "outputs": [],
   "source": [
    "from sklearn.preprocessing import StandardScaler\n",
    "\n",
    "scaler = {}\n",
    "columns = {}\n",
    "for column in df.columns:\n",
    "    sc = StandardScaler()\n",
    "    scaler[column] = sc\n",
    "    df_scaled = sc.fit_transform(df[column].to_numpy().reshape(-1, 1))\n",
    "    columns[column] = df_scaled.ravel()\n",
    "# df_scaled = pd.DataFrame(df_scaled, columns=df.columns)"
   ]
  },
  {
   "cell_type": "code",
   "execution_count": 14,
   "id": "9d746d45-8c97-44a3-89fa-c539ad2593b9",
   "metadata": {
    "execution": {
     "iopub.execute_input": "2021-11-11T18:01:40.146141Z",
     "iopub.status.busy": "2021-11-11T18:01:40.146044Z",
     "iopub.status.idle": "2021-11-11T18:01:40.249843Z",
     "shell.execute_reply": "2021-11-11T18:01:40.249398Z",
     "shell.execute_reply.started": "2021-11-11T18:01:40.146128Z"
    },
    "tags": []
   },
   "outputs": [
    {
     "data": {
      "text/plain": [
       "<AxesSubplot:>"
      ]
     },
     "execution_count": 14,
     "metadata": {},
     "output_type": "execute_result"
    },
    {
     "data": {
      "image/png": "[encoded data removed]",
      "text/plain": [
       "<Figure size 432x288 with 1 Axes>"
      ]
     },
     "metadata": {
      "needs_background": "light"
     },
     "output_type": "display_data"
    }
   ],
   "source": [
    "df_scaled = pd.DataFrame(columns)\n",
    "df_scaled.plot()"
   ]
  },
  {
   "cell_type": "code",
   "execution_count": 15,
   "id": "8c4dedde-5e09-4462-95cc-c374e4a74a57",
   "metadata": {
    "execution": {
     "iopub.execute_input": "2021-11-11T18:01:40.250383Z",
     "iopub.status.busy": "2021-11-11T18:01:40.250282Z",
     "iopub.status.idle": "2021-11-11T18:01:40.253273Z",
     "shell.execute_reply": "2021-11-11T18:01:40.252927Z",
     "shell.execute_reply.started": "2021-11-11T18:01:40.250371Z"
    },
    "tags": []
   },
   "outputs": [
    {
     "data": {
      "text/plain": [
       "(2923, 2)"
      ]
     },
     "execution_count": 15,
     "metadata": {},
     "output_type": "execute_result"
    }
   ],
   "source": [
    "numpy_x = df_scaled.values\n",
    "# numpy_x = df.values\n",
    "# numpy_x = numpy_x.reshape(numpy_x.shape[0], 1)\n",
    "numpy_x.shape"
   ]
  },
  {
   "cell_type": "code",
   "execution_count": 16,
   "id": "e2e01908-785f-4e04-ac79-cdb9c55fb8dc",
   "metadata": {
    "execution": {
     "iopub.execute_input": "2021-11-11T18:01:40.253839Z",
     "iopub.status.busy": "2021-11-11T18:01:40.253725Z",
     "iopub.status.idle": "2021-11-11T18:01:40.272802Z",
     "shell.execute_reply": "2021-11-11T18:01:40.272361Z",
     "shell.execute_reply.started": "2021-11-11T18:01:40.253826Z"
    },
    "tags": []
   },
   "outputs": [],
   "source": [
    "import numpy as np\n",
    "\n",
    "\n",
    "def split_sequence(sequence, n_steps_in, n_steps_out):\n",
    "    X, y = list(), list()\n",
    "    for i in range(len(sequence)):\n",
    "        # find the end of this pattern\n",
    "        end_ix = i + n_steps_in\n",
    "        out_end_ix = end_ix + n_steps_out\n",
    "        # check if we are beyond the sequence\n",
    "        if out_end_ix > len(sequence):\n",
    "            break\n",
    "        # gather input and output parts of the pattern\n",
    "        seq_x, seq_y = sequence[i:end_ix], sequence[end_ix:out_end_ix]\n",
    "        X.append(seq_x)\n",
    "        y.append(seq_y)\n",
    "    return np.array(X), np.array(y)"
   ]
  },
  {
   "cell_type": "code",
   "execution_count": 17,
   "id": "718b4ec3-b79d-4523-b914-72d7cf0ac19e",
   "metadata": {
    "execution": {
     "iopub.execute_input": "2021-11-11T18:01:40.273405Z",
     "iopub.status.busy": "2021-11-11T18:01:40.273278Z",
     "iopub.status.idle": "2021-11-11T18:01:40.299918Z",
     "shell.execute_reply": "2021-11-11T18:01:40.299551Z",
     "shell.execute_reply.started": "2021-11-11T18:01:40.273393Z"
    },
    "tags": []
   },
   "outputs": [],
   "source": [
    "# Use 366 days as history, predict 7 days\n",
    "history_window = 366\n",
    "n_prediction = 7\n",
    "df_x, df_y = split_sequence(numpy_x, history_window, n_prediction)"
   ]
  },
  {
   "cell_type": "code",
   "execution_count": 18,
   "id": "b998afef-1785-4a25-8340-d538ba4c04e1",
   "metadata": {
    "execution": {
     "iopub.execute_input": "2021-11-11T18:01:40.300540Z",
     "iopub.status.busy": "2021-11-11T18:01:40.300433Z",
     "iopub.status.idle": "2021-11-11T18:01:40.313063Z",
     "shell.execute_reply": "2021-11-11T18:01:40.312644Z",
     "shell.execute_reply.started": "2021-11-11T18:01:40.300527Z"
    },
    "tags": []
   },
   "outputs": [],
   "source": [
    "df_y = df_y[:, :, 1]"
   ]
  },
  {
   "cell_type": "code",
   "execution_count": 19,
   "id": "fd40ff6d-4fae-426e-ba38-776d9b726a23",
   "metadata": {
    "execution": {
     "iopub.execute_input": "2021-11-11T18:01:40.313901Z",
     "iopub.status.busy": "2021-11-11T18:01:40.313547Z",
     "iopub.status.idle": "2021-11-11T18:01:40.333262Z",
     "shell.execute_reply": "2021-11-11T18:01:40.332858Z",
     "shell.execute_reply.started": "2021-11-11T18:01:40.313885Z"
    },
    "tags": []
   },
   "outputs": [
    {
     "data": {
      "text/plain": [
       "((2551, 366, 2), (2551, 7))"
      ]
     },
     "execution_count": 19,
     "metadata": {},
     "output_type": "execute_result"
    }
   ],
   "source": [
    "df_x.shape, df_y.shape"
   ]
  },
  {
   "cell_type": "code",
   "execution_count": 20,
   "id": "c7534a87-7178-4189-b31b-720b86a64a24",
   "metadata": {
    "execution": {
     "iopub.execute_input": "2021-11-11T18:01:40.333816Z",
     "iopub.status.busy": "2021-11-11T18:01:40.333692Z",
     "iopub.status.idle": "2021-11-11T18:01:40.352767Z",
     "shell.execute_reply": "2021-11-11T18:01:40.352418Z",
     "shell.execute_reply.started": "2021-11-11T18:01:40.333804Z"
    },
    "tags": []
   },
   "outputs": [
    {
     "data": {
      "text/plain": [
       "(2551, 366, 2)"
      ]
     },
     "execution_count": 20,
     "metadata": {},
     "output_type": "execute_result"
    }
   ],
   "source": [
    "# Reshaping into n_example, timestamps, features\n",
    "df_x = df_x.reshape(df_x.shape[0], df_x.shape[1], 2)\n",
    "df_x.shape"
   ]
  },
  {
   "cell_type": "code",
   "execution_count": 21,
   "id": "571978a3-6878-407f-b1e5-8a0c1236c934",
   "metadata": {
    "execution": {
     "iopub.execute_input": "2021-11-11T18:01:40.353284Z",
     "iopub.status.busy": "2021-11-11T18:01:40.353189Z",
     "iopub.status.idle": "2021-11-11T18:01:40.377882Z",
     "shell.execute_reply": "2021-11-11T18:01:40.377497Z",
     "shell.execute_reply.started": "2021-11-11T18:01:40.353273Z"
    },
    "tags": []
   },
   "outputs": [
    {
     "data": {
      "text/plain": [
       "(2551, 7)"
      ]
     },
     "execution_count": 21,
     "metadata": {},
     "output_type": "execute_result"
    }
   ],
   "source": [
    "# Reshaping in n_example, timestamps\n",
    "df_y = df_y.reshape(df_y.shape[0], df_y.shape[1])\n",
    "df_y.shape"
   ]
  },
  {
   "cell_type": "code",
   "execution_count": 22,
   "id": "3f0f5419-3f85-4fc6-a028-738d171e50b3",
   "metadata": {
    "execution": {
     "iopub.execute_input": "2021-11-11T18:01:40.378464Z",
     "iopub.status.busy": "2021-11-11T18:01:40.378329Z",
     "iopub.status.idle": "2021-11-11T18:01:40.403046Z",
     "shell.execute_reply": "2021-11-11T18:01:40.402652Z",
     "shell.execute_reply.started": "2021-11-11T18:01:40.378451Z"
    },
    "tags": []
   },
   "outputs": [],
   "source": [
    "# Reduce memory usage for Low End graphic cards\n",
    "df_x = np.float16(df_x)\n",
    "df_y = np.float16(df_y)"
   ]
  },
  {
   "cell_type": "code",
   "execution_count": 23,
   "id": "68c9e810-1d35-424e-bc26-879fe7dc0745",
   "metadata": {
    "execution": {
     "iopub.execute_input": "2021-11-11T18:01:40.403739Z",
     "iopub.status.busy": "2021-11-11T18:01:40.403631Z",
     "iopub.status.idle": "2021-11-11T18:01:41.357086Z",
     "shell.execute_reply": "2021-11-11T18:01:41.356703Z",
     "shell.execute_reply.started": "2021-11-11T18:01:40.403726Z"
    },
    "tags": []
   },
   "outputs": [
    {
     "name": "stderr",
     "output_type": "stream",
     "text": [
      "2021-11-11 19:01:40.419897: I tensorflow/core/platform/cpu_feature_guard.cc:151] This TensorFlow binary is optimized with oneAPI Deep Neural Network Library (oneDNN) to use the following CPU instructions in performance-critical operations:  AVX2 FMA\n",
      "To enable them in other operations, rebuild TensorFlow with the appropriate compiler flags.\n",
      "2021-11-11 19:01:40.436870: I tensorflow/compiler/xla/service/service.cc:171] XLA service 0x55cb9e9788d0 initialized for platform Host (this does not guarantee that XLA will be used). Devices:\n",
      "2021-11-11 19:01:40.436890: I tensorflow/compiler/xla/service/service.cc:179]   StreamExecutor device (0): Host, Default Version\n",
      "2021-11-11 19:01:40.493804: I tensorflow/stream_executor/cuda/cuda_gpu_executor.cc:939] successful NUMA node read from SysFS had negative value (-1), but there must be at least one NUMA node, so returning NUMA node zero\n",
      "2021-11-11 19:01:40.494144: I tensorflow/compiler/xla/service/service.cc:171] XLA service 0x55cb9f7ad1e0 initialized for platform CUDA (this does not guarantee that XLA will be used). Devices:\n",
      "2021-11-11 19:01:40.494157: I tensorflow/compiler/xla/service/service.cc:179]   StreamExecutor device (0): NVIDIA GeForce RTX 2080 Ti, Compute Capability 7.5\n",
      "2021-11-11 19:01:40.494291: I tensorflow/stream_executor/cuda/cuda_gpu_executor.cc:939] successful NUMA node read from SysFS had negative value (-1), but there must be at least one NUMA node, so returning NUMA node zero\n",
      "2021-11-11 19:01:40.494782: I tensorflow/stream_executor/cuda/cuda_gpu_executor.cc:939] successful NUMA node read from SysFS had negative value (-1), but there must be at least one NUMA node, so returning NUMA node zero\n",
      "2021-11-11 19:01:40.495060: I tensorflow/stream_executor/cuda/cuda_gpu_executor.cc:939] successful NUMA node read from SysFS had negative value (-1), but there must be at least one NUMA node, so returning NUMA node zero\n",
      "2021-11-11 19:01:40.795609: I tensorflow/stream_executor/cuda/cuda_gpu_executor.cc:939] successful NUMA node read from SysFS had negative value (-1), but there must be at least one NUMA node, so returning NUMA node zero\n",
      "2021-11-11 19:01:40.795915: I tensorflow/stream_executor/cuda/cuda_gpu_executor.cc:939] successful NUMA node read from SysFS had negative value (-1), but there must be at least one NUMA node, so returning NUMA node zero\n",
      "2021-11-11 19:01:40.796155: W tensorflow/core/common_runtime/gpu/gpu_bfc_allocator.cc:39] Overriding allow_growth setting because the TF_FORCE_GPU_ALLOW_GROWTH environment variable is set. Original config value was 0.\n",
      "2021-11-11 19:01:40.796183: I tensorflow/core/common_runtime/gpu/gpu_device.cc:1525] Created device /job:localhost/replica:0/task:0/device:GPU:0 with 8893 MB memory:  -> device: 0, name: NVIDIA GeForce RTX 2080 Ti, pci bus id: 0000:01:00.0, compute capability: 7.5\n"
     ]
    },
    {
     "name": "stdout",
     "output_type": "stream",
     "text": [
      "Model: \"sequential\"\n",
      "_________________________________________________________________\n",
      " Layer (type)                Output Shape              Param #   \n",
      "=================================================================\n",
      " lstm (LSTM)                 (None, 366, 512)          1054720   \n",
      "                                                                 \n",
      " lstm_1 (LSTM)               (None, 366, 256)          787456    \n",
      "                                                                 \n",
      " lstm_2 (LSTM)               (None, 128)               197120    \n",
      "                                                                 \n",
      " dense (Dense)               (None, 7)                 903       \n",
      "                                                                 \n",
      "=================================================================\n",
      "Total params: 2,040,199\n",
      "Trainable params: 2,040,199\n",
      "Non-trainable params: 0\n",
      "_________________________________________________________________\n"
     ]
    }
   ],
   "source": [
    "model = tf.keras.Sequential(\n",
    "    [\n",
    "        tf.keras.layers.LSTM(\n",
    "            512, input_shape=(df_x.shape[1], df_x.shape[2]), return_sequences=True,\n",
    "        ),\n",
    "        tf.keras.layers.LSTM(256, return_sequences=True),\n",
    "        tf.keras.layers.LSTM(128),\n",
    "        tf.keras.layers.Dense(df_y.shape[1]),\n",
    "    ]\n",
    ")\n",
    "callback = tf.keras.callbacks.EarlyStopping(\n",
    "    monitor=\"loss\", patience=10, restore_best_weights=True\n",
    ")\n",
    "opt = tf.keras.optimizers.Adam()\n",
    "model.compile(\n",
    "    optimizer=opt, loss=\"mse\", metrics=[\"mae\"],\n",
    ")\n",
    "model.summary()"
   ]
  },
  {
   "cell_type": "code",
   "execution_count": 24,
   "id": "6216dfcf-8f69-47d9-bf8e-ddef70bf8779",
   "metadata": {
    "execution": {
     "iopub.execute_input": "2021-11-11T18:01:41.357608Z",
     "iopub.status.busy": "2021-11-11T18:01:41.357511Z",
     "iopub.status.idle": "2021-11-11T18:10:06.243494Z",
     "shell.execute_reply": "2021-11-11T18:10:06.242003Z",
     "shell.execute_reply.started": "2021-11-11T18:01:41.357596Z"
    },
    "scrolled": true,
    "tags": []
   },
   "outputs": [
    {
     "name": "stdout",
     "output_type": "stream",
     "text": [
      "Epoch 1/1000\n"
     ]
    },
    {
     "name": "stderr",
     "output_type": "stream",
     "text": [
      "2021-11-11 19:01:44.167903: I tensorflow/stream_executor/cuda/cuda_dnn.cc:366] Loaded cuDNN version 8202\n"
     ]
    },
    {
     "name": "stdout",
     "output_type": "stream",
     "text": [
      "80/80 [==============================] - 7s 50ms/step - loss: 0.3427 - mae: 0.4596\n",
      "Epoch 2/1000\n",
      "80/80 [==============================] - 4s 48ms/step - loss: 0.2797 - mae: 0.4173\n",
      "Epoch 3/1000\n",
      "80/80 [==============================] - 4s 44ms/step - loss: 0.2583 - mae: 0.4016\n",
      "Epoch 4/1000\n",
      "80/80 [==============================] - 4s 47ms/step - loss: 0.2485 - mae: 0.3952\n",
      "Epoch 5/1000\n",
      "80/80 [==============================] - 4s 47ms/step - loss: 0.2345 - mae: 0.3809\n",
      "Epoch 6/1000\n",
      "80/80 [==============================] - 3s 38ms/step - loss: 0.2290 - mae: 0.3758\n",
      "Epoch 7/1000\n",
      "80/80 [==============================] - 4s 47ms/step - loss: 0.2339 - mae: 0.3795\n",
      "Epoch 8/1000\n",
      "80/80 [==============================] - 3s 36ms/step - loss: 0.2221 - mae: 0.3698\n",
      "Epoch 9/1000\n",
      "80/80 [==============================] - 3s 42ms/step - loss: 0.2173 - mae: 0.3644\n",
      "Epoch 10/1000\n",
      "80/80 [==============================] - 4s 45ms/step - loss: 0.2083 - mae: 0.3584\n",
      "Epoch 11/1000\n",
      "80/80 [==============================] - 4s 47ms/step - loss: 0.2006 - mae: 0.3522\n",
      "Epoch 12/1000\n",
      "80/80 [==============================] - 4s 45ms/step - loss: 0.2005 - mae: 0.3536\n",
      "Epoch 13/1000\n",
      "80/80 [==============================] - 4s 50ms/step - loss: 0.2085 - mae: 0.3579\n",
      "Epoch 14/1000\n",
      "80/80 [==============================] - 5s 61ms/step - loss: 0.1935 - mae: 0.3448\n",
      "Epoch 15/1000\n",
      "80/80 [==============================] - 4s 49ms/step - loss: 0.1776 - mae: 0.3309\n",
      "Epoch 16/1000\n",
      "80/80 [==============================] - 4s 51ms/step - loss: 0.1802 - mae: 0.3332\n",
      "Epoch 17/1000\n",
      "80/80 [==============================] - 5s 59ms/step - loss: 0.1979 - mae: 0.3491\n",
      "Epoch 18/1000\n",
      "80/80 [==============================] - 5s 59ms/step - loss: 0.1714 - mae: 0.3261\n",
      "Epoch 19/1000\n",
      "80/80 [==============================] - 5s 56ms/step - loss: 0.1370 - mae: 0.2925\n",
      "Epoch 20/1000\n",
      "80/80 [==============================] - 5s 59ms/step - loss: 0.1183 - mae: 0.2701\n",
      "Epoch 21/1000\n",
      "80/80 [==============================] - 5s 58ms/step - loss: 0.1017 - mae: 0.2504\n",
      "Epoch 22/1000\n",
      "80/80 [==============================] - 4s 54ms/step - loss: 0.0889 - mae: 0.2341\n",
      "Epoch 23/1000\n",
      "80/80 [==============================] - 5s 58ms/step - loss: 0.0762 - mae: 0.2170\n",
      "Epoch 24/1000\n",
      "80/80 [==============================] - 5s 59ms/step - loss: 0.0675 - mae: 0.2037\n",
      "Epoch 25/1000\n",
      "80/80 [==============================] - 5s 64ms/step - loss: 0.0582 - mae: 0.1891\n",
      "Epoch 26/1000\n",
      "80/80 [==============================] - 4s 55ms/step - loss: 0.0533 - mae: 0.1803\n",
      "Epoch 27/1000\n",
      "80/80 [==============================] - 5s 58ms/step - loss: 0.0474 - mae: 0.1700\n",
      "Epoch 28/1000\n",
      "80/80 [==============================] - 5s 58ms/step - loss: 0.0431 - mae: 0.1621\n",
      "Epoch 29/1000\n",
      "80/80 [==============================] - 4s 55ms/step - loss: 0.0374 - mae: 0.1508\n",
      "Epoch 30/1000\n",
      "80/80 [==============================] - 5s 57ms/step - loss: 0.0339 - mae: 0.1439\n",
      "Epoch 31/1000\n",
      "80/80 [==============================] - 5s 63ms/step - loss: 0.0328 - mae: 0.1413\n",
      "Epoch 32/1000\n",
      "80/80 [==============================] - 5s 58ms/step - loss: 0.0301 - mae: 0.1347\n",
      "Epoch 33/1000\n",
      "80/80 [==============================] - 5s 62ms/step - loss: 0.0282 - mae: 0.1296\n",
      "Epoch 34/1000\n",
      "80/80 [==============================] - 5s 61ms/step - loss: 0.0264 - mae: 0.1255\n",
      "Epoch 35/1000\n",
      "80/80 [==============================] - 5s 59ms/step - loss: 0.0245 - mae: 0.1210\n",
      "Epoch 36/1000\n",
      "80/80 [==============================] - 5s 59ms/step - loss: 0.0247 - mae: 0.1213\n",
      "Epoch 37/1000\n",
      "80/80 [==============================] - 5s 57ms/step - loss: 0.0224 - mae: 0.1156\n",
      "Epoch 38/1000\n",
      "80/80 [==============================] - 5s 62ms/step - loss: 0.0219 - mae: 0.1136\n",
      "Epoch 39/1000\n",
      "80/80 [==============================] - 5s 57ms/step - loss: 0.0217 - mae: 0.1129\n",
      "Epoch 40/1000\n",
      "80/80 [==============================] - 5s 59ms/step - loss: 0.0201 - mae: 0.1090\n",
      "Epoch 41/1000\n",
      "80/80 [==============================] - 5s 59ms/step - loss: 0.0189 - mae: 0.1062\n",
      "Epoch 42/1000\n",
      "80/80 [==============================] - 5s 61ms/step - loss: 0.0183 - mae: 0.1038\n",
      "Epoch 43/1000\n",
      "80/80 [==============================] - 5s 61ms/step - loss: 0.0176 - mae: 0.1021\n",
      "Epoch 44/1000\n",
      "80/80 [==============================] - 5s 56ms/step - loss: 0.0174 - mae: 0.1019\n",
      "Epoch 45/1000\n",
      "80/80 [==============================] - 5s 59ms/step - loss: 0.0175 - mae: 0.1018\n",
      "Epoch 46/1000\n",
      "80/80 [==============================] - 4s 54ms/step - loss: 0.0159 - mae: 0.0971\n",
      "Epoch 47/1000\n",
      "80/80 [==============================] - 4s 53ms/step - loss: 0.0157 - mae: 0.0963\n",
      "Epoch 48/1000\n",
      "80/80 [==============================] - 5s 57ms/step - loss: 0.0159 - mae: 0.0964\n",
      "Epoch 49/1000\n",
      "80/80 [==============================] - 5s 59ms/step - loss: 0.0147 - mae: 0.0931: \n",
      "Epoch 50/1000\n",
      "80/80 [==============================] - 4s 53ms/step - loss: 0.0136 - mae: 0.0899\n",
      "Epoch 51/1000\n",
      "80/80 [==============================] - 5s 60ms/step - loss: 0.0133 - mae: 0.0887\n",
      "Epoch 52/1000\n",
      "80/80 [==============================] - 5s 59ms/step - loss: 0.0128 - mae: 0.0875\n",
      "Epoch 53/1000\n",
      "80/80 [==============================] - 4s 55ms/step - loss: 0.0131 - mae: 0.0877\n",
      "Epoch 54/1000\n",
      "80/80 [==============================] - 5s 60ms/step - loss: 0.0125 - mae: 0.0860\n",
      "Epoch 55/1000\n",
      "80/80 [==============================] - 5s 59ms/step - loss: 0.0122 - mae: 0.0847\n",
      "Epoch 56/1000\n",
      "80/80 [==============================] - 5s 57ms/step - loss: 0.0118 - mae: 0.0837\n",
      "Epoch 57/1000\n",
      "80/80 [==============================] - 5s 57ms/step - loss: 0.0110 - mae: 0.0806\n",
      "Epoch 58/1000\n",
      "80/80 [==============================] - 5s 59ms/step - loss: 0.0114 - mae: 0.0819\n",
      "Epoch 59/1000\n",
      "80/80 [==============================] - 5s 59ms/step - loss: 0.0107 - mae: 0.0801\n",
      "Epoch 60/1000\n",
      "80/80 [==============================] - 4s 52ms/step - loss: 0.0097 - mae: 0.0759\n",
      "Epoch 61/1000\n",
      "80/80 [==============================] - 4s 53ms/step - loss: 0.0101 - mae: 0.0770\n",
      "Epoch 62/1000\n",
      "80/80 [==============================] - 4s 51ms/step - loss: 0.0103 - mae: 0.0776\n",
      "Epoch 63/1000\n",
      "80/80 [==============================] - 3s 43ms/step - loss: 0.0098 - mae: 0.0764\n",
      "Epoch 64/1000\n",
      "80/80 [==============================] - 5s 67ms/step - loss: 0.0087 - mae: 0.0720\n",
      "Epoch 65/1000\n",
      "80/80 [==============================] - 5s 64ms/step - loss: 0.0083 - mae: 0.0699\n",
      "Epoch 66/1000\n",
      "80/80 [==============================] - 5s 59ms/step - loss: 0.0083 - mae: 0.0703\n",
      "Epoch 67/1000\n",
      "80/80 [==============================] - 6s 69ms/step - loss: 0.0075 - mae: 0.0668\n",
      "Epoch 68/1000\n",
      "80/80 [==============================] - 5s 68ms/step - loss: 0.0071 - mae: 0.0655\n",
      "Epoch 69/1000\n",
      "80/80 [==============================] - 5s 60ms/step - loss: 0.0066 - mae: 0.0631\n",
      "Epoch 70/1000\n",
      "80/80 [==============================] - 6s 70ms/step - loss: 0.0058 - mae: 0.0595\n",
      "Epoch 71/1000\n",
      "80/80 [==============================] - 6s 70ms/step - loss: 0.0054 - mae: 0.0574\n",
      "Epoch 72/1000\n",
      "80/80 [==============================] - 5s 69ms/step - loss: 0.0051 - mae: 0.0558\n",
      "Epoch 73/1000\n",
      "80/80 [==============================] - 6s 69ms/step - loss: 0.0060 - mae: 0.0597\n",
      "Epoch 74/1000\n",
      "80/80 [==============================] - 6s 76ms/step - loss: 0.0056 - mae: 0.0583\n",
      "Epoch 75/1000\n",
      "80/80 [==============================] - 5s 63ms/step - loss: 0.0063 - mae: 0.0604\n",
      "Epoch 76/1000\n",
      "80/80 [==============================] - 5s 59ms/step - loss: 0.0060 - mae: 0.0599\n",
      "Epoch 77/1000\n",
      "80/80 [==============================] - 5s 64ms/step - loss: 0.0048 - mae: 0.0539\n",
      "Epoch 78/1000\n",
      "80/80 [==============================] - 5s 63ms/step - loss: 0.0043 - mae: 0.0512\n",
      "Epoch 79/1000\n",
      "80/80 [==============================] - 4s 53ms/step - loss: 0.0040 - mae: 0.0490\n",
      "Epoch 80/1000\n",
      "80/80 [==============================] - 4s 56ms/step - loss: 0.0033 - mae: 0.0445\n",
      "Epoch 81/1000\n",
      "80/80 [==============================] - 4s 53ms/step - loss: 0.0031 - mae: 0.0428\n",
      "Epoch 82/1000\n",
      "80/80 [==============================] - 3s 31ms/step - loss: 0.0026 - mae: 0.0398\n",
      "Epoch 83/1000\n",
      "80/80 [==============================] - 3s 35ms/step - loss: 0.0024 - mae: 0.0377\n",
      "Epoch 84/1000\n",
      "80/80 [==============================] - 4s 47ms/step - loss: 0.0026 - mae: 0.0387\n",
      "Epoch 85/1000\n",
      "80/80 [==============================] - 3s 34ms/step - loss: 0.0028 - mae: 0.0409\n",
      "Epoch 86/1000\n",
      "80/80 [==============================] - 3s 31ms/step - loss: 0.0027 - mae: 0.0399\n",
      "Epoch 87/1000\n",
      "80/80 [==============================] - 3s 34ms/step - loss: 0.0030 - mae: 0.0411\n",
      "Epoch 88/1000\n",
      "80/80 [==============================] - 3s 41ms/step - loss: 0.0025 - mae: 0.0382\n",
      "Epoch 89/1000\n",
      "80/80 [==============================] - 3s 34ms/step - loss: 0.0024 - mae: 0.0376\n",
      "Epoch 90/1000\n",
      "80/80 [==============================] - 5s 64ms/step - loss: 0.0021 - mae: 0.0353\n",
      "Epoch 91/1000\n",
      "80/80 [==============================] - 5s 58ms/step - loss: 0.0023 - mae: 0.0367\n",
      "Epoch 92/1000\n",
      "80/80 [==============================] - 5s 64ms/step - loss: 0.0022 - mae: 0.0360\n",
      "Epoch 93/1000\n",
      "80/80 [==============================] - 6s 71ms/step - loss: 0.0025 - mae: 0.0373\n",
      "Epoch 94/1000\n",
      "80/80 [==============================] - 6s 71ms/step - loss: 0.0039 - mae: 0.0464\n",
      "Epoch 95/1000\n",
      "80/80 [==============================] - 5s 64ms/step - loss: 0.0043 - mae: 0.0487\n",
      "Epoch 96/1000\n",
      "80/80 [==============================] - 6s 70ms/step - loss: 0.0029 - mae: 0.0406\n",
      "Epoch 97/1000\n",
      "80/80 [==============================] - 5s 67ms/step - loss: 0.0019 - mae: 0.0333\n",
      "Epoch 98/1000\n",
      "80/80 [==============================] - 6s 75ms/step - loss: 0.0015 - mae: 0.0290\n",
      "Epoch 99/1000\n",
      "80/80 [==============================] - 5s 66ms/step - loss: 0.0013 - mae: 0.0278\n",
      "Epoch 100/1000\n",
      "80/80 [==============================] - 6s 74ms/step - loss: 0.0011 - mae: 0.0254\n",
      "Epoch 101/1000\n",
      "80/80 [==============================] - 4s 51ms/step - loss: 0.0012 - mae: 0.0263\n",
      "Epoch 102/1000\n",
      "80/80 [==============================] - 5s 64ms/step - loss: 0.0012 - mae: 0.0269\n",
      "Epoch 103/1000\n",
      "80/80 [==============================] - 5s 64ms/step - loss: 0.0012 - mae: 0.0266\n",
      "Epoch 104/1000\n",
      "80/80 [==============================] - 5s 57ms/step - loss: 0.0016 - mae: 0.0305\n",
      "Epoch 105/1000\n",
      "80/80 [==============================] - 5s 62ms/step - loss: 0.0027 - mae: 0.0393\n",
      "Epoch 106/1000\n",
      "80/80 [==============================] - 5s 63ms/step - loss: 0.0026 - mae: 0.0387\n",
      "Epoch 107/1000\n",
      "80/80 [==============================] - 5s 68ms/step - loss: 0.0023 - mae: 0.0370\n",
      "Epoch 108/1000\n",
      "80/80 [==============================] - 6s 69ms/step - loss: 0.0022 - mae: 0.0357\n",
      "Epoch 109/1000\n",
      "80/80 [==============================] - 6s 70ms/step - loss: 0.0019 - mae: 0.0332\n",
      "Epoch 110/1000\n",
      "80/80 [==============================] - 5s 66ms/step - loss: 0.0015 - mae: 0.0298\n"
     ]
    },
    {
     "data": {
      "text/plain": [
       "<keras.callbacks.History at 0x7ff038052250>"
      ]
     },
     "execution_count": 24,
     "metadata": {},
     "output_type": "execute_result"
    }
   ],
   "source": [
    "model.fit(df_x[:-1], df_y[:-1], epochs=1000, callbacks=[callback])"
   ]
  },
  {
   "cell_type": "code",
   "execution_count": 25,
   "id": "0f9b6df4-7760-4ae8-85e5-9406a96d2f68",
   "metadata": {
    "execution": {
     "iopub.execute_input": "2021-11-11T18:10:06.245265Z",
     "iopub.status.busy": "2021-11-11T18:10:06.244901Z",
     "iopub.status.idle": "2021-11-11T18:10:06.251644Z",
     "shell.execute_reply": "2021-11-11T18:10:06.250335Z",
     "shell.execute_reply.started": "2021-11-11T18:10:06.245220Z"
    },
    "tags": []
   },
   "outputs": [],
   "source": [
    "# Reshape input in order to have a single example with `history_window` timestamp\n",
    "model_input = df_x[-1].reshape(1, history_window, 2)"
   ]
  },
  {
   "cell_type": "code",
   "execution_count": 26,
   "id": "e7543481-5243-4dc5-aa2d-7967820a6896",
   "metadata": {
    "execution": {
     "iopub.execute_input": "2021-11-11T18:10:06.253762Z",
     "iopub.status.busy": "2021-11-11T18:10:06.253362Z",
     "iopub.status.idle": "2021-11-11T18:10:06.960213Z",
     "shell.execute_reply": "2021-11-11T18:10:06.959810Z",
     "shell.execute_reply.started": "2021-11-11T18:10:06.253715Z"
    },
    "tags": []
   },
   "outputs": [],
   "source": [
    "model_prediction = model.predict(model_input).ravel()"
   ]
  },
  {
   "cell_type": "code",
   "execution_count": 27,
   "id": "f557bde3-7b78-4be8-8742-5aebc56fb858",
   "metadata": {
    "execution": {
     "iopub.execute_input": "2021-11-11T18:10:06.960850Z",
     "iopub.status.busy": "2021-11-11T18:10:06.960753Z",
     "iopub.status.idle": "2021-11-11T18:10:06.963590Z",
     "shell.execute_reply": "2021-11-11T18:10:06.963285Z",
     "shell.execute_reply.started": "2021-11-11T18:10:06.960838Z"
    },
    "tags": []
   },
   "outputs": [],
   "source": [
    "d = {\n",
    "    \"real_values\": scaler[\"T (degC)\"]\n",
    "    .inverse_transform(df_y[-1].reshape(-1, 1))\n",
    "    .ravel(),\n",
    "    \"model_values\": scaler[\"T (degC)\"]\n",
    "    .inverse_transform(model_prediction.reshape(-1, 1))\n",
    "    .ravel(),\n",
    "}"
   ]
  },
  {
   "cell_type": "code",
   "execution_count": 28,
   "id": "497af2a6-67e4-4f00-8d8b-e47801a6076a",
   "metadata": {
    "execution": {
     "iopub.execute_input": "2021-11-11T18:10:06.964211Z",
     "iopub.status.busy": "2021-11-11T18:10:06.964114Z",
     "iopub.status.idle": "2021-11-11T18:10:07.108741Z",
     "shell.execute_reply": "2021-11-11T18:10:07.108370Z",
     "shell.execute_reply.started": "2021-11-11T18:10:06.964199Z"
    },
    "tags": []
   },
   "outputs": [
    {
     "data": {
      "text/plain": [
       "<AxesSubplot:>"
      ]
     },
     "execution_count": 28,
     "metadata": {},
     "output_type": "execute_result"
    },
    {
     "data": {
      "image/png": "[encoded data removed]",
      "text/plain": [
       "<Figure size 432x288 with 1 Axes>"
      ]
     },
     "metadata": {
      "needs_background": "light"
     },
     "output_type": "display_data"
    }
   ],
   "source": [
    "pd.DataFrame(d).plot()"
   ]
  },
  {
   "cell_type": "code",
   "execution_count": 29,
   "id": "fe26af04-7fa7-48dd-b8aa-e4d05d270f3c",
   "metadata": {
    "execution": {
     "iopub.execute_input": "2021-11-11T18:10:07.109288Z",
     "iopub.status.busy": "2021-11-11T18:10:07.109188Z",
     "iopub.status.idle": "2021-11-11T18:10:07.796681Z",
     "shell.execute_reply": "2021-11-11T18:10:07.796247Z",
     "shell.execute_reply.started": "2021-11-11T18:10:07.109276Z"
    },
    "tags": []
   },
   "outputs": [],
   "source": [
    "model.save(\"my_model.h5\")\n",
    "model = tf.keras.models.load_model(\"my_model.h5\")"
   ]
  }
 ],
 "metadata": {
  "kernelspec": {
   "display_name": "Python 3 (ipykernel)",
   "language": "python",
   "name": "python3"
  },
  "language_info": {
   "codemirror_mode": {
    "name": "ipython",
    "version": 3
   },
   "file_extension": ".py",
   "mimetype": "text/x-python",
   "name": "python",
   "nbconvert_exporter": "python",
   "pygments_lexer": "ipython3",
   "version": "3.9.7"
  }
 },
 "nbformat": 4,
 "nbformat_minor": 5
}
