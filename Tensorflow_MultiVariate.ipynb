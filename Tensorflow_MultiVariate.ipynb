{
 "cells": [
  {
   "cell_type": "code",
   "execution_count": 64,
   "id": "d4f38aaa-05c8-4e51-9036-71b70536343d",
   "metadata": {
    "execution": {
     "iopub.execute_input": "2021-11-24T20:35:10.962312Z",
     "iopub.status.busy": "2021-11-24T20:35:10.962147Z",
     "iopub.status.idle": "2021-11-24T20:35:13.675493Z",
     "shell.execute_reply": "2021-11-24T20:35:13.673272Z",
     "shell.execute_reply.started": "2021-11-24T20:35:10.962285Z"
    },
    "scrolled": true,
    "tags": []
   },
   "outputs": [
    {
     "name": "stdout",
     "output_type": "stream",
     "text": [
      "Looking in indexes: https://test.pypi.org/simple/\n",
      "Requirement already satisfied: mlutils in /home/alessiosavi/anaconda3/envs/ml/lib/python3.9/site-packages (0.0.1rc12)\n",
      "Collecting mlutils\n",
      "  Downloading https://test-files.pythonhosted.org/packages/a9/d5/b4d3aa000687f3d763e31b89e606376aa6197370edd744758fcdf18be51a/mlutils-0.0.1-py3-none-any.whl (4.4 kB)\n",
      "Requirement already satisfied: tensorflow==2.7.0 in /home/alessiosavi/anaconda3/envs/ml/lib/python3.9/site-packages (from mlutils) (2.7.0)\n",
      "Requirement already satisfied: pandas==1.3.4 in /home/alessiosavi/anaconda3/envs/ml/lib/python3.9/site-packages (from mlutils) (1.3.4)\n",
      "Requirement already satisfied: numpy==1.21.4 in /home/alessiosavi/anaconda3/envs/ml/lib/python3.9/site-packages (from mlutils) (1.21.4)\n",
      "Requirement already satisfied: python-dateutil>=2.7.3 in /home/alessiosavi/anaconda3/envs/ml/lib/python3.9/site-packages (from pandas==1.3.4->mlutils) (2.8.2)\n",
      "Requirement already satisfied: pytz>=2017.3 in /home/alessiosavi/anaconda3/envs/ml/lib/python3.9/site-packages (from pandas==1.3.4->mlutils) (2021.3)\n",
      "Requirement already satisfied: six>=1.12.0 in /home/alessiosavi/anaconda3/envs/ml/lib/python3.9/site-packages (from tensorflow==2.7.0->mlutils) (1.16.0)\n",
      "Requirement already satisfied: gast<0.5.0,>=0.2.1 in /home/alessiosavi/anaconda3/envs/ml/lib/python3.9/site-packages (from tensorflow==2.7.0->mlutils) (0.4.0)\n",
      "Requirement already satisfied: opt-einsum>=2.3.2 in /home/alessiosavi/anaconda3/envs/ml/lib/python3.9/site-packages (from tensorflow==2.7.0->mlutils) (3.3.0)\n",
      "Requirement already satisfied: tensorflow-io-gcs-filesystem>=0.21.0 in /home/alessiosavi/anaconda3/envs/ml/lib/python3.9/site-packages (from tensorflow==2.7.0->mlutils) (0.21.0)\n",
      "Requirement already satisfied: protobuf>=3.9.2 in /home/alessiosavi/anaconda3/envs/ml/lib/python3.9/site-packages (from tensorflow==2.7.0->mlutils) (3.11.2)\n",
      "Requirement already satisfied: grpcio<2.0,>=1.24.3 in /home/alessiosavi/anaconda3/envs/ml/lib/python3.9/site-packages (from tensorflow==2.7.0->mlutils) (1.39.0)\n",
      "Requirement already satisfied: google-pasta>=0.1.1 in /home/alessiosavi/anaconda3/envs/ml/lib/python3.9/site-packages (from tensorflow==2.7.0->mlutils) (0.2.0)\n",
      "Requirement already satisfied: tensorboard~=2.6 in /home/alessiosavi/anaconda3/envs/ml/lib/python3.9/site-packages (from tensorflow==2.7.0->mlutils) (2.6.0)\n",
      "Requirement already satisfied: flatbuffers<3.0,>=1.12 in /home/alessiosavi/anaconda3/envs/ml/lib/python3.9/site-packages (from tensorflow==2.7.0->mlutils) (1.12)\n",
      "Requirement already satisfied: typing-extensions>=3.6.6 in /home/alessiosavi/anaconda3/envs/ml/lib/python3.9/site-packages (from tensorflow==2.7.0->mlutils) (3.10.0.2)\n",
      "Requirement already satisfied: absl-py>=0.4.0 in /home/alessiosavi/anaconda3/envs/ml/lib/python3.9/site-packages (from tensorflow==2.7.0->mlutils) (0.13.0)\n",
      "Requirement already satisfied: wrapt>=1.11.0 in /home/alessiosavi/anaconda3/envs/ml/lib/python3.9/site-packages (from tensorflow==2.7.0->mlutils) (1.12.1)\n",
      "Requirement already satisfied: keras<2.8,>=2.7.0rc0 in /home/alessiosavi/anaconda3/envs/ml/lib/python3.9/site-packages (from tensorflow==2.7.0->mlutils) (2.7.0)\n",
      "Requirement already satisfied: libclang>=9.0.1 in /home/alessiosavi/anaconda3/envs/ml/lib/python3.9/site-packages (from tensorflow==2.7.0->mlutils) (12.0.0)\n",
      "Requirement already satisfied: wheel<1.0,>=0.32.0 in /home/alessiosavi/anaconda3/envs/ml/lib/python3.9/site-packages (from tensorflow==2.7.0->mlutils) (0.37.0)\n",
      "Requirement already satisfied: termcolor>=1.1.0 in /home/alessiosavi/anaconda3/envs/ml/lib/python3.9/site-packages (from tensorflow==2.7.0->mlutils) (1.1.0)\n",
      "Requirement already satisfied: astunparse>=1.6.0 in /home/alessiosavi/anaconda3/envs/ml/lib/python3.9/site-packages (from tensorflow==2.7.0->mlutils) (1.6.3)\n",
      "Requirement already satisfied: tensorflow-estimator<2.8,~=2.7.0rc0 in /home/alessiosavi/anaconda3/envs/ml/lib/python3.9/site-packages (from tensorflow==2.7.0->mlutils) (2.7.0)\n",
      "Requirement already satisfied: keras-preprocessing>=1.1.1 in /home/alessiosavi/anaconda3/envs/ml/lib/python3.9/site-packages (from tensorflow==2.7.0->mlutils) (1.1.2)\n",
      "Requirement already satisfied: h5py>=2.9.0 in /home/alessiosavi/anaconda3/envs/ml/lib/python3.9/site-packages (from tensorflow==2.7.0->mlutils) (3.1.0)\n",
      "Requirement already satisfied: setuptools in /home/alessiosavi/anaconda3/envs/ml/lib/python3.9/site-packages (from protobuf>=3.9.2->tensorflow==2.7.0->mlutils) (58.0.4)\n",
      "Requirement already satisfied: requests<3,>=2.21.0 in /home/alessiosavi/anaconda3/envs/ml/lib/python3.9/site-packages (from tensorboard~=2.6->tensorflow==2.7.0->mlutils) (2.26.0)\n",
      "Requirement already satisfied: werkzeug>=0.11.15 in /home/alessiosavi/anaconda3/envs/ml/lib/python3.9/site-packages (from tensorboard~=2.6->tensorflow==2.7.0->mlutils) (2.0.1)\n",
      "Requirement already satisfied: markdown>=2.6.8 in /home/alessiosavi/anaconda3/envs/ml/lib/python3.9/site-packages (from tensorboard~=2.6->tensorflow==2.7.0->mlutils) (3.3.4)\n",
      "Requirement already satisfied: google-auth-oauthlib<0.5,>=0.4.1 in /home/alessiosavi/anaconda3/envs/ml/lib/python3.9/site-packages (from tensorboard~=2.6->tensorflow==2.7.0->mlutils) (0.4.6)\n",
      "Requirement already satisfied: tensorboard-data-server<0.7.0,>=0.6.0 in /home/alessiosavi/anaconda3/envs/ml/lib/python3.9/site-packages (from tensorboard~=2.6->tensorflow==2.7.0->mlutils) (0.6.1)\n",
      "Requirement already satisfied: tensorboard-plugin-wit>=1.6.0 in /home/alessiosavi/anaconda3/envs/ml/lib/python3.9/site-packages (from tensorboard~=2.6->tensorflow==2.7.0->mlutils) (1.8.0)\n",
      "Requirement already satisfied: google-auth<2,>=1.6.3 in /home/alessiosavi/anaconda3/envs/ml/lib/python3.9/site-packages (from tensorboard~=2.6->tensorflow==2.7.0->mlutils) (1.35.0)\n",
      "Requirement already satisfied: cachetools<5.0,>=2.0.0 in /home/alessiosavi/anaconda3/envs/ml/lib/python3.9/site-packages (from google-auth<2,>=1.6.3->tensorboard~=2.6->tensorflow==2.7.0->mlutils) (4.2.2)\n",
      "Requirement already satisfied: pyasn1-modules>=0.2.1 in /home/alessiosavi/anaconda3/envs/ml/lib/python3.9/site-packages (from google-auth<2,>=1.6.3->tensorboard~=2.6->tensorflow==2.7.0->mlutils) (0.2.8)\n",
      "Requirement already satisfied: rsa<5,>=3.1.4 in /home/alessiosavi/anaconda3/envs/ml/lib/python3.9/site-packages (from google-auth<2,>=1.6.3->tensorboard~=2.6->tensorflow==2.7.0->mlutils) (4.7.2)\n",
      "Requirement already satisfied: requests-oauthlib>=0.7.0 in /home/alessiosavi/anaconda3/envs/ml/lib/python3.9/site-packages (from google-auth-oauthlib<0.5,>=0.4.1->tensorboard~=2.6->tensorflow==2.7.0->mlutils) (1.3.0)\n",
      "Requirement already satisfied: pyasn1<0.5.0,>=0.4.6 in /home/alessiosavi/anaconda3/envs/ml/lib/python3.9/site-packages (from pyasn1-modules>=0.2.1->google-auth<2,>=1.6.3->tensorboard~=2.6->tensorflow==2.7.0->mlutils) (0.4.8)\n",
      "Requirement already satisfied: charset-normalizer~=2.0.0 in /home/alessiosavi/anaconda3/envs/ml/lib/python3.9/site-packages (from requests<3,>=2.21.0->tensorboard~=2.6->tensorflow==2.7.0->mlutils) (2.0.4)\n",
      "Requirement already satisfied: idna<4,>=2.5 in /home/alessiosavi/anaconda3/envs/ml/lib/python3.9/site-packages (from requests<3,>=2.21.0->tensorboard~=2.6->tensorflow==2.7.0->mlutils) (3.2)\n",
      "Requirement already satisfied: urllib3<1.27,>=1.21.1 in /home/alessiosavi/anaconda3/envs/ml/lib/python3.9/site-packages (from requests<3,>=2.21.0->tensorboard~=2.6->tensorflow==2.7.0->mlutils) (1.26.7)\n",
      "Requirement already satisfied: certifi>=2017.4.17 in /home/alessiosavi/anaconda3/envs/ml/lib/python3.9/site-packages (from requests<3,>=2.21.0->tensorboard~=2.6->tensorflow==2.7.0->mlutils) (2021.10.8)\n",
      "Requirement already satisfied: oauthlib>=3.0.0 in /home/alessiosavi/anaconda3/envs/ml/lib/python3.9/site-packages (from requests-oauthlib>=0.7.0->google-auth-oauthlib<0.5,>=0.4.1->tensorboard~=2.6->tensorflow==2.7.0->mlutils) (3.1.1)\n"
     ]
    }
   ],
   "source": [
    "!pip install -i https://test.pypi.org/simple/ mlutils --upgrade"
   ]
  },
  {
   "cell_type": "code",
   "execution_count": 65,
   "id": "d0c0ab37-18d7-4388-bbcf-44418efb2d6a",
   "metadata": {
    "execution": {
     "iopub.execute_input": "2021-11-24T20:35:13.679897Z",
     "iopub.status.busy": "2021-11-24T20:35:13.679326Z",
     "iopub.status.idle": "2021-11-24T20:35:13.687579Z",
     "shell.execute_reply": "2021-11-24T20:35:13.687132Z",
     "shell.execute_reply.started": "2021-11-24T20:35:13.679829Z"
    },
    "tags": []
   },
   "outputs": [],
   "source": [
    "from importlib import reload\n",
    "\n",
    "import pandas as pd\n",
    "from mlutils.preprocessing import preprocessing\n",
    "from mlutils.tensorflowutils import tensorflowutils"
   ]
  },
  {
   "cell_type": "code",
   "execution_count": 66,
   "id": "37c88172-f268-44ea-aca0-5cf27463f276",
   "metadata": {
    "execution": {
     "iopub.execute_input": "2021-11-24T20:35:13.688232Z",
     "iopub.status.busy": "2021-11-24T20:35:13.688115Z",
     "iopub.status.idle": "2021-11-24T20:35:13.707820Z",
     "shell.execute_reply": "2021-11-24T20:35:13.707408Z",
     "shell.execute_reply.started": "2021-11-24T20:35:13.688219Z"
    },
    "tags": []
   },
   "outputs": [
    {
     "data": {
      "text/plain": [
       "<module 'mlutils.tensorflowutils.tensorflowutils' from '/home/alessiosavi/anaconda3/envs/ml/lib/python3.9/site-packages/mlutils/tensorflowutils/tensorflowutils.py'>"
      ]
     },
     "execution_count": 66,
     "metadata": {},
     "output_type": "execute_result"
    }
   ],
   "source": [
    "reload(preprocessing)\n",
    "reload(tensorflowutils)"
   ]
  },
  {
   "cell_type": "code",
   "execution_count": 4,
   "id": "460179f3-2a55-48e1-ab1c-2d34b1e980e0",
   "metadata": {
    "execution": {
     "iopub.execute_input": "2021-11-24T20:19:44.215526Z",
     "iopub.status.busy": "2021-11-24T20:19:44.215364Z",
     "iopub.status.idle": "2021-11-24T20:19:44.837505Z",
     "shell.execute_reply": "2021-11-24T20:19:44.837116Z",
     "shell.execute_reply.started": "2021-11-24T20:19:44.215511Z"
    },
    "tags": []
   },
   "outputs": [],
   "source": [
    "df = pd.read_csv(\n",
    "    \"dataset/jena_climate_2009_2016.zip\", compression=\"zip\", low_memory=False\n",
    ")"
   ]
  },
  {
   "cell_type": "code",
   "execution_count": 5,
   "id": "cc122476-14fd-4319-9b42-b3e3bab2964a",
   "metadata": {
    "execution": {
     "iopub.execute_input": "2021-11-24T20:19:44.837976Z",
     "iopub.status.busy": "2021-11-24T20:19:44.837883Z",
     "iopub.status.idle": "2021-11-24T20:19:44.852565Z",
     "shell.execute_reply": "2021-11-24T20:19:44.852187Z",
     "shell.execute_reply.started": "2021-11-24T20:19:44.837964Z"
    },
    "tags": []
   },
   "outputs": [
    {
     "data": {
      "text/html": [
       "<div>\n",
       "<style scoped>\n",
       "    .dataframe tbody tr th:only-of-type {\n",
       "        vertical-align: middle;\n",
       "    }\n",
       "\n",
       "    .dataframe tbody tr th {\n",
       "        vertical-align: top;\n",
       "    }\n",
       "\n",
       "    .dataframe thead th {\n",
       "        text-align: right;\n",
       "    }\n",
       "</style>\n",
       "<table border=\"1\" class=\"dataframe\">\n",
       "  <thead>\n",
       "    <tr style=\"text-align: right;\">\n",
       "      <th></th>\n",
       "      <th>Date Time</th>\n",
       "      <th>T (degC)</th>\n",
       "      <th>rh (%)</th>\n",
       "    </tr>\n",
       "  </thead>\n",
       "  <tbody>\n",
       "    <tr>\n",
       "      <th>0</th>\n",
       "      <td>01.01.2009 00:10:00</td>\n",
       "      <td>-8.02</td>\n",
       "      <td>93.3</td>\n",
       "    </tr>\n",
       "    <tr>\n",
       "      <th>1</th>\n",
       "      <td>01.01.2009 00:20:00</td>\n",
       "      <td>-8.41</td>\n",
       "      <td>93.4</td>\n",
       "    </tr>\n",
       "    <tr>\n",
       "      <th>2</th>\n",
       "      <td>01.01.2009 00:30:00</td>\n",
       "      <td>-8.51</td>\n",
       "      <td>93.9</td>\n",
       "    </tr>\n",
       "    <tr>\n",
       "      <th>3</th>\n",
       "      <td>01.01.2009 00:40:00</td>\n",
       "      <td>-8.31</td>\n",
       "      <td>94.2</td>\n",
       "    </tr>\n",
       "    <tr>\n",
       "      <th>4</th>\n",
       "      <td>01.01.2009 00:50:00</td>\n",
       "      <td>-8.27</td>\n",
       "      <td>94.1</td>\n",
       "    </tr>\n",
       "  </tbody>\n",
       "</table>\n",
       "</div>"
      ],
      "text/plain": [
       "             Date Time  T (degC)  rh (%)\n",
       "0  01.01.2009 00:10:00     -8.02    93.3\n",
       "1  01.01.2009 00:20:00     -8.41    93.4\n",
       "2  01.01.2009 00:30:00     -8.51    93.9\n",
       "3  01.01.2009 00:40:00     -8.31    94.2\n",
       "4  01.01.2009 00:50:00     -8.27    94.1"
      ]
     },
     "execution_count": 5,
     "metadata": {},
     "output_type": "execute_result"
    }
   ],
   "source": [
    "df = df[[\"Date Time\", \"T (degC)\", \"rh (%)\"]]\n",
    "df.head()"
   ]
  },
  {
   "cell_type": "code",
   "execution_count": 6,
   "id": "04d84fbd-cf15-49da-915f-75e1e24072d5",
   "metadata": {
    "execution": {
     "iopub.execute_input": "2021-11-24T20:19:44.853075Z",
     "iopub.status.busy": "2021-11-24T20:19:44.852981Z",
     "iopub.status.idle": "2021-11-24T20:19:45.706781Z",
     "shell.execute_reply": "2021-11-24T20:19:45.706400Z",
     "shell.execute_reply.started": "2021-11-24T20:19:44.853064Z"
    },
    "tags": []
   },
   "outputs": [],
   "source": [
    "df = preprocessing.set_time_index(df, \"Date Time\", time_format=\"%d.%m.%Y %H:%M:%S\")\n",
    "del df[\"Date Time\"]"
   ]
  },
  {
   "cell_type": "code",
   "execution_count": 7,
   "id": "258cc286-438f-447b-9086-00da69683c7e",
   "metadata": {
    "execution": {
     "iopub.execute_input": "2021-11-24T20:19:45.707301Z",
     "iopub.status.busy": "2021-11-24T20:19:45.707209Z",
     "iopub.status.idle": "2021-11-24T20:19:45.732928Z",
     "shell.execute_reply": "2021-11-24T20:19:45.732520Z",
     "shell.execute_reply.started": "2021-11-24T20:19:45.707289Z"
    },
    "tags": []
   },
   "outputs": [
    {
     "name": "stdout",
     "output_type": "stream",
     "text": [
      "<class 'pandas.core.frame.DataFrame'>\n",
      "DatetimeIndex: 420551 entries, 2009-01-01 00:10:00 to 2017-01-01 00:00:00\n",
      "Data columns (total 2 columns):\n",
      " #   Column    Non-Null Count   Dtype  \n",
      "---  ------    --------------   -----  \n",
      " 0   T (degC)  420551 non-null  float64\n",
      " 1   rh (%)    420551 non-null  float64\n",
      "dtypes: float64(2)\n",
      "memory usage: 9.6 MB\n"
     ]
    }
   ],
   "source": [
    "df.info(verbose=True, memory_usage=True, show_counts=True)"
   ]
  },
  {
   "cell_type": "code",
   "execution_count": 8,
   "id": "4d2e6e43-5f20-4fe1-96fc-f8c9e719880d",
   "metadata": {
    "execution": {
     "iopub.execute_input": "2021-11-24T20:19:45.733512Z",
     "iopub.status.busy": "2021-11-24T20:19:45.733377Z",
     "iopub.status.idle": "2021-11-24T20:19:45.742695Z",
     "shell.execute_reply": "2021-11-24T20:19:45.742329Z",
     "shell.execute_reply.started": "2021-11-24T20:19:45.733499Z"
    },
    "tags": []
   },
   "outputs": [
    {
     "data": {
      "text/html": [
       "<div>\n",
       "<style scoped>\n",
       "    .dataframe tbody tr th:only-of-type {\n",
       "        vertical-align: middle;\n",
       "    }\n",
       "\n",
       "    .dataframe tbody tr th {\n",
       "        vertical-align: top;\n",
       "    }\n",
       "\n",
       "    .dataframe thead th {\n",
       "        text-align: right;\n",
       "    }\n",
       "</style>\n",
       "<table border=\"1\" class=\"dataframe\">\n",
       "  <thead>\n",
       "    <tr style=\"text-align: right;\">\n",
       "      <th></th>\n",
       "      <th>T (degC)</th>\n",
       "      <th>rh (%)</th>\n",
       "    </tr>\n",
       "    <tr>\n",
       "      <th>Date Time</th>\n",
       "      <th></th>\n",
       "      <th></th>\n",
       "    </tr>\n",
       "  </thead>\n",
       "  <tbody>\n",
       "    <tr>\n",
       "      <th>2009-01-01 00:10:00</th>\n",
       "      <td>-8.02</td>\n",
       "      <td>93.3</td>\n",
       "    </tr>\n",
       "    <tr>\n",
       "      <th>2009-01-01 00:20:00</th>\n",
       "      <td>-8.41</td>\n",
       "      <td>93.4</td>\n",
       "    </tr>\n",
       "    <tr>\n",
       "      <th>2009-01-01 00:30:00</th>\n",
       "      <td>-8.51</td>\n",
       "      <td>93.9</td>\n",
       "    </tr>\n",
       "    <tr>\n",
       "      <th>2009-01-01 00:40:00</th>\n",
       "      <td>-8.31</td>\n",
       "      <td>94.2</td>\n",
       "    </tr>\n",
       "    <tr>\n",
       "      <th>2009-01-01 00:50:00</th>\n",
       "      <td>-8.27</td>\n",
       "      <td>94.1</td>\n",
       "    </tr>\n",
       "  </tbody>\n",
       "</table>\n",
       "</div>"
      ],
      "text/plain": [
       "                     T (degC)  rh (%)\n",
       "Date Time                            \n",
       "2009-01-01 00:10:00     -8.02    93.3\n",
       "2009-01-01 00:20:00     -8.41    93.4\n",
       "2009-01-01 00:30:00     -8.51    93.9\n",
       "2009-01-01 00:40:00     -8.31    94.2\n",
       "2009-01-01 00:50:00     -8.27    94.1"
      ]
     },
     "execution_count": 8,
     "metadata": {},
     "output_type": "execute_result"
    }
   ],
   "source": [
    "df.head()"
   ]
  },
  {
   "cell_type": "code",
   "execution_count": 9,
   "id": "8c23fed6-e860-45fd-9072-8645c07457e3",
   "metadata": {
    "execution": {
     "iopub.execute_input": "2021-11-24T20:19:45.743310Z",
     "iopub.status.busy": "2021-11-24T20:19:45.743195Z",
     "iopub.status.idle": "2021-11-24T20:19:45.834283Z",
     "shell.execute_reply": "2021-11-24T20:19:45.833866Z",
     "shell.execute_reply.started": "2021-11-24T20:19:45.743297Z"
    },
    "tags": []
   },
   "outputs": [
    {
     "name": "stdout",
     "output_type": "stream",
     "text": [
      "<class 'pandas.core.frame.DataFrame'>\n",
      "DatetimeIndex: 2923 entries, 2009-01-01 to 2017-01-01\n",
      "Freq: 86400S\n",
      "Data columns (total 2 columns):\n",
      " #   Column    Non-Null Count  Dtype  \n",
      "---  ------    --------------  -----  \n",
      " 0   T (degC)  2923 non-null   float64\n",
      " 1   rh (%)    2923 non-null   float64\n",
      "dtypes: float64(2)\n",
      "memory usage: 68.5 KB\n"
     ]
    }
   ],
   "source": [
    "df = preprocessing.resample_df(df, 86400)\n",
    "df.info(verbose=True, memory_usage=True, show_counts=True)"
   ]
  },
  {
   "cell_type": "code",
   "execution_count": 10,
   "id": "5781098a-cc9f-4bf6-841c-01a65bb40e53",
   "metadata": {
    "execution": {
     "iopub.execute_input": "2021-11-24T20:19:45.834902Z",
     "iopub.status.busy": "2021-11-24T20:19:45.834758Z",
     "iopub.status.idle": "2021-11-24T20:19:46.232777Z",
     "shell.execute_reply": "2021-11-24T20:19:46.232372Z",
     "shell.execute_reply.started": "2021-11-24T20:19:45.834886Z"
    },
    "tags": []
   },
   "outputs": [
    {
     "data": {
      "image/png": "[encoded data removed]",
      "text/plain": [
       "<Figure size 1440x360 with 1 Axes>"
      ]
     },
     "metadata": {
      "needs_background": "light"
     },
     "output_type": "display_data"
    },
    {
     "data": {
      "image/png": "[encoded data removed]",
      "text/plain": [
       "<Figure size 1440x360 with 1 Axes>"
      ]
     },
     "metadata": {
      "needs_background": "light"
     },
     "output_type": "display_data"
    }
   ],
   "source": [
    "import matplotlib.pyplot as plt\n",
    "\n",
    "for i in df.columns:\n",
    "    plt.figure(figsize=(20, 5))\n",
    "    plt.title(i)\n",
    "    plt.plot(df[i])"
   ]
  },
  {
   "cell_type": "code",
   "execution_count": 11,
   "id": "e5f730e5-736c-425a-9d87-3ac5495ebf3a",
   "metadata": {
    "execution": {
     "iopub.execute_input": "2021-11-24T20:19:46.233339Z",
     "iopub.status.busy": "2021-11-24T20:19:46.233239Z",
     "iopub.status.idle": "2021-11-24T20:19:46.241433Z",
     "shell.execute_reply": "2021-11-24T20:19:46.241135Z",
     "shell.execute_reply.started": "2021-11-24T20:19:46.233327Z"
    },
    "tags": []
   },
   "outputs": [
    {
     "data": {
      "text/html": [
       "<div>\n",
       "<style scoped>\n",
       "    .dataframe tbody tr th:only-of-type {\n",
       "        vertical-align: middle;\n",
       "    }\n",
       "\n",
       "    .dataframe tbody tr th {\n",
       "        vertical-align: top;\n",
       "    }\n",
       "\n",
       "    .dataframe thead th {\n",
       "        text-align: right;\n",
       "    }\n",
       "</style>\n",
       "<table border=\"1\" class=\"dataframe\">\n",
       "  <thead>\n",
       "    <tr style=\"text-align: right;\">\n",
       "      <th></th>\n",
       "      <th>T (degC)</th>\n",
       "      <th>rh (%)</th>\n",
       "    </tr>\n",
       "  </thead>\n",
       "  <tbody>\n",
       "    <tr>\n",
       "      <th>count</th>\n",
       "      <td>2923.000000</td>\n",
       "      <td>2923.000000</td>\n",
       "    </tr>\n",
       "    <tr>\n",
       "      <th>mean</th>\n",
       "      <td>9.438695</td>\n",
       "      <td>76.043056</td>\n",
       "    </tr>\n",
       "    <tr>\n",
       "      <th>std</th>\n",
       "      <td>7.836859</td>\n",
       "      <td>11.375917</td>\n",
       "    </tr>\n",
       "    <tr>\n",
       "      <th>min</th>\n",
       "      <td>-16.457292</td>\n",
       "      <td>37.580347</td>\n",
       "    </tr>\n",
       "    <tr>\n",
       "      <th>25%</th>\n",
       "      <td>3.811007</td>\n",
       "      <td>67.691319</td>\n",
       "    </tr>\n",
       "    <tr>\n",
       "      <th>50%</th>\n",
       "      <td>9.708333</td>\n",
       "      <td>76.988472</td>\n",
       "    </tr>\n",
       "    <tr>\n",
       "      <th>75%</th>\n",
       "      <td>15.419062</td>\n",
       "      <td>84.577604</td>\n",
       "    </tr>\n",
       "    <tr>\n",
       "      <th>max</th>\n",
       "      <td>29.375347</td>\n",
       "      <td>100.000000</td>\n",
       "    </tr>\n",
       "  </tbody>\n",
       "</table>\n",
       "</div>"
      ],
      "text/plain": [
       "          T (degC)       rh (%)\n",
       "count  2923.000000  2923.000000\n",
       "mean      9.438695    76.043056\n",
       "std       7.836859    11.375917\n",
       "min     -16.457292    37.580347\n",
       "25%       3.811007    67.691319\n",
       "50%       9.708333    76.988472\n",
       "75%      15.419062    84.577604\n",
       "max      29.375347   100.000000"
      ]
     },
     "execution_count": 11,
     "metadata": {},
     "output_type": "execute_result"
    }
   ],
   "source": [
    "df.describe()"
   ]
  },
  {
   "cell_type": "markdown",
   "id": "e329577a-b8ce-440c-90aa-dfb06eabc4f0",
   "metadata": {},
   "source": [
    "# TENSORFLOW"
   ]
  },
  {
   "cell_type": "code",
   "execution_count": 12,
   "id": "f9ae46a7-ce59-44b5-a49d-d4fe46dde903",
   "metadata": {
    "execution": {
     "iopub.execute_input": "2021-11-24T20:19:46.242883Z",
     "iopub.status.busy": "2021-11-24T20:19:46.242733Z",
     "iopub.status.idle": "2021-11-24T20:19:46.278590Z",
     "shell.execute_reply": "2021-11-24T20:19:46.278312Z",
     "shell.execute_reply.started": "2021-11-24T20:19:46.242870Z"
    },
    "tags": []
   },
   "outputs": [
    {
     "name": "stdout",
     "output_type": "stream",
     "text": [
      "INFO:tensorflow:Mixed precision compatibility check (mixed_float16): OK\n",
      "Your GPU will likely run quickly with dtype policy mixed_float16 as it has compute capability of at least 7.0. Your GPU: NVIDIA GeForce RTX 2080 Ti, compute capability 7.5\n"
     ]
    },
    {
     "name": "stderr",
     "output_type": "stream",
     "text": [
      "2021-11-24 21:19:46.271300: I tensorflow/stream_executor/cuda/cuda_gpu_executor.cc:939] successful NUMA node read from SysFS had negative value (-1), but there must be at least one NUMA node, so returning NUMA node zero\n",
      "2021-11-24 21:19:46.275244: I tensorflow/stream_executor/cuda/cuda_gpu_executor.cc:939] successful NUMA node read from SysFS had negative value (-1), but there must be at least one NUMA node, so returning NUMA node zero\n",
      "2021-11-24 21:19:46.275533: I tensorflow/stream_executor/cuda/cuda_gpu_executor.cc:939] successful NUMA node read from SysFS had negative value (-1), but there must be at least one NUMA node, so returning NUMA node zero\n",
      "2021-11-24 21:19:46.276107: I tensorflow/stream_executor/cuda/cuda_gpu_executor.cc:939] successful NUMA node read from SysFS had negative value (-1), but there must be at least one NUMA node, so returning NUMA node zero\n"
     ]
    }
   ],
   "source": [
    "import tensorflow as tf\n",
    "from tensorflow.keras import mixed_precision\n",
    "\n",
    "policy = mixed_precision.Policy(\"mixed_float16\")\n",
    "mixed_precision.set_global_policy(policy)"
   ]
  },
  {
   "cell_type": "code",
   "execution_count": 13,
   "id": "f8fa982d-6acd-4680-8a55-5b0bd3317fc5",
   "metadata": {
    "execution": {
     "iopub.execute_input": "2021-11-24T20:19:46.279087Z",
     "iopub.status.busy": "2021-11-24T20:19:46.278992Z",
     "iopub.status.idle": "2021-11-24T20:19:46.296882Z",
     "shell.execute_reply": "2021-11-24T20:19:46.296476Z",
     "shell.execute_reply.started": "2021-11-24T20:19:46.279076Z"
    },
    "tags": []
   },
   "outputs": [
    {
     "data": {
      "text/html": [
       "<div>\n",
       "<style scoped>\n",
       "    .dataframe tbody tr th:only-of-type {\n",
       "        vertical-align: middle;\n",
       "    }\n",
       "\n",
       "    .dataframe tbody tr th {\n",
       "        vertical-align: top;\n",
       "    }\n",
       "\n",
       "    .dataframe thead th {\n",
       "        text-align: right;\n",
       "    }\n",
       "</style>\n",
       "<table border=\"1\" class=\"dataframe\">\n",
       "  <thead>\n",
       "    <tr style=\"text-align: right;\">\n",
       "      <th></th>\n",
       "      <th>T (degC)</th>\n",
       "      <th>rh (%)</th>\n",
       "    </tr>\n",
       "    <tr>\n",
       "      <th>Date Time</th>\n",
       "      <th></th>\n",
       "      <th></th>\n",
       "    </tr>\n",
       "  </thead>\n",
       "  <tbody>\n",
       "    <tr>\n",
       "      <th>2009-01-01</th>\n",
       "      <td>-6.810629</td>\n",
       "      <td>91.086014</td>\n",
       "    </tr>\n",
       "    <tr>\n",
       "      <th>2009-01-02</th>\n",
       "      <td>-3.728194</td>\n",
       "      <td>92.086806</td>\n",
       "    </tr>\n",
       "    <tr>\n",
       "      <th>2009-01-03</th>\n",
       "      <td>-5.271736</td>\n",
       "      <td>76.458056</td>\n",
       "    </tr>\n",
       "    <tr>\n",
       "      <th>2009-01-04</th>\n",
       "      <td>-1.375208</td>\n",
       "      <td>89.417361</td>\n",
       "    </tr>\n",
       "    <tr>\n",
       "      <th>2009-01-05</th>\n",
       "      <td>-4.867153</td>\n",
       "      <td>86.260417</td>\n",
       "    </tr>\n",
       "  </tbody>\n",
       "</table>\n",
       "</div>"
      ],
      "text/plain": [
       "            T (degC)     rh (%)\n",
       "Date Time                      \n",
       "2009-01-01 -6.810629  91.086014\n",
       "2009-01-02 -3.728194  92.086806\n",
       "2009-01-03 -5.271736  76.458056\n",
       "2009-01-04 -1.375208  89.417361\n",
       "2009-01-05 -4.867153  86.260417"
      ]
     },
     "execution_count": 13,
     "metadata": {},
     "output_type": "execute_result"
    }
   ],
   "source": [
    "df.head()"
   ]
  },
  {
   "cell_type": "markdown",
   "id": "d5aca4e5-f171-44a8-b7fb-23da9a05f69e",
   "metadata": {},
   "source": [
    "## Scale data"
   ]
  },
  {
   "cell_type": "code",
   "execution_count": 14,
   "id": "b083494a-672d-4fb4-8f61-1fbd9b9d11ba",
   "metadata": {
    "execution": {
     "iopub.execute_input": "2021-11-24T20:19:46.297423Z",
     "iopub.status.busy": "2021-11-24T20:19:46.297326Z",
     "iopub.status.idle": "2021-11-24T20:19:46.433138Z",
     "shell.execute_reply": "2021-11-24T20:19:46.432740Z",
     "shell.execute_reply.started": "2021-11-24T20:19:46.297411Z"
    },
    "tags": []
   },
   "outputs": [],
   "source": [
    "from sklearn.preprocessing import StandardScaler\n",
    "\n",
    "scaler = {}\n",
    "columns = {}\n",
    "for column in df.columns:\n",
    "    sc = StandardScaler()\n",
    "    scaler[column] = sc\n",
    "    df_scaled = sc.fit_transform(df[column].to_numpy().reshape(-1, 1))\n",
    "    columns[column] = df_scaled.ravel()\n",
    "# df_scaled = pd.DataFrame(df_scaled, columns=df.columns)"
   ]
  },
  {
   "cell_type": "code",
   "execution_count": 15,
   "id": "9d746d45-8c97-44a3-89fa-c539ad2593b9",
   "metadata": {
    "execution": {
     "iopub.execute_input": "2021-11-24T20:19:46.433731Z",
     "iopub.status.busy": "2021-11-24T20:19:46.433629Z",
     "iopub.status.idle": "2021-11-24T20:19:46.540966Z",
     "shell.execute_reply": "2021-11-24T20:19:46.540593Z",
     "shell.execute_reply.started": "2021-11-24T20:19:46.433719Z"
    },
    "tags": []
   },
   "outputs": [
    {
     "data": {
      "text/plain": [
       "<AxesSubplot:>"
      ]
     },
     "execution_count": 15,
     "metadata": {},
     "output_type": "execute_result"
    },
    {
     "data": {
      "image/png": "[encoded data removed]",
      "text/plain": [
       "<Figure size 432x288 with 1 Axes>"
      ]
     },
     "metadata": {
      "needs_background": "light"
     },
     "output_type": "display_data"
    }
   ],
   "source": [
    "df_scaled = pd.DataFrame(columns)\n",
    "df_scaled.plot()"
   ]
  },
  {
   "cell_type": "code",
   "execution_count": 16,
   "id": "4f2a0300-3370-47c0-a9ae-fe5c450b2bd3",
   "metadata": {
    "execution": {
     "iopub.execute_input": "2021-11-24T20:19:46.541467Z",
     "iopub.status.busy": "2021-11-24T20:19:46.541372Z",
     "iopub.status.idle": "2021-11-24T20:19:46.546276Z",
     "shell.execute_reply": "2021-11-24T20:19:46.545922Z",
     "shell.execute_reply.started": "2021-11-24T20:19:46.541455Z"
    }
   },
   "outputs": [
    {
     "data": {
      "text/html": [
       "<div>\n",
       "<style scoped>\n",
       "    .dataframe tbody tr th:only-of-type {\n",
       "        vertical-align: middle;\n",
       "    }\n",
       "\n",
       "    .dataframe tbody tr th {\n",
       "        vertical-align: top;\n",
       "    }\n",
       "\n",
       "    .dataframe thead th {\n",
       "        text-align: right;\n",
       "    }\n",
       "</style>\n",
       "<table border=\"1\" class=\"dataframe\">\n",
       "  <thead>\n",
       "    <tr style=\"text-align: right;\">\n",
       "      <th></th>\n",
       "      <th>T (degC)</th>\n",
       "      <th>rh (%)</th>\n",
       "    </tr>\n",
       "    <tr>\n",
       "      <th>Date Time</th>\n",
       "      <th></th>\n",
       "      <th></th>\n",
       "    </tr>\n",
       "  </thead>\n",
       "  <tbody>\n",
       "    <tr>\n",
       "      <th>2009-01-01</th>\n",
       "      <td>-6.810629</td>\n",
       "      <td>91.086014</td>\n",
       "    </tr>\n",
       "    <tr>\n",
       "      <th>2009-01-02</th>\n",
       "      <td>-3.728194</td>\n",
       "      <td>92.086806</td>\n",
       "    </tr>\n",
       "    <tr>\n",
       "      <th>2009-01-03</th>\n",
       "      <td>-5.271736</td>\n",
       "      <td>76.458056</td>\n",
       "    </tr>\n",
       "    <tr>\n",
       "      <th>2009-01-04</th>\n",
       "      <td>-1.375208</td>\n",
       "      <td>89.417361</td>\n",
       "    </tr>\n",
       "    <tr>\n",
       "      <th>2009-01-05</th>\n",
       "      <td>-4.867153</td>\n",
       "      <td>86.260417</td>\n",
       "    </tr>\n",
       "  </tbody>\n",
       "</table>\n",
       "</div>"
      ],
      "text/plain": [
       "            T (degC)     rh (%)\n",
       "Date Time                      \n",
       "2009-01-01 -6.810629  91.086014\n",
       "2009-01-02 -3.728194  92.086806\n",
       "2009-01-03 -5.271736  76.458056\n",
       "2009-01-04 -1.375208  89.417361\n",
       "2009-01-05 -4.867153  86.260417"
      ]
     },
     "execution_count": 16,
     "metadata": {},
     "output_type": "execute_result"
    }
   ],
   "source": [
    "df.head()"
   ]
  },
  {
   "cell_type": "code",
   "execution_count": 17,
   "id": "8c4dedde-5e09-4462-95cc-c374e4a74a57",
   "metadata": {
    "execution": {
     "iopub.execute_input": "2021-11-24T20:19:46.546828Z",
     "iopub.status.busy": "2021-11-24T20:19:46.546697Z",
     "iopub.status.idle": "2021-11-24T20:19:46.563408Z",
     "shell.execute_reply": "2021-11-24T20:19:46.563046Z",
     "shell.execute_reply.started": "2021-11-24T20:19:46.546815Z"
    },
    "tags": []
   },
   "outputs": [
    {
     "data": {
      "text/plain": [
       "(2923, 2)"
      ]
     },
     "execution_count": 17,
     "metadata": {},
     "output_type": "execute_result"
    }
   ],
   "source": [
    "numpy_x = df_scaled.values\n",
    "# numpy_x = df.values\n",
    "# numpy_x = numpy_x.reshape(numpy_x.shape[0], 1)\n",
    "numpy_x.shape"
   ]
  },
  {
   "cell_type": "code",
   "execution_count": 18,
   "id": "93e0cf0d-ba2b-493a-9f80-68f454f7fb43",
   "metadata": {
    "execution": {
     "iopub.execute_input": "2021-11-24T20:19:46.564918Z",
     "iopub.status.busy": "2021-11-24T20:19:46.564774Z",
     "iopub.status.idle": "2021-11-24T20:19:46.580519Z",
     "shell.execute_reply": "2021-11-24T20:19:46.580211Z",
     "shell.execute_reply.started": "2021-11-24T20:19:46.564905Z"
    }
   },
   "outputs": [
    {
     "data": {
      "text/plain": [
       "(2923, 2)"
      ]
     },
     "execution_count": 18,
     "metadata": {},
     "output_type": "execute_result"
    }
   ],
   "source": [
    "numpy_x.shape"
   ]
  },
  {
   "cell_type": "code",
   "execution_count": 19,
   "id": "718b4ec3-b79d-4523-b914-72d7cf0ac19e",
   "metadata": {
    "execution": {
     "iopub.execute_input": "2021-11-24T20:19:46.581042Z",
     "iopub.status.busy": "2021-11-24T20:19:46.580945Z",
     "iopub.status.idle": "2021-11-24T20:19:46.603265Z",
     "shell.execute_reply": "2021-11-24T20:19:46.602887Z",
     "shell.execute_reply.started": "2021-11-24T20:19:46.581031Z"
    },
    "tags": []
   },
   "outputs": [],
   "source": [
    "# Use 370 days as history, predict 7 days\n",
    "history_window = 370\n",
    "n_prediction = 7\n",
    "n_features = numpy_x.shape[1]\n",
    "df_x, df_y = preprocessing.split_sequence(numpy_x, history_window, n_prediction)"
   ]
  },
  {
   "cell_type": "code",
   "execution_count": 20,
   "id": "40431c11-491a-40ea-a6da-d9034ba82aa5",
   "metadata": {
    "execution": {
     "iopub.execute_input": "2021-11-24T20:19:46.603819Z",
     "iopub.status.busy": "2021-11-24T20:19:46.603716Z",
     "iopub.status.idle": "2021-11-24T20:19:46.614160Z",
     "shell.execute_reply": "2021-11-24T20:19:46.613766Z",
     "shell.execute_reply.started": "2021-11-24T20:19:46.603807Z"
    },
    "tags": []
   },
   "outputs": [],
   "source": [
    "def get_predict_columns(df: pd.DataFrame, feature_name: str) -> int:\n",
    "    for i in range(len(df.columns)):\n",
    "        if df.columns[i] == feature_name:\n",
    "            return i\n",
    "    raise Exception(\"No column found\")\n",
    "\n",
    "\n",
    "feature_to_predict = get_predict_columns(df, \"T (degC)\")"
   ]
  },
  {
   "cell_type": "code",
   "execution_count": 21,
   "id": "b998afef-1785-4a25-8340-d538ba4c04e1",
   "metadata": {
    "execution": {
     "iopub.execute_input": "2021-11-24T20:19:46.614690Z",
     "iopub.status.busy": "2021-11-24T20:19:46.614588Z",
     "iopub.status.idle": "2021-11-24T20:19:46.640098Z",
     "shell.execute_reply": "2021-11-24T20:19:46.637965Z",
     "shell.execute_reply.started": "2021-11-24T20:19:46.614678Z"
    },
    "tags": []
   },
   "outputs": [],
   "source": [
    "df_y = df_y[:, :, feature_to_predict]"
   ]
  },
  {
   "cell_type": "code",
   "execution_count": 22,
   "id": "fd40ff6d-4fae-426e-ba38-776d9b726a23",
   "metadata": {
    "execution": {
     "iopub.execute_input": "2021-11-24T20:19:46.643841Z",
     "iopub.status.busy": "2021-11-24T20:19:46.643232Z",
     "iopub.status.idle": "2021-11-24T20:19:46.677694Z",
     "shell.execute_reply": "2021-11-24T20:19:46.677043Z",
     "shell.execute_reply.started": "2021-11-24T20:19:46.643775Z"
    },
    "tags": []
   },
   "outputs": [
    {
     "data": {
      "text/plain": [
       "((2547, 370, 2), (2547, 7))"
      ]
     },
     "execution_count": 22,
     "metadata": {},
     "output_type": "execute_result"
    }
   ],
   "source": [
    "df_x.shape, df_y.shape"
   ]
  },
  {
   "cell_type": "code",
   "execution_count": 23,
   "id": "c7534a87-7178-4189-b31b-720b86a64a24",
   "metadata": {
    "execution": {
     "iopub.execute_input": "2021-11-24T20:19:46.678545Z",
     "iopub.status.busy": "2021-11-24T20:19:46.678386Z",
     "iopub.status.idle": "2021-11-24T20:19:46.698484Z",
     "shell.execute_reply": "2021-11-24T20:19:46.697892Z",
     "shell.execute_reply.started": "2021-11-24T20:19:46.678526Z"
    },
    "tags": []
   },
   "outputs": [
    {
     "data": {
      "text/plain": [
       "(2547, 370, 2)"
      ]
     },
     "execution_count": 23,
     "metadata": {},
     "output_type": "execute_result"
    }
   ],
   "source": [
    "# Reshaping into n_example, timestamps, features\n",
    "df_x = df_x.reshape(df_x.shape[0], df_x.shape[1], n_features)\n",
    "df_x.shape"
   ]
  },
  {
   "cell_type": "code",
   "execution_count": 24,
   "id": "571978a3-6878-407f-b1e5-8a0c1236c934",
   "metadata": {
    "execution": {
     "iopub.execute_input": "2021-11-24T20:19:46.699299Z",
     "iopub.status.busy": "2021-11-24T20:19:46.699143Z",
     "iopub.status.idle": "2021-11-24T20:19:46.719072Z",
     "shell.execute_reply": "2021-11-24T20:19:46.718452Z",
     "shell.execute_reply.started": "2021-11-24T20:19:46.699280Z"
    },
    "tags": []
   },
   "outputs": [
    {
     "data": {
      "text/plain": [
       "(2547, 7)"
      ]
     },
     "execution_count": 24,
     "metadata": {},
     "output_type": "execute_result"
    }
   ],
   "source": [
    "# Reshaping in n_example, timestamps\n",
    "df_y = df_y.reshape(df_y.shape[0], df_y.shape[1])\n",
    "df_y.shape"
   ]
  },
  {
   "cell_type": "code",
   "execution_count": 25,
   "id": "3f0f5419-3f85-4fc6-a028-738d171e50b3",
   "metadata": {
    "execution": {
     "iopub.execute_input": "2021-11-24T20:19:46.719955Z",
     "iopub.status.busy": "2021-11-24T20:19:46.719793Z",
     "iopub.status.idle": "2021-11-24T20:19:46.736249Z",
     "shell.execute_reply": "2021-11-24T20:19:46.735586Z",
     "shell.execute_reply.started": "2021-11-24T20:19:46.719935Z"
    },
    "tags": []
   },
   "outputs": [],
   "source": [
    "# Reduce memory usage for Low End graphic cards\n",
    "# df_x = np.float16(df_x)\n",
    "# df_y = np.float16(df_y)"
   ]
  },
  {
   "cell_type": "code",
   "execution_count": 73,
   "id": "f0f3954e-3c18-4d0c-bb25-6f1a2ebf4748",
   "metadata": {
    "execution": {
     "iopub.execute_input": "2021-11-24T20:38:43.363340Z",
     "iopub.status.busy": "2021-11-24T20:38:43.363212Z",
     "iopub.status.idle": "2021-11-24T20:38:43.365823Z",
     "shell.execute_reply": "2021-11-24T20:38:43.365406Z",
     "shell.execute_reply.started": "2021-11-24T20:38:43.363327Z"
    },
    "tags": []
   },
   "outputs": [],
   "source": [
    "example_conf = \"\"\"\n",
    "{\n",
    "    \"model_type\": \"Sequential\",\n",
    "    \"input_shape\": [\n",
    "        370,\n",
    "        2\n",
    "    ],\n",
    "    \"model_conf\": [\n",
    "        {\n",
    "            \"layer\": \"LSTM\",\n",
    "            \"layer_conf\": {\"units\": 1024, \"return_sequences\": true }\n",
    "        },\n",
    "        {\n",
    "            \"layer\": \"LSTM\",\n",
    "            \"layer_conf\": {\"units\": 512,\"return_sequences\": true}\n",
    "        },\n",
    "        {\n",
    "            \"layer\": \"LSTM\",\n",
    "            \"layer_conf\": {\"units\": 256}\n",
    "        },\n",
    "        {\n",
    "            \"layer\": \"DENSE\",\n",
    "            \"layer_conf\": {\"units\": 7}\n",
    "        }\n",
    "    ],\n",
    "    \"compile_conf\": {\n",
    "        \"optimizer\": \"adam\",\n",
    "        \"loss\": \"mse\",\n",
    "        \"metrics\": \"mae\"\n",
    "    }\n",
    "}\n",
    "\"\"\""
   ]
  },
  {
   "cell_type": "code",
   "execution_count": 74,
   "id": "7ac3bb47-3bc9-4571-895e-1f053083a504",
   "metadata": {
    "execution": {
     "iopub.execute_input": "2021-11-24T20:38:43.696519Z",
     "iopub.status.busy": "2021-11-24T20:38:43.695471Z",
     "iopub.status.idle": "2021-11-24T20:42:54.814520Z",
     "shell.execute_reply": "2021-11-24T20:42:54.814111Z",
     "shell.execute_reply.started": "2021-11-24T20:38:43.696460Z"
    },
    "scrolled": true,
    "tags": []
   },
   "outputs": [
    {
     "name": "stdout",
     "output_type": "stream",
     "text": [
      "Model: \"sequential_9\"\n",
      "_________________________________________________________________\n",
      " Layer (type)                Output Shape              Param #   \n",
      "=================================================================\n",
      " lstm_25 (LSTM)              (None, 370, 1024)         4206592   \n",
      "                                                                 \n",
      " lstm_26 (LSTM)              (None, 370, 512)          3147776   \n",
      "                                                                 \n",
      " lstm_27 (LSTM)              (None, 256)               787456    \n",
      "                                                                 \n",
      " dense_9 (Dense)             (None, 7)                 1799      \n",
      "                                                                 \n",
      "=================================================================\n",
      "Total params: 8,143,623\n",
      "Trainable params: 8,143,623\n",
      "Non-trainable params: 0\n",
      "_________________________________________________________________\n",
      "Epoch 1/1000\n",
      "10/10 [==============================] - 5s 181ms/step - loss: 0.6684 - mae: 0.6084\n",
      "Epoch 2/1000\n",
      "10/10 [==============================] - 2s 187ms/step - loss: 0.3207 - mae: 0.4452\n",
      "Epoch 3/1000\n",
      "10/10 [==============================] - 2s 175ms/step - loss: 0.2976 - mae: 0.4307\n",
      "Epoch 4/1000\n",
      "10/10 [==============================] - 2s 188ms/step - loss: 0.2818 - mae: 0.4192\n",
      "Epoch 5/1000\n",
      "10/10 [==============================] - 2s 190ms/step - loss: 0.2732 - mae: 0.4133\n",
      "Epoch 6/1000\n",
      "10/10 [==============================] - 2s 189ms/step - loss: 0.2670 - mae: 0.4091\n",
      "Epoch 7/1000\n",
      "10/10 [==============================] - 2s 190ms/step - loss: 0.2580 - mae: 0.4040\n",
      "Epoch 8/1000\n",
      "10/10 [==============================] - 2s 182ms/step - loss: 0.2539 - mae: 0.4022\n",
      "Epoch 9/1000\n",
      "10/10 [==============================] - 2s 181ms/step - loss: 0.2511 - mae: 0.3998\n",
      "Epoch 10/1000\n",
      "10/10 [==============================] - 2s 191ms/step - loss: 0.2433 - mae: 0.3947\n",
      "Epoch 11/1000\n",
      "10/10 [==============================] - 2s 196ms/step - loss: 0.2424 - mae: 0.3926\n",
      "Epoch 12/1000\n",
      "10/10 [==============================] - 2s 181ms/step - loss: 0.2320 - mae: 0.3848\n",
      "Epoch 13/1000\n",
      "10/10 [==============================] - 2s 180ms/step - loss: 0.2285 - mae: 0.3821\n",
      "Epoch 14/1000\n",
      "10/10 [==============================] - 2s 176ms/step - loss: 0.2307 - mae: 0.3822\n",
      "Epoch 15/1000\n",
      "10/10 [==============================] - 2s 179ms/step - loss: 0.2257 - mae: 0.3787\n",
      "Epoch 16/1000\n",
      "10/10 [==============================] - 2s 191ms/step - loss: 0.2238 - mae: 0.3774\n",
      "Epoch 17/1000\n",
      "10/10 [==============================] - 2s 188ms/step - loss: 0.2177 - mae: 0.3718\n",
      "Epoch 18/1000\n",
      "10/10 [==============================] - 2s 181ms/step - loss: 0.2153 - mae: 0.3694\n",
      "Epoch 19/1000\n",
      "10/10 [==============================] - 2s 186ms/step - loss: 0.2141 - mae: 0.3687\n",
      "Epoch 20/1000\n",
      "10/10 [==============================] - 2s 193ms/step - loss: 0.2085 - mae: 0.3639\n",
      "Epoch 21/1000\n",
      "10/10 [==============================] - 2s 181ms/step - loss: 0.2019 - mae: 0.3574\n",
      "Epoch 22/1000\n",
      "10/10 [==============================] - 2s 184ms/step - loss: 0.2021 - mae: 0.3585\n",
      "Epoch 23/1000\n",
      "10/10 [==============================] - 2s 183ms/step - loss: 0.1958 - mae: 0.3523\n",
      "Epoch 24/1000\n",
      "10/10 [==============================] - 2s 190ms/step - loss: 0.1984 - mae: 0.3534\n",
      "Epoch 25/1000\n",
      "10/10 [==============================] - 2s 180ms/step - loss: 0.1859 - mae: 0.3431\n",
      "Epoch 26/1000\n",
      "10/10 [==============================] - 2s 190ms/step - loss: 0.1785 - mae: 0.3374\n",
      "Epoch 27/1000\n",
      "10/10 [==============================] - 2s 180ms/step - loss: 0.1694 - mae: 0.3279\n",
      "Epoch 28/1000\n",
      "10/10 [==============================] - 2s 206ms/step - loss: 0.1602 - mae: 0.3185\n",
      "Epoch 29/1000\n",
      "10/10 [==============================] - 2s 195ms/step - loss: 0.1586 - mae: 0.3169\n",
      "Epoch 30/1000\n",
      "10/10 [==============================] - 2s 201ms/step - loss: 0.1523 - mae: 0.3120\n",
      "Epoch 31/1000\n",
      "10/10 [==============================] - 2s 195ms/step - loss: 0.1383 - mae: 0.2965\n",
      "Epoch 32/1000\n",
      "10/10 [==============================] - 2s 189ms/step - loss: 0.1310 - mae: 0.2886\n",
      "Epoch 33/1000\n",
      "10/10 [==============================] - 2s 199ms/step - loss: 0.1199 - mae: 0.2775\n",
      "Epoch 34/1000\n",
      "10/10 [==============================] - 2s 186ms/step - loss: 0.1147 - mae: 0.2693\n",
      "Epoch 35/1000\n",
      "10/10 [==============================] - 2s 180ms/step - loss: 0.1089 - mae: 0.2626\n",
      "Epoch 36/1000\n",
      "10/10 [==============================] - 2s 185ms/step - loss: 0.0990 - mae: 0.2512\n",
      "Epoch 37/1000\n",
      "10/10 [==============================] - 2s 185ms/step - loss: 0.0980 - mae: 0.2480\n",
      "Epoch 38/1000\n",
      "10/10 [==============================] - 2s 184ms/step - loss: 0.0934 - mae: 0.2432\n",
      "Epoch 39/1000\n",
      "10/10 [==============================] - 2s 181ms/step - loss: 0.0861 - mae: 0.2335\n",
      "Epoch 40/1000\n",
      "10/10 [==============================] - 2s 187ms/step - loss: 0.0789 - mae: 0.2230\n",
      "Epoch 41/1000\n",
      "10/10 [==============================] - 2s 183ms/step - loss: 0.0733 - mae: 0.2149\n",
      "Epoch 42/1000\n",
      "10/10 [==============================] - 2s 197ms/step - loss: 0.0680 - mae: 0.2067\n",
      "Epoch 43/1000\n",
      "10/10 [==============================] - 2s 185ms/step - loss: 0.0656 - mae: 0.2021\n",
      "Epoch 44/1000\n",
      "10/10 [==============================] - 2s 182ms/step - loss: 0.0634 - mae: 0.1991\n",
      "Epoch 45/1000\n",
      "10/10 [==============================] - 2s 179ms/step - loss: 0.0605 - mae: 0.1938\n",
      "Epoch 46/1000\n",
      "10/10 [==============================] - 2s 191ms/step - loss: 0.0575 - mae: 0.1902\n",
      "Epoch 47/1000\n",
      "10/10 [==============================] - 2s 179ms/step - loss: 0.0547 - mae: 0.1849\n",
      "Epoch 48/1000\n",
      "10/10 [==============================] - 2s 182ms/step - loss: 0.0527 - mae: 0.1808\n",
      "Epoch 49/1000\n",
      "10/10 [==============================] - 2s 183ms/step - loss: 0.0534 - mae: 0.1814\n",
      "Epoch 50/1000\n",
      "10/10 [==============================] - 2s 178ms/step - loss: 0.0519 - mae: 0.1791\n",
      "Epoch 51/1000\n",
      "10/10 [==============================] - 2s 189ms/step - loss: 0.0486 - mae: 0.1731\n",
      "Epoch 52/1000\n",
      "10/10 [==============================] - 2s 192ms/step - loss: 0.0454 - mae: 0.1669\n",
      "Epoch 53/1000\n",
      "10/10 [==============================] - 2s 184ms/step - loss: 0.0428 - mae: 0.1616\n",
      "Epoch 54/1000\n",
      "10/10 [==============================] - 2s 188ms/step - loss: 0.0412 - mae: 0.1587\n",
      "Epoch 55/1000\n",
      "10/10 [==============================] - 2s 189ms/step - loss: 0.0392 - mae: 0.1544\n",
      "Epoch 56/1000\n",
      "10/10 [==============================] - 2s 193ms/step - loss: 0.0375 - mae: 0.1512\n",
      "Epoch 57/1000\n",
      "10/10 [==============================] - 2s 196ms/step - loss: 0.0367 - mae: 0.1495\n",
      "Epoch 58/1000\n",
      "10/10 [==============================] - 2s 188ms/step - loss: 0.0351 - mae: 0.1458\n",
      "Epoch 59/1000\n",
      "10/10 [==============================] - 2s 181ms/step - loss: 0.0335 - mae: 0.1427\n",
      "Epoch 60/1000\n",
      "10/10 [==============================] - 2s 190ms/step - loss: 0.0325 - mae: 0.1407\n",
      "Epoch 61/1000\n",
      "10/10 [==============================] - 2s 190ms/step - loss: 0.0319 - mae: 0.1392\n",
      "Epoch 62/1000\n",
      "10/10 [==============================] - 2s 185ms/step - loss: 0.0303 - mae: 0.1357\n",
      "Epoch 63/1000\n",
      "10/10 [==============================] - 2s 186ms/step - loss: 0.0299 - mae: 0.1348\n",
      "Epoch 64/1000\n",
      "10/10 [==============================] - 2s 194ms/step - loss: 0.0303 - mae: 0.1359\n",
      "Epoch 65/1000\n",
      "10/10 [==============================] - 2s 177ms/step - loss: 0.0300 - mae: 0.1349\n",
      "Epoch 66/1000\n",
      "10/10 [==============================] - 2s 186ms/step - loss: 0.0323 - mae: 0.1404\n",
      "Epoch 67/1000\n",
      "10/10 [==============================] - 2s 178ms/step - loss: 0.0320 - mae: 0.1394\n",
      "Epoch 68/1000\n",
      "10/10 [==============================] - 2s 182ms/step - loss: 0.0296 - mae: 0.1340\n",
      "Epoch 69/1000\n",
      "10/10 [==============================] - 2s 184ms/step - loss: 0.0268 - mae: 0.1277\n",
      "Epoch 70/1000\n",
      "10/10 [==============================] - 2s 187ms/step - loss: 0.0265 - mae: 0.1263\n",
      "Epoch 71/1000\n",
      "10/10 [==============================] - 2s 197ms/step - loss: 0.0256 - mae: 0.1247\n",
      "Epoch 72/1000\n",
      "10/10 [==============================] - 2s 190ms/step - loss: 0.0248 - mae: 0.1225\n",
      "Epoch 73/1000\n",
      "10/10 [==============================] - 2s 185ms/step - loss: 0.0248 - mae: 0.1223\n",
      "Epoch 74/1000\n",
      "10/10 [==============================] - 2s 183ms/step - loss: 0.0238 - mae: 0.1199\n",
      "Epoch 75/1000\n",
      "10/10 [==============================] - 2s 185ms/step - loss: 0.0233 - mae: 0.1181\n",
      "Epoch 76/1000\n",
      "10/10 [==============================] - 2s 180ms/step - loss: 0.0232 - mae: 0.1176\n",
      "Epoch 77/1000\n",
      "10/10 [==============================] - 2s 182ms/step - loss: 0.0226 - mae: 0.1169\n",
      "Epoch 78/1000\n",
      "10/10 [==============================] - 2s 189ms/step - loss: 0.0221 - mae: 0.1152\n",
      "Epoch 79/1000\n",
      "10/10 [==============================] - 2s 185ms/step - loss: 0.0227 - mae: 0.1169\n",
      "Epoch 80/1000\n",
      "10/10 [==============================] - 2s 181ms/step - loss: 0.0222 - mae: 0.1154\n",
      "Epoch 81/1000\n",
      "10/10 [==============================] - 2s 180ms/step - loss: 0.0214 - mae: 0.1137\n",
      "Epoch 82/1000\n",
      "10/10 [==============================] - 2s 186ms/step - loss: 0.0212 - mae: 0.1128\n",
      "Epoch 83/1000\n",
      "10/10 [==============================] - 2s 188ms/step - loss: 0.0207 - mae: 0.1114\n",
      "Epoch 84/1000\n",
      "10/10 [==============================] - 2s 196ms/step - loss: 0.0203 - mae: 0.1105\n",
      "Epoch 85/1000\n",
      "10/10 [==============================] - 2s 194ms/step - loss: 0.0202 - mae: 0.1097\n",
      "Epoch 86/1000\n",
      "10/10 [==============================] - 2s 195ms/step - loss: 0.0191 - mae: 0.1066\n",
      "Epoch 87/1000\n",
      "10/10 [==============================] - 2s 190ms/step - loss: 0.0188 - mae: 0.1056\n",
      "Epoch 88/1000\n",
      "10/10 [==============================] - 2s 195ms/step - loss: 0.0194 - mae: 0.1075\n",
      "Epoch 89/1000\n",
      "10/10 [==============================] - 2s 182ms/step - loss: 0.0211 - mae: 0.1121\n",
      "Epoch 90/1000\n",
      "10/10 [==============================] - 2s 185ms/step - loss: 0.0216 - mae: 0.1132\n",
      "Epoch 91/1000\n",
      "10/10 [==============================] - 2s 181ms/step - loss: 0.0197 - mae: 0.1086\n",
      "Epoch 92/1000\n",
      "10/10 [==============================] - 2s 181ms/step - loss: 0.0183 - mae: 0.1051\n",
      "Epoch 93/1000\n",
      "10/10 [==============================] - 2s 185ms/step - loss: 0.0175 - mae: 0.1019\n",
      "Epoch 94/1000\n",
      "10/10 [==============================] - 2s 185ms/step - loss: 0.0180 - mae: 0.1037\n",
      "Epoch 95/1000\n",
      "10/10 [==============================] - 2s 183ms/step - loss: 0.0177 - mae: 0.1029\n",
      "Epoch 96/1000\n",
      "10/10 [==============================] - 2s 190ms/step - loss: 0.0173 - mae: 0.1011\n",
      "Epoch 97/1000\n",
      "10/10 [==============================] - 2s 181ms/step - loss: 0.0164 - mae: 0.0988\n",
      "Epoch 98/1000\n",
      "10/10 [==============================] - 2s 186ms/step - loss: 0.0160 - mae: 0.0973\n",
      "Epoch 99/1000\n",
      "10/10 [==============================] - 2s 198ms/step - loss: 0.0158 - mae: 0.0970\n",
      "Epoch 100/1000\n",
      "10/10 [==============================] - 2s 182ms/step - loss: 0.0156 - mae: 0.0966\n",
      "Epoch 101/1000\n",
      "10/10 [==============================] - 2s 195ms/step - loss: 0.0160 - mae: 0.0976\n",
      "Epoch 102/1000\n",
      "10/10 [==============================] - 2s 195ms/step - loss: 0.0158 - mae: 0.0966\n",
      "Epoch 103/1000\n",
      "10/10 [==============================] - 2s 190ms/step - loss: 0.0156 - mae: 0.0961\n",
      "Epoch 104/1000\n",
      "10/10 [==============================] - 2s 187ms/step - loss: 0.0154 - mae: 0.0955\n",
      "Epoch 105/1000\n",
      "10/10 [==============================] - 2s 188ms/step - loss: 0.0149 - mae: 0.0939\n",
      "Epoch 106/1000\n",
      "10/10 [==============================] - 2s 192ms/step - loss: 0.0148 - mae: 0.0937\n",
      "Epoch 107/1000\n",
      "10/10 [==============================] - 2s 191ms/step - loss: 0.0143 - mae: 0.0923\n",
      "Epoch 108/1000\n",
      "10/10 [==============================] - 2s 193ms/step - loss: 0.0137 - mae: 0.0904\n",
      "Epoch 109/1000\n",
      "10/10 [==============================] - 2s 189ms/step - loss: 0.0134 - mae: 0.0894\n",
      "Epoch 110/1000\n",
      "10/10 [==============================] - 2s 183ms/step - loss: 0.0130 - mae: 0.0878\n",
      "Epoch 111/1000\n",
      "10/10 [==============================] - 2s 191ms/step - loss: 0.0129 - mae: 0.0875\n",
      "Epoch 112/1000\n",
      "10/10 [==============================] - 2s 187ms/step - loss: 0.0127 - mae: 0.0866\n",
      "Epoch 113/1000\n",
      "10/10 [==============================] - 2s 181ms/step - loss: 0.0123 - mae: 0.0856\n",
      "Epoch 114/1000\n",
      "10/10 [==============================] - 2s 183ms/step - loss: 0.0123 - mae: 0.0856\n",
      "Epoch 115/1000\n",
      "10/10 [==============================] - 2s 184ms/step - loss: 0.0123 - mae: 0.0856\n",
      "Epoch 116/1000\n",
      "10/10 [==============================] - 2s 180ms/step - loss: 0.0125 - mae: 0.0858\n",
      "Epoch 117/1000\n",
      "10/10 [==============================] - 2s 183ms/step - loss: 0.0120 - mae: 0.0845\n",
      "Epoch 118/1000\n",
      "10/10 [==============================] - 2s 191ms/step - loss: 0.0120 - mae: 0.0846\n",
      "Epoch 119/1000\n",
      "10/10 [==============================] - 2s 197ms/step - loss: 0.0120 - mae: 0.0842\n",
      "Epoch 120/1000\n",
      "10/10 [==============================] - 2s 189ms/step - loss: 0.0120 - mae: 0.0844\n",
      "Epoch 121/1000\n",
      "10/10 [==============================] - 2s 190ms/step - loss: 0.0125 - mae: 0.0863\n",
      "Epoch 122/1000\n",
      "10/10 [==============================] - 2s 190ms/step - loss: 0.0124 - mae: 0.0858\n",
      "Epoch 123/1000\n",
      "10/10 [==============================] - 2s 190ms/step - loss: 0.0123 - mae: 0.0856\n",
      "Epoch 124/1000\n",
      "10/10 [==============================] - 2s 181ms/step - loss: 0.0125 - mae: 0.0861\n"
     ]
    },
    {
     "name": "stderr",
     "output_type": "stream",
     "text": [
      "WARNING:absl:Found untraced functions such as lstm_cell_25_layer_call_fn, lstm_cell_25_layer_call_and_return_conditional_losses, lstm_cell_26_layer_call_fn, lstm_cell_26_layer_call_and_return_conditional_losses, lstm_cell_27_layer_call_fn while saving (showing 5 of 15). These functions will not be directly callable after loading.\n"
     ]
    },
    {
     "name": "stdout",
     "output_type": "stream",
     "text": [
      "INFO:tensorflow:Assets written to: model_dir/LSTM_LSTM_LSTM_DENSE/4/assets\n"
     ]
    },
    {
     "name": "stderr",
     "output_type": "stream",
     "text": [
      "INFO:tensorflow:Assets written to: model_dir/LSTM_LSTM_LSTM_DENSE/4/assets\n",
      "WARNING:absl:<keras.layers.recurrent.LSTMCell object at 0x7f5b85037cd0> has the same name 'LSTMCell' as a built-in Keras object. Consider renaming <class 'keras.layers.recurrent.LSTMCell'> to avoid naming conflicts when loading with `tf.keras.models.load_model`. If renaming is not possible, pass the object in the `custom_objects` parameter of the load function.\n",
      "WARNING:absl:<keras.layers.recurrent.LSTMCell object at 0x7f5b850058e0> has the same name 'LSTMCell' as a built-in Keras object. Consider renaming <class 'keras.layers.recurrent.LSTMCell'> to avoid naming conflicts when loading with `tf.keras.models.load_model`. If renaming is not possible, pass the object in the `custom_objects` parameter of the load function.\n",
      "WARNING:absl:<keras.layers.recurrent.LSTMCell object at 0x7f5b8502b190> has the same name 'LSTMCell' as a built-in Keras object. Consider renaming <class 'keras.layers.recurrent.LSTMCell'> to avoid naming conflicts when loading with `tf.keras.models.load_model`. If renaming is not possible, pass the object in the `custom_objects` parameter of the load function.\n"
     ]
    }
   ],
   "source": [
    "import json\n",
    "\n",
    "c = json.loads(example_conf)\n",
    "callback = tf.keras.callbacks.EarlyStopping(\n",
    "    monitor=\"loss\", patience=10, restore_best_weights=True\n",
    ")\n",
    "\n",
    "model = tensorflowutils.train_model(\n",
    "    c, df_x[:-1], df_y[:-1], epochs=1000, callbacks=[callback], batch_size=256\n",
    ")"
   ]
  },
  {
   "cell_type": "code",
   "execution_count": 75,
   "id": "0f9b6df4-7760-4ae8-85e5-9406a96d2f68",
   "metadata": {
    "execution": {
     "iopub.execute_input": "2021-11-24T20:42:54.815698Z",
     "iopub.status.busy": "2021-11-24T20:42:54.815554Z",
     "iopub.status.idle": "2021-11-24T20:42:54.818142Z",
     "shell.execute_reply": "2021-11-24T20:42:54.817728Z",
     "shell.execute_reply.started": "2021-11-24T20:42:54.815686Z"
    },
    "tags": []
   },
   "outputs": [],
   "source": [
    "# Reshape input in order to have a single example with `history_window` timestamp\n",
    "model_input = df_x[-1].reshape(1, history_window, n_features)"
   ]
  },
  {
   "cell_type": "code",
   "execution_count": 76,
   "id": "e7543481-5243-4dc5-aa2d-7967820a6896",
   "metadata": {
    "execution": {
     "iopub.execute_input": "2021-11-24T20:42:54.818731Z",
     "iopub.status.busy": "2021-11-24T20:42:54.818593Z",
     "iopub.status.idle": "2021-11-24T20:42:55.596111Z",
     "shell.execute_reply": "2021-11-24T20:42:55.595667Z",
     "shell.execute_reply.started": "2021-11-24T20:42:54.818719Z"
    },
    "tags": []
   },
   "outputs": [
    {
     "name": "stdout",
     "output_type": "stream",
     "text": [
      "WARNING:tensorflow:5 out of the last 5 calls to <function Model.make_predict_function.<locals>.predict_function at 0x7f5b7554d790> triggered tf.function retracing. Tracing is expensive and the excessive number of tracings could be due to (1) creating @tf.function repeatedly in a loop, (2) passing tensors with different shapes, (3) passing Python objects instead of tensors. For (1), please define your @tf.function outside of the loop. For (2), @tf.function has experimental_relax_shapes=True option that relaxes argument shapes that can avoid unnecessary retracing. For (3), please refer to https://www.tensorflow.org/guide/function#controlling_retracing and https://www.tensorflow.org/api_docs/python/tf/function for  more details.\n"
     ]
    },
    {
     "name": "stderr",
     "output_type": "stream",
     "text": [
      "WARNING:tensorflow:5 out of the last 5 calls to <function Model.make_predict_function.<locals>.predict_function at 0x7f5b7554d790> triggered tf.function retracing. Tracing is expensive and the excessive number of tracings could be due to (1) creating @tf.function repeatedly in a loop, (2) passing tensors with different shapes, (3) passing Python objects instead of tensors. For (1), please define your @tf.function outside of the loop. For (2), @tf.function has experimental_relax_shapes=True option that relaxes argument shapes that can avoid unnecessary retracing. For (3), please refer to https://www.tensorflow.org/guide/function#controlling_retracing and https://www.tensorflow.org/api_docs/python/tf/function for  more details.\n"
     ]
    }
   ],
   "source": [
    "model_prediction = model.predict(model_input).ravel()"
   ]
  },
  {
   "cell_type": "code",
   "execution_count": 77,
   "id": "f557bde3-7b78-4be8-8742-5aebc56fb858",
   "metadata": {
    "execution": {
     "iopub.execute_input": "2021-11-24T20:42:55.597172Z",
     "iopub.status.busy": "2021-11-24T20:42:55.597062Z",
     "iopub.status.idle": "2021-11-24T20:42:55.599879Z",
     "shell.execute_reply": "2021-11-24T20:42:55.599467Z",
     "shell.execute_reply.started": "2021-11-24T20:42:55.597160Z"
    },
    "tags": []
   },
   "outputs": [],
   "source": [
    "d = {\n",
    "    \"real_values\": scaler[\"T (degC)\"]\n",
    "    .inverse_transform(df_y[-1].reshape(-1, 1))\n",
    "    .ravel(),\n",
    "    \"model_values\": scaler[\"T (degC)\"]\n",
    "    .inverse_transform(model_prediction.reshape(-1, 1))\n",
    "    .ravel(),\n",
    "}"
   ]
  },
  {
   "cell_type": "code",
   "execution_count": 78,
   "id": "497af2a6-67e4-4f00-8d8b-e47801a6076a",
   "metadata": {
    "execution": {
     "iopub.execute_input": "2021-11-24T20:42:55.600600Z",
     "iopub.status.busy": "2021-11-24T20:42:55.600335Z",
     "iopub.status.idle": "2021-11-24T20:42:56.467374Z",
     "shell.execute_reply": "2021-11-24T20:42:56.467043Z",
     "shell.execute_reply.started": "2021-11-24T20:42:55.600582Z"
    },
    "tags": []
   },
   "outputs": [
    {
     "data": {
      "text/plain": [
       "<AxesSubplot:>"
      ]
     },
     "execution_count": 78,
     "metadata": {},
     "output_type": "execute_result"
    },
    {
     "data": {
      "image/png": "[encoded data removed]",
      "text/plain": [
       "<Figure size 432x288 with 1 Axes>"
      ]
     },
     "metadata": {
      "needs_background": "light"
     },
     "output_type": "display_data"
    }
   ],
   "source": [
    "pd.DataFrame(d).plot()"
   ]
  }
 ],
 "metadata": {
  "kernelspec": {
   "display_name": "Python 3 (ipykernel)",
   "language": "python",
   "name": "python3"
  },
  "language_info": {
   "codemirror_mode": {
    "name": "ipython",
    "version": 3
   },
   "file_extension": ".py",
   "mimetype": "text/x-python",
   "name": "python",
   "nbconvert_exporter": "python",
   "pygments_lexer": "ipython3",
   "version": "3.9.7"
  }
 },
 "nbformat": 4,
 "nbformat_minor": 5
}
