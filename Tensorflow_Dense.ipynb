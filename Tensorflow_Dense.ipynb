{
 "cells": [
  {
   "cell_type": "code",
   "execution_count": 1,
   "id": "11893474-7030-43c5-84c1-6ad279fe4f54",
   "metadata": {
    "execution": {
     "iopub.execute_input": "2021-11-24T19:50:45.763939Z",
     "iopub.status.busy": "2021-11-24T19:50:45.763760Z",
     "iopub.status.idle": "2021-11-24T19:50:48.353940Z",
     "shell.execute_reply": "2021-11-24T19:50:48.351820Z",
     "shell.execute_reply.started": "2021-11-24T19:50:45.763886Z"
    },
    "scrolled": true,
    "tags": []
   },
   "outputs": [
    {
     "name": "stdout",
     "output_type": "stream",
     "text": [
      "Looking in indexes: https://test.pypi.org/simple/\n",
      "Requirement already satisfied: mlutils in /home/alessiosavi/anaconda3/envs/ml/lib/python3.9/site-packages (0.0.1rc4)\n",
      "Collecting mlutils\n",
      "  Downloading https://test-files.pythonhosted.org/packages/a9/d5/b4d3aa000687f3d763e31b89e606376aa6197370edd744758fcdf18be51a/mlutils-0.0.1-py3-none-any.whl (4.4 kB)\n",
      "Requirement already satisfied: tensorflow==2.7.0 in /home/alessiosavi/anaconda3/envs/ml/lib/python3.9/site-packages (from mlutils) (2.7.0)\n",
      "Requirement already satisfied: pandas==1.3.4 in /home/alessiosavi/anaconda3/envs/ml/lib/python3.9/site-packages (from mlutils) (1.3.4)\n",
      "Requirement already satisfied: numpy==1.21.4 in /home/alessiosavi/anaconda3/envs/ml/lib/python3.9/site-packages (from mlutils) (1.21.4)\n",
      "Requirement already satisfied: python-dateutil>=2.7.3 in /home/alessiosavi/anaconda3/envs/ml/lib/python3.9/site-packages (from pandas==1.3.4->mlutils) (2.8.2)\n",
      "Requirement already satisfied: pytz>=2017.3 in /home/alessiosavi/anaconda3/envs/ml/lib/python3.9/site-packages (from pandas==1.3.4->mlutils) (2021.3)\n",
      "Requirement already satisfied: six>=1.12.0 in /home/alessiosavi/anaconda3/envs/ml/lib/python3.9/site-packages (from tensorflow==2.7.0->mlutils) (1.16.0)\n",
      "Requirement already satisfied: libclang>=9.0.1 in /home/alessiosavi/anaconda3/envs/ml/lib/python3.9/site-packages (from tensorflow==2.7.0->mlutils) (12.0.0)\n",
      "Requirement already satisfied: absl-py>=0.4.0 in /home/alessiosavi/anaconda3/envs/ml/lib/python3.9/site-packages (from tensorflow==2.7.0->mlutils) (0.13.0)\n",
      "Requirement already satisfied: opt-einsum>=2.3.2 in /home/alessiosavi/anaconda3/envs/ml/lib/python3.9/site-packages (from tensorflow==2.7.0->mlutils) (3.3.0)\n",
      "Requirement already satisfied: typing-extensions>=3.6.6 in /home/alessiosavi/anaconda3/envs/ml/lib/python3.9/site-packages (from tensorflow==2.7.0->mlutils) (3.10.0.2)\n",
      "Requirement already satisfied: tensorboard~=2.6 in /home/alessiosavi/anaconda3/envs/ml/lib/python3.9/site-packages (from tensorflow==2.7.0->mlutils) (2.6.0)\n",
      "Requirement already satisfied: wheel<1.0,>=0.32.0 in /home/alessiosavi/anaconda3/envs/ml/lib/python3.9/site-packages (from tensorflow==2.7.0->mlutils) (0.37.0)\n",
      "Requirement already satisfied: keras<2.8,>=2.7.0rc0 in /home/alessiosavi/anaconda3/envs/ml/lib/python3.9/site-packages (from tensorflow==2.7.0->mlutils) (2.7.0)\n",
      "Requirement already satisfied: termcolor>=1.1.0 in /home/alessiosavi/anaconda3/envs/ml/lib/python3.9/site-packages (from tensorflow==2.7.0->mlutils) (1.1.0)\n",
      "Requirement already satisfied: wrapt>=1.11.0 in /home/alessiosavi/anaconda3/envs/ml/lib/python3.9/site-packages (from tensorflow==2.7.0->mlutils) (1.12.1)\n",
      "Requirement already satisfied: google-pasta>=0.1.1 in /home/alessiosavi/anaconda3/envs/ml/lib/python3.9/site-packages (from tensorflow==2.7.0->mlutils) (0.2.0)\n",
      "Requirement already satisfied: tensorflow-io-gcs-filesystem>=0.21.0 in /home/alessiosavi/anaconda3/envs/ml/lib/python3.9/site-packages (from tensorflow==2.7.0->mlutils) (0.21.0)\n",
      "Requirement already satisfied: grpcio<2.0,>=1.24.3 in /home/alessiosavi/anaconda3/envs/ml/lib/python3.9/site-packages (from tensorflow==2.7.0->mlutils) (1.39.0)\n",
      "Requirement already satisfied: flatbuffers<3.0,>=1.12 in /home/alessiosavi/anaconda3/envs/ml/lib/python3.9/site-packages (from tensorflow==2.7.0->mlutils) (1.12)\n",
      "Requirement already satisfied: keras-preprocessing>=1.1.1 in /home/alessiosavi/anaconda3/envs/ml/lib/python3.9/site-packages (from tensorflow==2.7.0->mlutils) (1.1.2)\n",
      "Requirement already satisfied: gast<0.5.0,>=0.2.1 in /home/alessiosavi/anaconda3/envs/ml/lib/python3.9/site-packages (from tensorflow==2.7.0->mlutils) (0.4.0)\n",
      "Requirement already satisfied: h5py>=2.9.0 in /home/alessiosavi/anaconda3/envs/ml/lib/python3.9/site-packages (from tensorflow==2.7.0->mlutils) (3.1.0)\n",
      "Requirement already satisfied: tensorflow-estimator<2.8,~=2.7.0rc0 in /home/alessiosavi/anaconda3/envs/ml/lib/python3.9/site-packages (from tensorflow==2.7.0->mlutils) (2.7.0)\n",
      "Requirement already satisfied: astunparse>=1.6.0 in /home/alessiosavi/anaconda3/envs/ml/lib/python3.9/site-packages (from tensorflow==2.7.0->mlutils) (1.6.3)\n",
      "Requirement already satisfied: protobuf>=3.9.2 in /home/alessiosavi/anaconda3/envs/ml/lib/python3.9/site-packages (from tensorflow==2.7.0->mlutils) (3.11.2)\n",
      "Requirement already satisfied: setuptools in /home/alessiosavi/anaconda3/envs/ml/lib/python3.9/site-packages (from protobuf>=3.9.2->tensorflow==2.7.0->mlutils) (58.0.4)\n",
      "Requirement already satisfied: requests<3,>=2.21.0 in /home/alessiosavi/anaconda3/envs/ml/lib/python3.9/site-packages (from tensorboard~=2.6->tensorflow==2.7.0->mlutils) (2.26.0)\n",
      "Requirement already satisfied: tensorboard-data-server<0.7.0,>=0.6.0 in /home/alessiosavi/anaconda3/envs/ml/lib/python3.9/site-packages (from tensorboard~=2.6->tensorflow==2.7.0->mlutils) (0.6.1)\n",
      "Requirement already satisfied: google-auth<2,>=1.6.3 in /home/alessiosavi/anaconda3/envs/ml/lib/python3.9/site-packages (from tensorboard~=2.6->tensorflow==2.7.0->mlutils) (1.35.0)\n",
      "Requirement already satisfied: werkzeug>=0.11.15 in /home/alessiosavi/anaconda3/envs/ml/lib/python3.9/site-packages (from tensorboard~=2.6->tensorflow==2.7.0->mlutils) (2.0.1)\n",
      "Requirement already satisfied: google-auth-oauthlib<0.5,>=0.4.1 in /home/alessiosavi/anaconda3/envs/ml/lib/python3.9/site-packages (from tensorboard~=2.6->tensorflow==2.7.0->mlutils) (0.4.6)\n",
      "Requirement already satisfied: markdown>=2.6.8 in /home/alessiosavi/anaconda3/envs/ml/lib/python3.9/site-packages (from tensorboard~=2.6->tensorflow==2.7.0->mlutils) (3.3.4)\n",
      "Requirement already satisfied: tensorboard-plugin-wit>=1.6.0 in /home/alessiosavi/anaconda3/envs/ml/lib/python3.9/site-packages (from tensorboard~=2.6->tensorflow==2.7.0->mlutils) (1.8.0)\n",
      "Requirement already satisfied: pyasn1-modules>=0.2.1 in /home/alessiosavi/anaconda3/envs/ml/lib/python3.9/site-packages (from google-auth<2,>=1.6.3->tensorboard~=2.6->tensorflow==2.7.0->mlutils) (0.2.8)\n",
      "Requirement already satisfied: cachetools<5.0,>=2.0.0 in /home/alessiosavi/anaconda3/envs/ml/lib/python3.9/site-packages (from google-auth<2,>=1.6.3->tensorboard~=2.6->tensorflow==2.7.0->mlutils) (4.2.2)\n",
      "Requirement already satisfied: rsa<5,>=3.1.4 in /home/alessiosavi/anaconda3/envs/ml/lib/python3.9/site-packages (from google-auth<2,>=1.6.3->tensorboard~=2.6->tensorflow==2.7.0->mlutils) (4.7.2)\n",
      "Requirement already satisfied: requests-oauthlib>=0.7.0 in /home/alessiosavi/anaconda3/envs/ml/lib/python3.9/site-packages (from google-auth-oauthlib<0.5,>=0.4.1->tensorboard~=2.6->tensorflow==2.7.0->mlutils) (1.3.0)\n",
      "Requirement already satisfied: pyasn1<0.5.0,>=0.4.6 in /home/alessiosavi/anaconda3/envs/ml/lib/python3.9/site-packages (from pyasn1-modules>=0.2.1->google-auth<2,>=1.6.3->tensorboard~=2.6->tensorflow==2.7.0->mlutils) (0.4.8)\n",
      "Requirement already satisfied: charset-normalizer~=2.0.0 in /home/alessiosavi/anaconda3/envs/ml/lib/python3.9/site-packages (from requests<3,>=2.21.0->tensorboard~=2.6->tensorflow==2.7.0->mlutils) (2.0.4)\n",
      "Requirement already satisfied: urllib3<1.27,>=1.21.1 in /home/alessiosavi/anaconda3/envs/ml/lib/python3.9/site-packages (from requests<3,>=2.21.0->tensorboard~=2.6->tensorflow==2.7.0->mlutils) (1.26.7)\n",
      "Requirement already satisfied: certifi>=2017.4.17 in /home/alessiosavi/anaconda3/envs/ml/lib/python3.9/site-packages (from requests<3,>=2.21.0->tensorboard~=2.6->tensorflow==2.7.0->mlutils) (2021.10.8)\n",
      "Requirement already satisfied: idna<4,>=2.5 in /home/alessiosavi/anaconda3/envs/ml/lib/python3.9/site-packages (from requests<3,>=2.21.0->tensorboard~=2.6->tensorflow==2.7.0->mlutils) (3.2)\n",
      "Requirement already satisfied: oauthlib>=3.0.0 in /home/alessiosavi/anaconda3/envs/ml/lib/python3.9/site-packages (from requests-oauthlib>=0.7.0->google-auth-oauthlib<0.5,>=0.4.1->tensorboard~=2.6->tensorflow==2.7.0->mlutils) (3.1.1)\n"
     ]
    }
   ],
   "source": [
    "!pip install -i https://test.pypi.org/simple/ mlutils --upgrade"
   ]
  },
  {
   "cell_type": "code",
   "execution_count": 2,
   "id": "d0c0ab37-18d7-4388-bbcf-44418efb2d6a",
   "metadata": {
    "execution": {
     "iopub.execute_input": "2021-11-24T19:50:48.356923Z",
     "iopub.status.busy": "2021-11-24T19:50:48.356356Z",
     "iopub.status.idle": "2021-11-24T19:50:49.651290Z",
     "shell.execute_reply": "2021-11-24T19:50:49.650889Z",
     "shell.execute_reply.started": "2021-11-24T19:50:48.356848Z"
    },
    "tags": []
   },
   "outputs": [],
   "source": [
    "import pandas as pd\n",
    "from importlib import reload\n",
    "from mlutils.preprocessing import preprocessing\n",
    "from mlutils.tensorflowutils import tensorflowutils"
   ]
  },
  {
   "cell_type": "code",
   "execution_count": 3,
   "id": "976f3402-4fd0-41a3-825d-dc8c54607ddc",
   "metadata": {
    "execution": {
     "iopub.execute_input": "2021-11-24T19:50:49.652313Z",
     "iopub.status.busy": "2021-11-24T19:50:49.652211Z",
     "iopub.status.idle": "2021-11-24T19:50:49.663216Z",
     "shell.execute_reply": "2021-11-24T19:50:49.658478Z",
     "shell.execute_reply.started": "2021-11-24T19:50:49.652301Z"
    },
    "tags": []
   },
   "outputs": [
    {
     "data": {
      "text/plain": [
       "<module 'mlutils.tensorflowutils.tensorflowutils' from '/home/alessiosavi/anaconda3/envs/ml/lib/python3.9/site-packages/mlutils/tensorflowutils/tensorflowutils.py'>"
      ]
     },
     "execution_count": 3,
     "metadata": {},
     "output_type": "execute_result"
    }
   ],
   "source": [
    "reload(preprocessing)\n",
    "reload(tensorflowutils)"
   ]
  },
  {
   "cell_type": "code",
   "execution_count": 4,
   "id": "460179f3-2a55-48e1-ab1c-2d34b1e980e0",
   "metadata": {
    "execution": {
     "iopub.execute_input": "2021-11-24T19:50:49.663890Z",
     "iopub.status.busy": "2021-11-24T19:50:49.663783Z",
     "iopub.status.idle": "2021-11-24T19:50:50.276507Z",
     "shell.execute_reply": "2021-11-24T19:50:50.276095Z",
     "shell.execute_reply.started": "2021-11-24T19:50:49.663877Z"
    },
    "tags": []
   },
   "outputs": [],
   "source": [
    "df = pd.read_csv(\n",
    "    \"dataset/jena_climate_2009_2016.zip\", compression=\"zip\", low_memory=False\n",
    ")"
   ]
  },
  {
   "cell_type": "code",
   "execution_count": 5,
   "id": "cc122476-14fd-4319-9b42-b3e3bab2964a",
   "metadata": {
    "execution": {
     "iopub.execute_input": "2021-11-24T19:50:50.277059Z",
     "iopub.status.busy": "2021-11-24T19:50:50.276958Z",
     "iopub.status.idle": "2021-11-24T19:50:50.290545Z",
     "shell.execute_reply": "2021-11-24T19:50:50.290115Z",
     "shell.execute_reply.started": "2021-11-24T19:50:50.277047Z"
    },
    "tags": []
   },
   "outputs": [
    {
     "data": {
      "text/html": [
       "<div>\n",
       "<style scoped>\n",
       "    .dataframe tbody tr th:only-of-type {\n",
       "        vertical-align: middle;\n",
       "    }\n",
       "\n",
       "    .dataframe tbody tr th {\n",
       "        vertical-align: top;\n",
       "    }\n",
       "\n",
       "    .dataframe thead th {\n",
       "        text-align: right;\n",
       "    }\n",
       "</style>\n",
       "<table border=\"1\" class=\"dataframe\">\n",
       "  <thead>\n",
       "    <tr style=\"text-align: right;\">\n",
       "      <th></th>\n",
       "      <th>Date Time</th>\n",
       "      <th>T (degC)</th>\n",
       "    </tr>\n",
       "  </thead>\n",
       "  <tbody>\n",
       "    <tr>\n",
       "      <th>0</th>\n",
       "      <td>01.01.2009 00:10:00</td>\n",
       "      <td>-8.02</td>\n",
       "    </tr>\n",
       "    <tr>\n",
       "      <th>1</th>\n",
       "      <td>01.01.2009 00:20:00</td>\n",
       "      <td>-8.41</td>\n",
       "    </tr>\n",
       "    <tr>\n",
       "      <th>2</th>\n",
       "      <td>01.01.2009 00:30:00</td>\n",
       "      <td>-8.51</td>\n",
       "    </tr>\n",
       "    <tr>\n",
       "      <th>3</th>\n",
       "      <td>01.01.2009 00:40:00</td>\n",
       "      <td>-8.31</td>\n",
       "    </tr>\n",
       "    <tr>\n",
       "      <th>4</th>\n",
       "      <td>01.01.2009 00:50:00</td>\n",
       "      <td>-8.27</td>\n",
       "    </tr>\n",
       "  </tbody>\n",
       "</table>\n",
       "</div>"
      ],
      "text/plain": [
       "             Date Time  T (degC)\n",
       "0  01.01.2009 00:10:00     -8.02\n",
       "1  01.01.2009 00:20:00     -8.41\n",
       "2  01.01.2009 00:30:00     -8.51\n",
       "3  01.01.2009 00:40:00     -8.31\n",
       "4  01.01.2009 00:50:00     -8.27"
      ]
     },
     "execution_count": 5,
     "metadata": {},
     "output_type": "execute_result"
    }
   ],
   "source": [
    "df = df[[\"Date Time\", \"T (degC)\"]]\n",
    "df.head()"
   ]
  },
  {
   "cell_type": "code",
   "execution_count": 6,
   "id": "04d84fbd-cf15-49da-915f-75e1e24072d5",
   "metadata": {
    "execution": {
     "iopub.execute_input": "2021-11-24T19:50:50.291116Z",
     "iopub.status.busy": "2021-11-24T19:50:50.291012Z",
     "iopub.status.idle": "2021-11-24T19:50:51.067667Z",
     "shell.execute_reply": "2021-11-24T19:50:51.067350Z",
     "shell.execute_reply.started": "2021-11-24T19:50:50.291103Z"
    },
    "tags": []
   },
   "outputs": [],
   "source": [
    "df = preprocessing.set_time_index(df, \"Date Time\", time_format=\"%d.%m.%Y %H:%M:%S\")\n",
    "del df[\"Date Time\"]"
   ]
  },
  {
   "cell_type": "code",
   "execution_count": 7,
   "id": "258cc286-438f-447b-9086-00da69683c7e",
   "metadata": {
    "execution": {
     "iopub.execute_input": "2021-11-24T19:50:51.068224Z",
     "iopub.status.busy": "2021-11-24T19:50:51.068096Z",
     "iopub.status.idle": "2021-11-24T19:50:51.092888Z",
     "shell.execute_reply": "2021-11-24T19:50:51.092563Z",
     "shell.execute_reply.started": "2021-11-24T19:50:51.068211Z"
    },
    "tags": []
   },
   "outputs": [
    {
     "name": "stdout",
     "output_type": "stream",
     "text": [
      "<class 'pandas.core.frame.DataFrame'>\n",
      "DatetimeIndex: 420551 entries, 2009-01-01 00:10:00 to 2017-01-01 00:00:00\n",
      "Data columns (total 1 columns):\n",
      " #   Column    Non-Null Count   Dtype  \n",
      "---  ------    --------------   -----  \n",
      " 0   T (degC)  420551 non-null  float64\n",
      "dtypes: float64(1)\n",
      "memory usage: 6.4 MB\n"
     ]
    }
   ],
   "source": [
    "df.info(verbose=True, memory_usage=True, show_counts=True)"
   ]
  },
  {
   "cell_type": "code",
   "execution_count": 8,
   "id": "4d2e6e43-5f20-4fe1-96fc-f8c9e719880d",
   "metadata": {
    "execution": {
     "iopub.execute_input": "2021-11-24T19:50:51.093422Z",
     "iopub.status.busy": "2021-11-24T19:50:51.093315Z",
     "iopub.status.idle": "2021-11-24T19:50:51.105109Z",
     "shell.execute_reply": "2021-11-24T19:50:51.104711Z",
     "shell.execute_reply.started": "2021-11-24T19:50:51.093410Z"
    },
    "tags": []
   },
   "outputs": [
    {
     "data": {
      "text/html": [
       "<div>\n",
       "<style scoped>\n",
       "    .dataframe tbody tr th:only-of-type {\n",
       "        vertical-align: middle;\n",
       "    }\n",
       "\n",
       "    .dataframe tbody tr th {\n",
       "        vertical-align: top;\n",
       "    }\n",
       "\n",
       "    .dataframe thead th {\n",
       "        text-align: right;\n",
       "    }\n",
       "</style>\n",
       "<table border=\"1\" class=\"dataframe\">\n",
       "  <thead>\n",
       "    <tr style=\"text-align: right;\">\n",
       "      <th></th>\n",
       "      <th>T (degC)</th>\n",
       "    </tr>\n",
       "    <tr>\n",
       "      <th>Date Time</th>\n",
       "      <th></th>\n",
       "    </tr>\n",
       "  </thead>\n",
       "  <tbody>\n",
       "    <tr>\n",
       "      <th>2009-01-01 00:10:00</th>\n",
       "      <td>-8.02</td>\n",
       "    </tr>\n",
       "    <tr>\n",
       "      <th>2009-01-01 00:20:00</th>\n",
       "      <td>-8.41</td>\n",
       "    </tr>\n",
       "    <tr>\n",
       "      <th>2009-01-01 00:30:00</th>\n",
       "      <td>-8.51</td>\n",
       "    </tr>\n",
       "    <tr>\n",
       "      <th>2009-01-01 00:40:00</th>\n",
       "      <td>-8.31</td>\n",
       "    </tr>\n",
       "    <tr>\n",
       "      <th>2009-01-01 00:50:00</th>\n",
       "      <td>-8.27</td>\n",
       "    </tr>\n",
       "  </tbody>\n",
       "</table>\n",
       "</div>"
      ],
      "text/plain": [
       "                     T (degC)\n",
       "Date Time                    \n",
       "2009-01-01 00:10:00     -8.02\n",
       "2009-01-01 00:20:00     -8.41\n",
       "2009-01-01 00:30:00     -8.51\n",
       "2009-01-01 00:40:00     -8.31\n",
       "2009-01-01 00:50:00     -8.27"
      ]
     },
     "execution_count": 8,
     "metadata": {},
     "output_type": "execute_result"
    }
   ],
   "source": [
    "df.head()"
   ]
  },
  {
   "cell_type": "code",
   "execution_count": 9,
   "id": "8c23fed6-e860-45fd-9072-8645c07457e3",
   "metadata": {
    "execution": {
     "iopub.execute_input": "2021-11-24T19:50:51.105695Z",
     "iopub.status.busy": "2021-11-24T19:50:51.105588Z",
     "iopub.status.idle": "2021-11-24T19:50:51.188519Z",
     "shell.execute_reply": "2021-11-24T19:50:51.188166Z",
     "shell.execute_reply.started": "2021-11-24T19:50:51.105682Z"
    },
    "tags": []
   },
   "outputs": [
    {
     "name": "stdout",
     "output_type": "stream",
     "text": [
      "<class 'pandas.core.frame.DataFrame'>\n",
      "DatetimeIndex: 2923 entries, 2009-01-01 to 2017-01-01\n",
      "Freq: 86400S\n",
      "Data columns (total 1 columns):\n",
      " #   Column    Non-Null Count  Dtype  \n",
      "---  ------    --------------  -----  \n",
      " 0   T (degC)  2923 non-null   float64\n",
      "dtypes: float64(1)\n",
      "memory usage: 45.7 KB\n"
     ]
    }
   ],
   "source": [
    "# Resample to 1 day\n",
    "df = preprocessing.resample_df(df, 86400)\n",
    "\n",
    "df.info(verbose=True, memory_usage=True, show_counts=True)"
   ]
  },
  {
   "cell_type": "code",
   "execution_count": 10,
   "id": "5781098a-cc9f-4bf6-841c-01a65bb40e53",
   "metadata": {
    "execution": {
     "iopub.execute_input": "2021-11-24T19:50:51.188983Z",
     "iopub.status.busy": "2021-11-24T19:50:51.188887Z",
     "iopub.status.idle": "2021-11-24T19:50:51.504708Z",
     "shell.execute_reply": "2021-11-24T19:50:51.504261Z",
     "shell.execute_reply.started": "2021-11-24T19:50:51.188970Z"
    },
    "tags": []
   },
   "outputs": [
    {
     "data": {
      "image/png": "[encoded data removed]",
      "text/plain": [
       "<Figure size 1440x360 with 1 Axes>"
      ]
     },
     "metadata": {
      "needs_background": "light"
     },
     "output_type": "display_data"
    }
   ],
   "source": [
    "import matplotlib.pyplot as plt\n",
    "\n",
    "for i in df.columns:\n",
    "    plt.figure(figsize=(20, 5))\n",
    "    plt.title(i)\n",
    "    plt.plot(df[i])"
   ]
  },
  {
   "cell_type": "code",
   "execution_count": 11,
   "id": "e5f730e5-736c-425a-9d87-3ac5495ebf3a",
   "metadata": {
    "execution": {
     "iopub.execute_input": "2021-11-24T19:50:51.505364Z",
     "iopub.status.busy": "2021-11-24T19:50:51.505196Z",
     "iopub.status.idle": "2021-11-24T19:50:51.512253Z",
     "shell.execute_reply": "2021-11-24T19:50:51.511859Z",
     "shell.execute_reply.started": "2021-11-24T19:50:51.505348Z"
    },
    "tags": []
   },
   "outputs": [
    {
     "data": {
      "text/html": [
       "<div>\n",
       "<style scoped>\n",
       "    .dataframe tbody tr th:only-of-type {\n",
       "        vertical-align: middle;\n",
       "    }\n",
       "\n",
       "    .dataframe tbody tr th {\n",
       "        vertical-align: top;\n",
       "    }\n",
       "\n",
       "    .dataframe thead th {\n",
       "        text-align: right;\n",
       "    }\n",
       "</style>\n",
       "<table border=\"1\" class=\"dataframe\">\n",
       "  <thead>\n",
       "    <tr style=\"text-align: right;\">\n",
       "      <th></th>\n",
       "      <th>T (degC)</th>\n",
       "    </tr>\n",
       "  </thead>\n",
       "  <tbody>\n",
       "    <tr>\n",
       "      <th>count</th>\n",
       "      <td>2923.000000</td>\n",
       "    </tr>\n",
       "    <tr>\n",
       "      <th>mean</th>\n",
       "      <td>9.438695</td>\n",
       "    </tr>\n",
       "    <tr>\n",
       "      <th>std</th>\n",
       "      <td>7.836859</td>\n",
       "    </tr>\n",
       "    <tr>\n",
       "      <th>min</th>\n",
       "      <td>-16.457292</td>\n",
       "    </tr>\n",
       "    <tr>\n",
       "      <th>25%</th>\n",
       "      <td>3.811007</td>\n",
       "    </tr>\n",
       "    <tr>\n",
       "      <th>50%</th>\n",
       "      <td>9.708333</td>\n",
       "    </tr>\n",
       "    <tr>\n",
       "      <th>75%</th>\n",
       "      <td>15.419062</td>\n",
       "    </tr>\n",
       "    <tr>\n",
       "      <th>max</th>\n",
       "      <td>29.375347</td>\n",
       "    </tr>\n",
       "  </tbody>\n",
       "</table>\n",
       "</div>"
      ],
      "text/plain": [
       "          T (degC)\n",
       "count  2923.000000\n",
       "mean      9.438695\n",
       "std       7.836859\n",
       "min     -16.457292\n",
       "25%       3.811007\n",
       "50%       9.708333\n",
       "75%      15.419062\n",
       "max      29.375347"
      ]
     },
     "execution_count": 11,
     "metadata": {},
     "output_type": "execute_result"
    }
   ],
   "source": [
    "df.describe()"
   ]
  },
  {
   "cell_type": "markdown",
   "id": "e329577a-b8ce-440c-90aa-dfb06eabc4f0",
   "metadata": {},
   "source": [
    "# TENSORFLOW"
   ]
  },
  {
   "cell_type": "code",
   "execution_count": 12,
   "id": "f9ae46a7-ce59-44b5-a49d-d4fe46dde903",
   "metadata": {
    "execution": {
     "iopub.execute_input": "2021-11-24T19:50:51.513717Z",
     "iopub.status.busy": "2021-11-24T19:50:51.513584Z",
     "iopub.status.idle": "2021-11-24T19:50:51.558562Z",
     "shell.execute_reply": "2021-11-24T19:50:51.558094Z",
     "shell.execute_reply.started": "2021-11-24T19:50:51.513703Z"
    },
    "tags": []
   },
   "outputs": [
    {
     "name": "stdout",
     "output_type": "stream",
     "text": [
      "INFO:tensorflow:Mixed precision compatibility check (mixed_float16): OK\n",
      "Your GPU will likely run quickly with dtype policy mixed_float16 as it has compute capability of at least 7.0. Your GPU: NVIDIA GeForce RTX 2080 Ti, compute capability 7.5\n"
     ]
    },
    {
     "name": "stderr",
     "output_type": "stream",
     "text": [
      "2021-11-24 20:50:51.550657: I tensorflow/stream_executor/cuda/cuda_gpu_executor.cc:939] successful NUMA node read from SysFS had negative value (-1), but there must be at least one NUMA node, so returning NUMA node zero\n",
      "2021-11-24 20:50:51.554778: I tensorflow/stream_executor/cuda/cuda_gpu_executor.cc:939] successful NUMA node read from SysFS had negative value (-1), but there must be at least one NUMA node, so returning NUMA node zero\n",
      "2021-11-24 20:50:51.555549: I tensorflow/stream_executor/cuda/cuda_gpu_executor.cc:939] successful NUMA node read from SysFS had negative value (-1), but there must be at least one NUMA node, so returning NUMA node zero\n",
      "2021-11-24 20:50:51.556004: I tensorflow/stream_executor/cuda/cuda_gpu_executor.cc:939] successful NUMA node read from SysFS had negative value (-1), but there must be at least one NUMA node, so returning NUMA node zero\n"
     ]
    }
   ],
   "source": [
    "import tensorflow as tf\n",
    "from tensorflow.keras import mixed_precision\n",
    "\n",
    "policy = mixed_precision.Policy(\"mixed_float16\")\n",
    "mixed_precision.set_global_policy(policy)"
   ]
  },
  {
   "cell_type": "code",
   "execution_count": 13,
   "id": "f8fa982d-6acd-4680-8a55-5b0bd3317fc5",
   "metadata": {
    "execution": {
     "iopub.execute_input": "2021-11-24T19:50:51.559161Z",
     "iopub.status.busy": "2021-11-24T19:50:51.559057Z",
     "iopub.status.idle": "2021-11-24T19:50:51.575067Z",
     "shell.execute_reply": "2021-11-24T19:50:51.574670Z",
     "shell.execute_reply.started": "2021-11-24T19:50:51.559148Z"
    },
    "tags": []
   },
   "outputs": [
    {
     "data": {
      "text/html": [
       "<div>\n",
       "<style scoped>\n",
       "    .dataframe tbody tr th:only-of-type {\n",
       "        vertical-align: middle;\n",
       "    }\n",
       "\n",
       "    .dataframe tbody tr th {\n",
       "        vertical-align: top;\n",
       "    }\n",
       "\n",
       "    .dataframe thead th {\n",
       "        text-align: right;\n",
       "    }\n",
       "</style>\n",
       "<table border=\"1\" class=\"dataframe\">\n",
       "  <thead>\n",
       "    <tr style=\"text-align: right;\">\n",
       "      <th></th>\n",
       "      <th>T (degC)</th>\n",
       "    </tr>\n",
       "    <tr>\n",
       "      <th>Date Time</th>\n",
       "      <th></th>\n",
       "    </tr>\n",
       "  </thead>\n",
       "  <tbody>\n",
       "    <tr>\n",
       "      <th>2009-01-01</th>\n",
       "      <td>-6.810629</td>\n",
       "    </tr>\n",
       "    <tr>\n",
       "      <th>2009-01-02</th>\n",
       "      <td>-3.728194</td>\n",
       "    </tr>\n",
       "    <tr>\n",
       "      <th>2009-01-03</th>\n",
       "      <td>-5.271736</td>\n",
       "    </tr>\n",
       "    <tr>\n",
       "      <th>2009-01-04</th>\n",
       "      <td>-1.375208</td>\n",
       "    </tr>\n",
       "    <tr>\n",
       "      <th>2009-01-05</th>\n",
       "      <td>-4.867153</td>\n",
       "    </tr>\n",
       "  </tbody>\n",
       "</table>\n",
       "</div>"
      ],
      "text/plain": [
       "            T (degC)\n",
       "Date Time           \n",
       "2009-01-01 -6.810629\n",
       "2009-01-02 -3.728194\n",
       "2009-01-03 -5.271736\n",
       "2009-01-04 -1.375208\n",
       "2009-01-05 -4.867153"
      ]
     },
     "execution_count": 13,
     "metadata": {},
     "output_type": "execute_result"
    }
   ],
   "source": [
    "df.head()"
   ]
  },
  {
   "cell_type": "markdown",
   "id": "d5aca4e5-f171-44a8-b7fb-23da9a05f69e",
   "metadata": {},
   "source": [
    "## Scale data"
   ]
  },
  {
   "cell_type": "code",
   "execution_count": 14,
   "id": "b083494a-672d-4fb4-8f61-1fbd9b9d11ba",
   "metadata": {
    "execution": {
     "iopub.execute_input": "2021-11-24T19:50:51.575738Z",
     "iopub.status.busy": "2021-11-24T19:50:51.575542Z",
     "iopub.status.idle": "2021-11-24T19:50:51.711817Z",
     "shell.execute_reply": "2021-11-24T19:50:51.711409Z",
     "shell.execute_reply.started": "2021-11-24T19:50:51.575723Z"
    },
    "tags": []
   },
   "outputs": [],
   "source": [
    "from sklearn.preprocessing import StandardScaler\n",
    "\n",
    "scaler = {}\n",
    "columns = {}\n",
    "for column in df.columns:\n",
    "    sc = StandardScaler()\n",
    "    scaler[column] = sc\n",
    "    df_scaled = sc.fit_transform(df[column].to_numpy().reshape(-1, 1))\n",
    "    columns[column] = df_scaled.ravel()\n",
    "# df_scaled = pd.DataFrame(df_scaled, columns=df.columns)"
   ]
  },
  {
   "cell_type": "code",
   "execution_count": 15,
   "id": "9d746d45-8c97-44a3-89fa-c539ad2593b9",
   "metadata": {
    "execution": {
     "iopub.execute_input": "2021-11-24T19:50:51.712334Z",
     "iopub.status.busy": "2021-11-24T19:50:51.712235Z",
     "iopub.status.idle": "2021-11-24T19:50:51.800661Z",
     "shell.execute_reply": "2021-11-24T19:50:51.800337Z",
     "shell.execute_reply.started": "2021-11-24T19:50:51.712322Z"
    },
    "tags": []
   },
   "outputs": [
    {
     "data": {
      "text/html": [
       "<div>\n",
       "<style scoped>\n",
       "    .dataframe tbody tr th:only-of-type {\n",
       "        vertical-align: middle;\n",
       "    }\n",
       "\n",
       "    .dataframe tbody tr th {\n",
       "        vertical-align: top;\n",
       "    }\n",
       "\n",
       "    .dataframe thead th {\n",
       "        text-align: right;\n",
       "    }\n",
       "</style>\n",
       "<table border=\"1\" class=\"dataframe\">\n",
       "  <thead>\n",
       "    <tr style=\"text-align: right;\">\n",
       "      <th></th>\n",
       "      <th>T (degC)</th>\n",
       "    </tr>\n",
       "  </thead>\n",
       "  <tbody>\n",
       "    <tr>\n",
       "      <th>0</th>\n",
       "      <td>-2.073803</td>\n",
       "    </tr>\n",
       "    <tr>\n",
       "      <th>1</th>\n",
       "      <td>-1.680411</td>\n",
       "    </tr>\n",
       "    <tr>\n",
       "      <th>2</th>\n",
       "      <td>-1.877404</td>\n",
       "    </tr>\n",
       "    <tr>\n",
       "      <th>3</th>\n",
       "      <td>-1.380113</td>\n",
       "    </tr>\n",
       "    <tr>\n",
       "      <th>4</th>\n",
       "      <td>-1.825769</td>\n",
       "    </tr>\n",
       "  </tbody>\n",
       "</table>\n",
       "</div>"
      ],
      "text/plain": [
       "   T (degC)\n",
       "0 -2.073803\n",
       "1 -1.680411\n",
       "2 -1.877404\n",
       "3 -1.380113\n",
       "4 -1.825769"
      ]
     },
     "metadata": {},
     "output_type": "display_data"
    },
    {
     "data": {
      "text/plain": [
       "<AxesSubplot:>"
      ]
     },
     "execution_count": 15,
     "metadata": {},
     "output_type": "execute_result"
    },
    {
     "data": {
      "image/png": "[encoded data removed]",
      "text/plain": [
       "<Figure size 432x288 with 1 Axes>"
      ]
     },
     "metadata": {
      "needs_background": "light"
     },
     "output_type": "display_data"
    }
   ],
   "source": [
    "df_scaled = pd.DataFrame(columns)\n",
    "display(df_scaled.head())\n",
    "df_scaled.plot()"
   ]
  },
  {
   "cell_type": "code",
   "execution_count": 16,
   "id": "8c4dedde-5e09-4462-95cc-c374e4a74a57",
   "metadata": {
    "execution": {
     "iopub.execute_input": "2021-11-24T19:50:51.801196Z",
     "iopub.status.busy": "2021-11-24T19:50:51.801095Z",
     "iopub.status.idle": "2021-11-24T19:50:51.809252Z",
     "shell.execute_reply": "2021-11-24T19:50:51.808871Z",
     "shell.execute_reply.started": "2021-11-24T19:50:51.801183Z"
    },
    "tags": []
   },
   "outputs": [
    {
     "data": {
      "text/plain": [
       "(2923, 1)"
      ]
     },
     "execution_count": 16,
     "metadata": {},
     "output_type": "execute_result"
    }
   ],
   "source": [
    "numpy_x = df_scaled.values\n",
    "# numpy_x = df.values\n",
    "# numpy_x = numpy_x.reshape(numpy_x.shape[0], 1)\n",
    "numpy_x.shape"
   ]
  },
  {
   "cell_type": "code",
   "execution_count": 17,
   "id": "718b4ec3-b79d-4523-b914-72d7cf0ac19e",
   "metadata": {
    "execution": {
     "iopub.execute_input": "2021-11-24T19:50:51.809989Z",
     "iopub.status.busy": "2021-11-24T19:50:51.809813Z",
     "iopub.status.idle": "2021-11-24T19:50:51.822657Z",
     "shell.execute_reply": "2021-11-24T19:50:51.822311Z",
     "shell.execute_reply.started": "2021-11-24T19:50:51.809975Z"
    },
    "tags": []
   },
   "outputs": [],
   "source": [
    "# Use 370 days as history, predict 7 days\n",
    "history_window = 370\n",
    "n_prediction = 7\n",
    "n_features = numpy_x.shape[1]\n",
    "df_x, df_y = preprocessing.split_sequence(numpy_x, history_window, n_prediction)"
   ]
  },
  {
   "cell_type": "code",
   "execution_count": 18,
   "id": "40431c11-491a-40ea-a6da-d9034ba82aa5",
   "metadata": {
    "execution": {
     "iopub.execute_input": "2021-11-24T19:50:51.823341Z",
     "iopub.status.busy": "2021-11-24T19:50:51.823200Z",
     "iopub.status.idle": "2021-11-24T19:50:51.836516Z",
     "shell.execute_reply": "2021-11-24T19:50:51.836156Z",
     "shell.execute_reply.started": "2021-11-24T19:50:51.823327Z"
    },
    "tags": []
   },
   "outputs": [],
   "source": [
    "def get_predict_columns(df: pd.DataFrame, feature_name: str) -> int:\n",
    "    for i in range(len(df.columns)):\n",
    "        if df.columns[i] == feature_name:\n",
    "            return i\n",
    "    raise Exception(\"No column found\")\n",
    "\n",
    "\n",
    "feature_to_predict = get_predict_columns(df, \"T (degC)\")"
   ]
  },
  {
   "cell_type": "code",
   "execution_count": 19,
   "id": "b998afef-1785-4a25-8340-d538ba4c04e1",
   "metadata": {
    "execution": {
     "iopub.execute_input": "2021-11-24T19:50:51.837214Z",
     "iopub.status.busy": "2021-11-24T19:50:51.836996Z",
     "iopub.status.idle": "2021-11-24T19:50:51.854455Z",
     "shell.execute_reply": "2021-11-24T19:50:51.854138Z",
     "shell.execute_reply.started": "2021-11-24T19:50:51.837202Z"
    },
    "tags": []
   },
   "outputs": [],
   "source": [
    "df_y = df_y[:, :, feature_to_predict]"
   ]
  },
  {
   "cell_type": "code",
   "execution_count": 20,
   "id": "fd40ff6d-4fae-426e-ba38-776d9b726a23",
   "metadata": {
    "execution": {
     "iopub.execute_input": "2021-11-24T19:50:51.855039Z",
     "iopub.status.busy": "2021-11-24T19:50:51.854939Z",
     "iopub.status.idle": "2021-11-24T19:50:51.881247Z",
     "shell.execute_reply": "2021-11-24T19:50:51.879317Z",
     "shell.execute_reply.started": "2021-11-24T19:50:51.855027Z"
    },
    "tags": []
   },
   "outputs": [
    {
     "data": {
      "text/plain": [
       "((2547, 370, 1), (2547, 7))"
      ]
     },
     "execution_count": 20,
     "metadata": {},
     "output_type": "execute_result"
    }
   ],
   "source": [
    "df_x.shape, df_y.shape"
   ]
  },
  {
   "cell_type": "code",
   "execution_count": 21,
   "id": "c7534a87-7178-4189-b31b-720b86a64a24",
   "metadata": {
    "execution": {
     "iopub.execute_input": "2021-11-24T19:50:51.885139Z",
     "iopub.status.busy": "2021-11-24T19:50:51.884518Z",
     "iopub.status.idle": "2021-11-24T19:50:51.914973Z",
     "shell.execute_reply": "2021-11-24T19:50:51.914121Z",
     "shell.execute_reply.started": "2021-11-24T19:50:51.885069Z"
    },
    "tags": []
   },
   "outputs": [
    {
     "data": {
      "text/plain": [
       "(2547, 370)"
      ]
     },
     "execution_count": 21,
     "metadata": {},
     "output_type": "execute_result"
    }
   ],
   "source": [
    "# Reshaping into n_example, timestamps, features\n",
    "df_x = df_x.reshape(df_x.shape[0], df_x.shape[1])\n",
    "df_x.shape"
   ]
  },
  {
   "cell_type": "code",
   "execution_count": 22,
   "id": "571978a3-6878-407f-b1e5-8a0c1236c934",
   "metadata": {
    "execution": {
     "iopub.execute_input": "2021-11-24T19:50:51.916196Z",
     "iopub.status.busy": "2021-11-24T19:50:51.915994Z",
     "iopub.status.idle": "2021-11-24T19:50:51.934410Z",
     "shell.execute_reply": "2021-11-24T19:50:51.933998Z",
     "shell.execute_reply.started": "2021-11-24T19:50:51.916172Z"
    },
    "tags": []
   },
   "outputs": [
    {
     "data": {
      "text/plain": [
       "(2547, 7)"
      ]
     },
     "execution_count": 22,
     "metadata": {},
     "output_type": "execute_result"
    }
   ],
   "source": [
    "# Reshaping in n_example, timestamps\n",
    "df_y = df_y.reshape(df_y.shape[0], df_y.shape[1])\n",
    "df_y.shape"
   ]
  },
  {
   "cell_type": "code",
   "execution_count": 32,
   "id": "76bc3a93-ef36-4e07-b11c-1d2b6d4daeb7",
   "metadata": {
    "execution": {
     "iopub.execute_input": "2021-11-24T19:52:56.558384Z",
     "iopub.status.busy": "2021-11-24T19:52:56.557589Z",
     "iopub.status.idle": "2021-11-24T19:52:56.566827Z",
     "shell.execute_reply": "2021-11-24T19:52:56.565682Z",
     "shell.execute_reply.started": "2021-11-24T19:52:56.558314Z"
    },
    "tags": []
   },
   "outputs": [],
   "source": [
    "example_conf = \"\"\"\n",
    "{\n",
    "    \"model_type\": \"Sequential\",\n",
    "    \"input_shape\": [\n",
    "        370\n",
    "    ],\n",
    "    \"model_conf\": [\n",
    "        {\n",
    "            \"layer\": \"DENSE\",\n",
    "            \"layer_conf\": {\n",
    "                \"units\": 128,\n",
    "                \"activation\": \"relu\",\n",
    "                \"use_bias\": true,\n",
    "                \"kernel_initializer\": \"glorot_uniform\",\n",
    "                \"bias_initializer\": \"zeros\"\n",
    "            }\n",
    "        },\n",
    "        {\n",
    "            \"layer\": \"DENSE\",\n",
    "            \"layer_conf\": {\n",
    "                \"units\": 64,\n",
    "                \"activation\": \"relu\",\n",
    "                \"use_bias\": true,\n",
    "                \"kernel_initializer\": \"glorot_uniform\",\n",
    "                \"bias_initializer\": \"zeros\"\n",
    "            }\n",
    "        },\n",
    "        {\n",
    "            \"layer\": \"DROPOUT\",\n",
    "            \"layer_conf\": {\n",
    "                \"rate\": 0.1\n",
    "            }\n",
    "        },\n",
    "        {\n",
    "            \"layer\": \"DENSE\",\n",
    "            \"layer_conf\": {\n",
    "                \"units\": 7,\n",
    "                \"activation\": \"\",\n",
    "                \"use_bias\": true,\n",
    "                \"kernel_initializer\": \"glorot_uniform\",\n",
    "                \"bias_initializer\": \"zeros\"\n",
    "            }\n",
    "        }\n",
    "    ],\n",
    "    \"compile_conf\": {\n",
    "        \"optimizer\": \"rmsprop\",\n",
    "        \"loss\": \"mse\",\n",
    "        \"metrics\": \"mae\"\n",
    "    }\n",
    "}\n",
    "\"\"\""
   ]
  },
  {
   "cell_type": "code",
   "execution_count": 33,
   "id": "063c9f46-8cc1-417e-b3bc-f32963e4b9e2",
   "metadata": {
    "execution": {
     "iopub.execute_input": "2021-11-24T19:52:56.780327Z",
     "iopub.status.busy": "2021-11-24T19:52:56.779886Z",
     "iopub.status.idle": "2021-11-24T19:52:56.787618Z",
     "shell.execute_reply": "2021-11-24T19:52:56.786822Z",
     "shell.execute_reply.started": "2021-11-24T19:52:56.780277Z"
    },
    "tags": []
   },
   "outputs": [
    {
     "data": {
      "text/plain": [
       "((2546, 370), (2546, 7))"
      ]
     },
     "execution_count": 33,
     "metadata": {},
     "output_type": "execute_result"
    }
   ],
   "source": [
    "df_x[:-1].shape, df_y[:-1].shape"
   ]
  },
  {
   "cell_type": "code",
   "execution_count": 34,
   "id": "a51dfdee-5004-46d7-9ca4-d2fe76dcc6f2",
   "metadata": {
    "execution": {
     "iopub.execute_input": "2021-11-24T19:52:57.014656Z",
     "iopub.status.busy": "2021-11-24T19:52:57.014025Z",
     "iopub.status.idle": "2021-11-24T19:53:02.269344Z",
     "shell.execute_reply": "2021-11-24T19:53:02.268953Z",
     "shell.execute_reply.started": "2021-11-24T19:52:57.014568Z"
    },
    "scrolled": true,
    "tags": []
   },
   "outputs": [
    {
     "name": "stdout",
     "output_type": "stream",
     "text": [
      "Model: \"sequential_1\"\n",
      "_________________________________________________________________\n",
      " Layer (type)                Output Shape              Param #   \n",
      "=================================================================\n",
      " dense_3 (Dense)             (None, 128)               47488     \n",
      "                                                                 \n",
      " dense_4 (Dense)             (None, 64)                8256      \n",
      "                                                                 \n",
      " dropout_1 (Dropout)         (None, 64)                0         \n",
      "                                                                 \n",
      " dense_5 (Dense)             (None, 7)                 455       \n",
      "                                                                 \n",
      "=================================================================\n",
      "Total params: 56,199\n",
      "Trainable params: 56,199\n",
      "Non-trainable params: 0\n",
      "_________________________________________________________________\n",
      "Epoch 1/1000\n",
      "80/80 [==============================] - 1s 2ms/step - loss: 0.4190 - mae: 0.5035\n",
      "Epoch 2/1000\n",
      "80/80 [==============================] - 0s 2ms/step - loss: 0.2809 - mae: 0.4183\n",
      "Epoch 3/1000\n",
      "80/80 [==============================] - 0s 2ms/step - loss: 0.2380 - mae: 0.3867\n",
      "Epoch 4/1000\n",
      "80/80 [==============================] - 0s 2ms/step - loss: 0.2151 - mae: 0.3669\n",
      "Epoch 5/1000\n",
      "80/80 [==============================] - 0s 2ms/step - loss: 0.1941 - mae: 0.3477\n",
      "Epoch 6/1000\n",
      "80/80 [==============================] - 0s 2ms/step - loss: 0.1696 - mae: 0.3273\n",
      "Epoch 7/1000\n",
      "80/80 [==============================] - 0s 2ms/step - loss: 0.1597 - mae: 0.3164\n",
      "Epoch 8/1000\n",
      "80/80 [==============================] - 0s 2ms/step - loss: 0.1459 - mae: 0.3037\n",
      "Epoch 9/1000\n",
      "80/80 [==============================] - 0s 2ms/step - loss: 0.1398 - mae: 0.2959\n",
      "Epoch 10/1000\n",
      "80/80 [==============================] - 0s 2ms/step - loss: 0.1324 - mae: 0.2872\n",
      "Epoch 11/1000\n",
      "80/80 [==============================] - 0s 2ms/step - loss: 0.1238 - mae: 0.2779\n",
      "Epoch 12/1000\n",
      "80/80 [==============================] - 0s 2ms/step - loss: 0.1225 - mae: 0.2746\n",
      "Epoch 13/1000\n",
      "80/80 [==============================] - 0s 2ms/step - loss: 0.1142 - mae: 0.2663\n",
      "Epoch 14/1000\n",
      "80/80 [==============================] - 0s 2ms/step - loss: 0.1108 - mae: 0.2610\n",
      "Epoch 15/1000\n",
      "80/80 [==============================] - 0s 2ms/step - loss: 0.1085 - mae: 0.2581\n",
      "Epoch 16/1000\n",
      "80/80 [==============================] - 0s 2ms/step - loss: 0.1040 - mae: 0.2532\n",
      "Epoch 17/1000\n",
      "80/80 [==============================] - 0s 2ms/step - loss: 0.0982 - mae: 0.2467\n",
      "Epoch 18/1000\n",
      "80/80 [==============================] - 0s 2ms/step - loss: 0.0951 - mae: 0.2428\n",
      "Epoch 19/1000\n",
      "80/80 [==============================] - 0s 2ms/step - loss: 0.0948 - mae: 0.2404\n",
      "Epoch 20/1000\n",
      "80/80 [==============================] - 0s 2ms/step - loss: 0.0932 - mae: 0.2393\n",
      "Epoch 21/1000\n",
      "80/80 [==============================] - 0s 2ms/step - loss: 0.0885 - mae: 0.2344\n",
      "Epoch 22/1000\n",
      "80/80 [==============================] - 0s 2ms/step - loss: 0.0884 - mae: 0.2330\n",
      "Epoch 23/1000\n",
      "80/80 [==============================] - 0s 2ms/step - loss: 0.0848 - mae: 0.2268\n",
      "Epoch 24/1000\n",
      "80/80 [==============================] - 0s 2ms/step - loss: 0.0840 - mae: 0.2274\n",
      "Epoch 25/1000\n",
      "80/80 [==============================] - 0s 2ms/step - loss: 0.0837 - mae: 0.2259\n",
      "Epoch 26/1000\n",
      "80/80 [==============================] - 0s 2ms/step - loss: 0.0801 - mae: 0.2214\n",
      "Epoch 27/1000\n",
      "80/80 [==============================] - 0s 2ms/step - loss: 0.0799 - mae: 0.2203\n",
      "Epoch 28/1000\n",
      "80/80 [==============================] - 0s 2ms/step - loss: 0.0774 - mae: 0.2178\n",
      "Epoch 29/1000\n",
      "80/80 [==============================] - 0s 2ms/step - loss: 0.0791 - mae: 0.2195\n",
      "INFO:tensorflow:Assets written to: DENSE_DENSE_DROPOUT_DENSE/0/assets\n"
     ]
    }
   ],
   "source": [
    "import json\n",
    "c = json.loads(example_conf)\n",
    "callback = tf.keras.callbacks.EarlyStopping(\n",
    "    monitor=\"loss\", patience=10, restore_best_weights=True\n",
    ")\n",
    "model = tensorflowutils.train_model(c,df_x[:-1], df_y[:-1],epochs=1000, callbacks=callback)"
   ]
  },
  {
   "cell_type": "code",
   "execution_count": 35,
   "id": "0f9b6df4-7760-4ae8-85e5-9406a96d2f68",
   "metadata": {
    "execution": {
     "iopub.execute_input": "2021-11-24T19:53:02.270349Z",
     "iopub.status.busy": "2021-11-24T19:53:02.270241Z",
     "iopub.status.idle": "2021-11-24T19:53:02.272851Z",
     "shell.execute_reply": "2021-11-24T19:53:02.272451Z",
     "shell.execute_reply.started": "2021-11-24T19:53:02.270336Z"
    },
    "tags": []
   },
   "outputs": [],
   "source": [
    "# Reshape input in order to have a single example with `history_window` timestamp\n",
    "model_input = df_x[-1].reshape(1, history_window, n_features)"
   ]
  },
  {
   "cell_type": "code",
   "execution_count": 36,
   "id": "e7543481-5243-4dc5-aa2d-7967820a6896",
   "metadata": {
    "execution": {
     "iopub.execute_input": "2021-11-24T19:53:02.273551Z",
     "iopub.status.busy": "2021-11-24T19:53:02.273425Z",
     "iopub.status.idle": "2021-11-24T19:53:02.357992Z",
     "shell.execute_reply": "2021-11-24T19:53:02.357565Z",
     "shell.execute_reply.started": "2021-11-24T19:53:02.273537Z"
    },
    "tags": []
   },
   "outputs": [],
   "source": [
    "model_prediction = model.predict(model_input).ravel()"
   ]
  },
  {
   "cell_type": "code",
   "execution_count": 37,
   "id": "f557bde3-7b78-4be8-8742-5aebc56fb858",
   "metadata": {
    "execution": {
     "iopub.execute_input": "2021-11-24T19:53:02.358818Z",
     "iopub.status.busy": "2021-11-24T19:53:02.358716Z",
     "iopub.status.idle": "2021-11-24T19:53:02.361624Z",
     "shell.execute_reply": "2021-11-24T19:53:02.361236Z",
     "shell.execute_reply.started": "2021-11-24T19:53:02.358806Z"
    },
    "tags": []
   },
   "outputs": [],
   "source": [
    "d = {\n",
    "    \"real_values\": scaler[\"T (degC)\"]\n",
    "    .inverse_transform(df_y[-1].reshape(-1, 1))\n",
    "    .ravel(),\n",
    "    \"model_values\": scaler[\"T (degC)\"]\n",
    "    .inverse_transform(model_prediction.reshape(-1, 1))\n",
    "    .ravel(),\n",
    "}"
   ]
  },
  {
   "cell_type": "code",
   "execution_count": 38,
   "id": "497af2a6-67e4-4f00-8d8b-e47801a6076a",
   "metadata": {
    "execution": {
     "iopub.execute_input": "2021-11-24T19:53:02.362360Z",
     "iopub.status.busy": "2021-11-24T19:53:02.362205Z",
     "iopub.status.idle": "2021-11-24T19:53:02.458846Z",
     "shell.execute_reply": "2021-11-24T19:53:02.458435Z",
     "shell.execute_reply.started": "2021-11-24T19:53:02.362346Z"
    },
    "tags": []
   },
   "outputs": [
    {
     "data": {
      "text/plain": [
       "<AxesSubplot:>"
      ]
     },
     "execution_count": 38,
     "metadata": {},
     "output_type": "execute_result"
    },
    {
     "data": {
      "image/png": "[encoded data removed]",
      "text/plain": [
       "<Figure size 432x288 with 1 Axes>"
      ]
     },
     "metadata": {
      "needs_background": "light"
     },
     "output_type": "display_data"
    }
   ],
   "source": [
    "pd.DataFrame(d).plot()"
   ]
  },
  {
   "cell_type": "code",
   "execution_count": 31,
   "id": "fe26af04-7fa7-48dd-b8aa-e4d05d270f3c",
   "metadata": {
    "execution": {
     "iopub.execute_input": "2021-11-24T19:50:56.417852Z",
     "iopub.status.busy": "2021-11-24T19:50:56.417750Z",
     "iopub.status.idle": "2021-11-24T19:50:56.474296Z",
     "shell.execute_reply": "2021-11-24T19:50:56.473897Z",
     "shell.execute_reply.started": "2021-11-24T19:50:56.417839Z"
    },
    "scrolled": true,
    "tags": []
   },
   "outputs": [],
   "source": [
    "model.save(\"my_model.h5\")\n",
    "model = tf.keras.models.load_model(\"my_model.h5\")"
   ]
  }
 ],
 "metadata": {
  "kernelspec": {
   "display_name": "Python 3 (ipykernel)",
   "language": "python",
   "name": "python3"
  },
  "language_info": {
   "codemirror_mode": {
    "name": "ipython",
    "version": 3
   },
   "file_extension": ".py",
   "mimetype": "text/x-python",
   "name": "python",
   "nbconvert_exporter": "python",
   "pygments_lexer": "ipython3",
   "version": "3.9.7"
  }
 },
 "nbformat": 4,
 "nbformat_minor": 5
}
