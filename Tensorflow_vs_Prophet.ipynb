{
 "cells": [
  {
   "cell_type": "code",
   "execution_count": 1,
   "id": "d0c0ab37-18d7-4388-bbcf-44418efb2d6a",
   "metadata": {
    "execution": {
     "iopub.execute_input": "2021-11-10T21:17:00.149596Z",
     "iopub.status.busy": "2021-11-10T21:17:00.149596Z",
     "iopub.status.idle": "2021-11-10T21:17:00.523627Z",
     "shell.execute_reply": "2021-11-10T21:17:00.523627Z",
     "shell.execute_reply.started": "2021-11-10T21:17:00.149596Z"
    },
    "tags": []
   },
   "outputs": [],
   "source": [
    "import pandas as pd"
   ]
  },
  {
   "cell_type": "code",
   "execution_count": 2,
   "id": "460179f3-2a55-48e1-ab1c-2d34b1e980e0",
   "metadata": {
    "execution": {
     "iopub.execute_input": "2021-11-10T21:17:00.524624Z",
     "iopub.status.busy": "2021-11-10T21:17:00.524624Z",
     "iopub.status.idle": "2021-11-10T21:17:01.305595Z",
     "shell.execute_reply": "2021-11-10T21:17:01.305595Z",
     "shell.execute_reply.started": "2021-11-10T21:17:00.524624Z"
    },
    "tags": []
   },
   "outputs": [
    {
     "name": "stdout",
     "output_type": "stream",
     "text": [
      "<class 'pandas.core.frame.DataFrame'>\n",
      "RangeIndex: 420551 entries, 0 to 420550\n",
      "Data columns (total 15 columns):\n",
      " #   Column           Non-Null Count   Dtype  \n",
      "---  ------           --------------   -----  \n",
      " 0   Date Time        420551 non-null  object \n",
      " 1   p (mbar)         420551 non-null  float64\n",
      " 2   T (degC)         420551 non-null  float64\n",
      " 3   Tpot (K)         420551 non-null  float64\n",
      " 4   Tdew (degC)      420551 non-null  float64\n",
      " 5   rh (%)           420551 non-null  float64\n",
      " 6   VPmax (mbar)     420551 non-null  float64\n",
      " 7   VPact (mbar)     420551 non-null  float64\n",
      " 8   VPdef (mbar)     420551 non-null  float64\n",
      " 9   sh (g/kg)        420551 non-null  float64\n",
      " 10  H2OC (mmol/mol)  420551 non-null  float64\n",
      " 11  rho (g/m**3)     420551 non-null  float64\n",
      " 12  wv (m/s)         420551 non-null  float64\n",
      " 13  max. wv (m/s)    420551 non-null  float64\n",
      " 14  wd (deg)         420551 non-null  float64\n",
      "dtypes: float64(14), object(1)\n",
      "memory usage: 48.1+ MB\n"
     ]
    }
   ],
   "source": [
    "df = pd.read_csv(\n",
    "    \"dataset/jena_climate_2009_2016.zip\", compression=\"zip\", low_memory=False\n",
    ")\n",
    "df.info(verbose=True, memory_usage=True, show_counts=True)"
   ]
  },
  {
   "cell_type": "code",
   "execution_count": 3,
   "id": "4d2e6e43-5f20-4fe1-96fc-f8c9e719880d",
   "metadata": {
    "execution": {
     "iopub.execute_input": "2021-11-10T21:17:01.307595Z",
     "iopub.status.busy": "2021-11-10T21:17:01.307595Z",
     "iopub.status.idle": "2021-11-10T21:17:01.337294Z",
     "shell.execute_reply": "2021-11-10T21:17:01.337294Z",
     "shell.execute_reply.started": "2021-11-10T21:17:01.307595Z"
    },
    "tags": []
   },
   "outputs": [
    {
     "data": {
      "text/html": [
       "<div>\n",
       "<style scoped>\n",
       "    .dataframe tbody tr th:only-of-type {\n",
       "        vertical-align: middle;\n",
       "    }\n",
       "\n",
       "    .dataframe tbody tr th {\n",
       "        vertical-align: top;\n",
       "    }\n",
       "\n",
       "    .dataframe thead th {\n",
       "        text-align: right;\n",
       "    }\n",
       "</style>\n",
       "<table border=\"1\" class=\"dataframe\">\n",
       "  <thead>\n",
       "    <tr style=\"text-align: right;\">\n",
       "      <th></th>\n",
       "      <th>Date Time</th>\n",
       "      <th>p (mbar)</th>\n",
       "      <th>T (degC)</th>\n",
       "      <th>Tpot (K)</th>\n",
       "      <th>Tdew (degC)</th>\n",
       "      <th>rh (%)</th>\n",
       "      <th>VPmax (mbar)</th>\n",
       "      <th>VPact (mbar)</th>\n",
       "      <th>VPdef (mbar)</th>\n",
       "      <th>sh (g/kg)</th>\n",
       "      <th>H2OC (mmol/mol)</th>\n",
       "      <th>rho (g/m**3)</th>\n",
       "      <th>wv (m/s)</th>\n",
       "      <th>max. wv (m/s)</th>\n",
       "      <th>wd (deg)</th>\n",
       "    </tr>\n",
       "  </thead>\n",
       "  <tbody>\n",
       "    <tr>\n",
       "      <th>0</th>\n",
       "      <td>01.01.2009 00:10:00</td>\n",
       "      <td>996.52</td>\n",
       "      <td>-8.02</td>\n",
       "      <td>265.40</td>\n",
       "      <td>-8.90</td>\n",
       "      <td>93.3</td>\n",
       "      <td>3.33</td>\n",
       "      <td>3.11</td>\n",
       "      <td>0.22</td>\n",
       "      <td>1.94</td>\n",
       "      <td>3.12</td>\n",
       "      <td>1307.75</td>\n",
       "      <td>1.03</td>\n",
       "      <td>1.75</td>\n",
       "      <td>152.3</td>\n",
       "    </tr>\n",
       "    <tr>\n",
       "      <th>1</th>\n",
       "      <td>01.01.2009 00:20:00</td>\n",
       "      <td>996.57</td>\n",
       "      <td>-8.41</td>\n",
       "      <td>265.01</td>\n",
       "      <td>-9.28</td>\n",
       "      <td>93.4</td>\n",
       "      <td>3.23</td>\n",
       "      <td>3.02</td>\n",
       "      <td>0.21</td>\n",
       "      <td>1.89</td>\n",
       "      <td>3.03</td>\n",
       "      <td>1309.80</td>\n",
       "      <td>0.72</td>\n",
       "      <td>1.50</td>\n",
       "      <td>136.1</td>\n",
       "    </tr>\n",
       "    <tr>\n",
       "      <th>2</th>\n",
       "      <td>01.01.2009 00:30:00</td>\n",
       "      <td>996.53</td>\n",
       "      <td>-8.51</td>\n",
       "      <td>264.91</td>\n",
       "      <td>-9.31</td>\n",
       "      <td>93.9</td>\n",
       "      <td>3.21</td>\n",
       "      <td>3.01</td>\n",
       "      <td>0.20</td>\n",
       "      <td>1.88</td>\n",
       "      <td>3.02</td>\n",
       "      <td>1310.24</td>\n",
       "      <td>0.19</td>\n",
       "      <td>0.63</td>\n",
       "      <td>171.6</td>\n",
       "    </tr>\n",
       "    <tr>\n",
       "      <th>3</th>\n",
       "      <td>01.01.2009 00:40:00</td>\n",
       "      <td>996.51</td>\n",
       "      <td>-8.31</td>\n",
       "      <td>265.12</td>\n",
       "      <td>-9.07</td>\n",
       "      <td>94.2</td>\n",
       "      <td>3.26</td>\n",
       "      <td>3.07</td>\n",
       "      <td>0.19</td>\n",
       "      <td>1.92</td>\n",
       "      <td>3.08</td>\n",
       "      <td>1309.19</td>\n",
       "      <td>0.34</td>\n",
       "      <td>0.50</td>\n",
       "      <td>198.0</td>\n",
       "    </tr>\n",
       "    <tr>\n",
       "      <th>4</th>\n",
       "      <td>01.01.2009 00:50:00</td>\n",
       "      <td>996.51</td>\n",
       "      <td>-8.27</td>\n",
       "      <td>265.15</td>\n",
       "      <td>-9.04</td>\n",
       "      <td>94.1</td>\n",
       "      <td>3.27</td>\n",
       "      <td>3.08</td>\n",
       "      <td>0.19</td>\n",
       "      <td>1.92</td>\n",
       "      <td>3.09</td>\n",
       "      <td>1309.00</td>\n",
       "      <td>0.32</td>\n",
       "      <td>0.63</td>\n",
       "      <td>214.3</td>\n",
       "    </tr>\n",
       "  </tbody>\n",
       "</table>\n",
       "</div>"
      ],
      "text/plain": [
       "             Date Time  p (mbar)  T (degC)  Tpot (K)  Tdew (degC)  rh (%)  \\\n",
       "0  01.01.2009 00:10:00    996.52     -8.02    265.40        -8.90    93.3   \n",
       "1  01.01.2009 00:20:00    996.57     -8.41    265.01        -9.28    93.4   \n",
       "2  01.01.2009 00:30:00    996.53     -8.51    264.91        -9.31    93.9   \n",
       "3  01.01.2009 00:40:00    996.51     -8.31    265.12        -9.07    94.2   \n",
       "4  01.01.2009 00:50:00    996.51     -8.27    265.15        -9.04    94.1   \n",
       "\n",
       "   VPmax (mbar)  VPact (mbar)  VPdef (mbar)  sh (g/kg)  H2OC (mmol/mol)  \\\n",
       "0          3.33          3.11          0.22       1.94             3.12   \n",
       "1          3.23          3.02          0.21       1.89             3.03   \n",
       "2          3.21          3.01          0.20       1.88             3.02   \n",
       "3          3.26          3.07          0.19       1.92             3.08   \n",
       "4          3.27          3.08          0.19       1.92             3.09   \n",
       "\n",
       "   rho (g/m**3)  wv (m/s)  max. wv (m/s)  wd (deg)  \n",
       "0       1307.75      1.03           1.75     152.3  \n",
       "1       1309.80      0.72           1.50     136.1  \n",
       "2       1310.24      0.19           0.63     171.6  \n",
       "3       1309.19      0.34           0.50     198.0  \n",
       "4       1309.00      0.32           0.63     214.3  "
      ]
     },
     "execution_count": 3,
     "metadata": {},
     "output_type": "execute_result"
    }
   ],
   "source": [
    "df.head()"
   ]
  },
  {
   "cell_type": "code",
   "execution_count": 4,
   "id": "04d84fbd-cf15-49da-915f-75e1e24072d5",
   "metadata": {
    "execution": {
     "iopub.execute_input": "2021-11-10T21:17:01.338203Z",
     "iopub.status.busy": "2021-11-10T21:17:01.338203Z",
     "iopub.status.idle": "2021-11-10T21:17:02.356277Z",
     "shell.execute_reply": "2021-11-10T21:17:02.356277Z",
     "shell.execute_reply.started": "2021-11-10T21:17:01.338203Z"
    },
    "tags": []
   },
   "outputs": [],
   "source": [
    "def set_time_index(\n",
    "    df: pd.DataFrame, col_name: str, time_format: str = None\n",
    ") -> pd.DataFrame:\n",
    "    if col_name not in df.columns:\n",
    "        raise Exception(\"Column {} is not in dataset: {}\".format(col_name, df.columns))\n",
    "    try:\n",
    "        if time_format != None:\n",
    "            df.index = pd.to_datetime(df[col_name], format=time_format)\n",
    "        else:\n",
    "            df.index = pd.to_datetime(df[col_name])\n",
    "    except Exception as e:\n",
    "        print(\"Unable to set {} as time index: {}\".format(col_name, e))\n",
    "    return df\n",
    "\n",
    "\n",
    "df = set_time_index(df, \"Date Time\", time_format=\"%d.%m.%Y %H:%M:%S\")\n",
    "del df[\"Date Time\"]"
   ]
  },
  {
   "cell_type": "code",
   "execution_count": 5,
   "id": "9739682b-f03d-40c7-9faa-b50b2e55e0cd",
   "metadata": {
    "execution": {
     "iopub.execute_input": "2021-11-10T21:17:02.357240Z",
     "iopub.status.busy": "2021-11-10T21:17:02.357240Z",
     "iopub.status.idle": "2021-11-10T21:17:02.372202Z",
     "shell.execute_reply": "2021-11-10T21:17:02.372202Z",
     "shell.execute_reply.started": "2021-11-10T21:17:02.357240Z"
    },
    "tags": []
   },
   "outputs": [
    {
     "data": {
      "text/html": [
       "<div>\n",
       "<style scoped>\n",
       "    .dataframe tbody tr th:only-of-type {\n",
       "        vertical-align: middle;\n",
       "    }\n",
       "\n",
       "    .dataframe tbody tr th {\n",
       "        vertical-align: top;\n",
       "    }\n",
       "\n",
       "    .dataframe thead th {\n",
       "        text-align: right;\n",
       "    }\n",
       "</style>\n",
       "<table border=\"1\" class=\"dataframe\">\n",
       "  <thead>\n",
       "    <tr style=\"text-align: right;\">\n",
       "      <th></th>\n",
       "      <th>p (mbar)</th>\n",
       "      <th>T (degC)</th>\n",
       "      <th>Tpot (K)</th>\n",
       "      <th>Tdew (degC)</th>\n",
       "      <th>rh (%)</th>\n",
       "      <th>VPmax (mbar)</th>\n",
       "      <th>VPact (mbar)</th>\n",
       "      <th>VPdef (mbar)</th>\n",
       "      <th>sh (g/kg)</th>\n",
       "      <th>H2OC (mmol/mol)</th>\n",
       "      <th>rho (g/m**3)</th>\n",
       "      <th>wv (m/s)</th>\n",
       "      <th>max. wv (m/s)</th>\n",
       "      <th>wd (deg)</th>\n",
       "    </tr>\n",
       "    <tr>\n",
       "      <th>Date Time</th>\n",
       "      <th></th>\n",
       "      <th></th>\n",
       "      <th></th>\n",
       "      <th></th>\n",
       "      <th></th>\n",
       "      <th></th>\n",
       "      <th></th>\n",
       "      <th></th>\n",
       "      <th></th>\n",
       "      <th></th>\n",
       "      <th></th>\n",
       "      <th></th>\n",
       "      <th></th>\n",
       "      <th></th>\n",
       "    </tr>\n",
       "  </thead>\n",
       "  <tbody>\n",
       "    <tr>\n",
       "      <th>2009-01-01 00:10:00</th>\n",
       "      <td>996.52</td>\n",
       "      <td>-8.02</td>\n",
       "      <td>265.40</td>\n",
       "      <td>-8.90</td>\n",
       "      <td>93.3</td>\n",
       "      <td>3.33</td>\n",
       "      <td>3.11</td>\n",
       "      <td>0.22</td>\n",
       "      <td>1.94</td>\n",
       "      <td>3.12</td>\n",
       "      <td>1307.75</td>\n",
       "      <td>1.03</td>\n",
       "      <td>1.75</td>\n",
       "      <td>152.3</td>\n",
       "    </tr>\n",
       "    <tr>\n",
       "      <th>2009-01-01 00:20:00</th>\n",
       "      <td>996.57</td>\n",
       "      <td>-8.41</td>\n",
       "      <td>265.01</td>\n",
       "      <td>-9.28</td>\n",
       "      <td>93.4</td>\n",
       "      <td>3.23</td>\n",
       "      <td>3.02</td>\n",
       "      <td>0.21</td>\n",
       "      <td>1.89</td>\n",
       "      <td>3.03</td>\n",
       "      <td>1309.80</td>\n",
       "      <td>0.72</td>\n",
       "      <td>1.50</td>\n",
       "      <td>136.1</td>\n",
       "    </tr>\n",
       "    <tr>\n",
       "      <th>2009-01-01 00:30:00</th>\n",
       "      <td>996.53</td>\n",
       "      <td>-8.51</td>\n",
       "      <td>264.91</td>\n",
       "      <td>-9.31</td>\n",
       "      <td>93.9</td>\n",
       "      <td>3.21</td>\n",
       "      <td>3.01</td>\n",
       "      <td>0.20</td>\n",
       "      <td>1.88</td>\n",
       "      <td>3.02</td>\n",
       "      <td>1310.24</td>\n",
       "      <td>0.19</td>\n",
       "      <td>0.63</td>\n",
       "      <td>171.6</td>\n",
       "    </tr>\n",
       "    <tr>\n",
       "      <th>2009-01-01 00:40:00</th>\n",
       "      <td>996.51</td>\n",
       "      <td>-8.31</td>\n",
       "      <td>265.12</td>\n",
       "      <td>-9.07</td>\n",
       "      <td>94.2</td>\n",
       "      <td>3.26</td>\n",
       "      <td>3.07</td>\n",
       "      <td>0.19</td>\n",
       "      <td>1.92</td>\n",
       "      <td>3.08</td>\n",
       "      <td>1309.19</td>\n",
       "      <td>0.34</td>\n",
       "      <td>0.50</td>\n",
       "      <td>198.0</td>\n",
       "    </tr>\n",
       "    <tr>\n",
       "      <th>2009-01-01 00:50:00</th>\n",
       "      <td>996.51</td>\n",
       "      <td>-8.27</td>\n",
       "      <td>265.15</td>\n",
       "      <td>-9.04</td>\n",
       "      <td>94.1</td>\n",
       "      <td>3.27</td>\n",
       "      <td>3.08</td>\n",
       "      <td>0.19</td>\n",
       "      <td>1.92</td>\n",
       "      <td>3.09</td>\n",
       "      <td>1309.00</td>\n",
       "      <td>0.32</td>\n",
       "      <td>0.63</td>\n",
       "      <td>214.3</td>\n",
       "    </tr>\n",
       "  </tbody>\n",
       "</table>\n",
       "</div>"
      ],
      "text/plain": [
       "                     p (mbar)  T (degC)  Tpot (K)  Tdew (degC)  rh (%)  \\\n",
       "Date Time                                                                \n",
       "2009-01-01 00:10:00    996.52     -8.02    265.40        -8.90    93.3   \n",
       "2009-01-01 00:20:00    996.57     -8.41    265.01        -9.28    93.4   \n",
       "2009-01-01 00:30:00    996.53     -8.51    264.91        -9.31    93.9   \n",
       "2009-01-01 00:40:00    996.51     -8.31    265.12        -9.07    94.2   \n",
       "2009-01-01 00:50:00    996.51     -8.27    265.15        -9.04    94.1   \n",
       "\n",
       "                     VPmax (mbar)  VPact (mbar)  VPdef (mbar)  sh (g/kg)  \\\n",
       "Date Time                                                                  \n",
       "2009-01-01 00:10:00          3.33          3.11          0.22       1.94   \n",
       "2009-01-01 00:20:00          3.23          3.02          0.21       1.89   \n",
       "2009-01-01 00:30:00          3.21          3.01          0.20       1.88   \n",
       "2009-01-01 00:40:00          3.26          3.07          0.19       1.92   \n",
       "2009-01-01 00:50:00          3.27          3.08          0.19       1.92   \n",
       "\n",
       "                     H2OC (mmol/mol)  rho (g/m**3)  wv (m/s)  max. wv (m/s)  \\\n",
       "Date Time                                                                     \n",
       "2009-01-01 00:10:00             3.12       1307.75      1.03           1.75   \n",
       "2009-01-01 00:20:00             3.03       1309.80      0.72           1.50   \n",
       "2009-01-01 00:30:00             3.02       1310.24      0.19           0.63   \n",
       "2009-01-01 00:40:00             3.08       1309.19      0.34           0.50   \n",
       "2009-01-01 00:50:00             3.09       1309.00      0.32           0.63   \n",
       "\n",
       "                     wd (deg)  \n",
       "Date Time                      \n",
       "2009-01-01 00:10:00     152.3  \n",
       "2009-01-01 00:20:00     136.1  \n",
       "2009-01-01 00:30:00     171.6  \n",
       "2009-01-01 00:40:00     198.0  \n",
       "2009-01-01 00:50:00     214.3  "
      ]
     },
     "execution_count": 5,
     "metadata": {},
     "output_type": "execute_result"
    }
   ],
   "source": [
    "df.head()"
   ]
  },
  {
   "cell_type": "code",
   "execution_count": 6,
   "id": "5781098a-cc9f-4bf6-841c-01a65bb40e53",
   "metadata": {
    "execution": {
     "iopub.execute_input": "2021-11-10T21:17:02.373202Z",
     "iopub.status.busy": "2021-11-10T21:17:02.373202Z",
     "iopub.status.idle": "2021-11-10T21:17:04.090201Z",
     "shell.execute_reply": "2021-11-10T21:17:04.090201Z",
     "shell.execute_reply.started": "2021-11-10T21:17:02.373202Z"
    },
    "tags": []
   },
   "outputs": [
    {
     "data": {
      "text/plain": [
       "<AxesSubplot:xlabel='Date Time'>"
      ]
     },
     "execution_count": 6,
     "metadata": {},
     "output_type": "execute_result"
    },
    {
     "data": {
      "image/png": "[encoded data removed]",
      "text/plain": [
       "<Figure size 432x288 with 1 Axes>"
      ]
     },
     "metadata": {
      "needs_background": "light"
     },
     "output_type": "display_data"
    }
   ],
   "source": [
    "df[\"T (degC)\"].plot()"
   ]
  },
  {
   "cell_type": "code",
   "execution_count": 7,
   "id": "0516f97c-a86b-4cea-89ca-1ac421a61194",
   "metadata": {
    "execution": {
     "iopub.execute_input": "2021-11-10T21:17:04.091201Z",
     "iopub.status.busy": "2021-11-10T21:17:04.091201Z",
     "iopub.status.idle": "2021-11-10T21:17:04.106205Z",
     "shell.execute_reply": "2021-11-10T21:17:04.106205Z",
     "shell.execute_reply.started": "2021-11-10T21:17:04.091201Z"
    },
    "tags": []
   },
   "outputs": [
    {
     "name": "stdout",
     "output_type": "stream",
     "text": [
      "<class 'pandas.core.frame.DataFrame'>\n",
      "DatetimeIndex: 420551 entries, 2009-01-01 00:10:00 to 2017-01-01 00:00:00\n",
      "Data columns (total 1 columns):\n",
      " #   Column    Non-Null Count   Dtype  \n",
      "---  ------    --------------   -----  \n",
      " 0   T (degC)  420551 non-null  float64\n",
      "dtypes: float64(1)\n",
      "memory usage: 6.4 MB\n"
     ]
    }
   ],
   "source": [
    "df = df[\"T (degC)\"].to_frame()\n",
    "df.info(verbose=True, memory_usage=True, show_counts=True)"
   ]
  },
  {
   "cell_type": "code",
   "execution_count": 8,
   "id": "c37dc953-5cf7-4e3e-b602-6311a420c83c",
   "metadata": {
    "execution": {
     "iopub.execute_input": "2021-11-10T21:17:04.107204Z",
     "iopub.status.busy": "2021-11-10T21:17:04.107204Z",
     "iopub.status.idle": "2021-11-10T21:17:04.122201Z",
     "shell.execute_reply": "2021-11-10T21:17:04.122201Z",
     "shell.execute_reply.started": "2021-11-10T21:17:04.107204Z"
    },
    "tags": []
   },
   "outputs": [],
   "source": [
    "# interval-> Seconds to resample\n",
    "def resample_df(df: pd.DataFrame, interval: int) -> pd.DataFrame:\n",
    "    # Time interval is the number of seconds between each misuration\n",
    "    time_interval = df.index.to_series().diff().dt.seconds.mode()[0]\n",
    "    # These misuration break the rule, resample to `time_interval`\n",
    "    df[df.index.to_series().diff().dt.seconds > time_interval]\n",
    "    # Take only the integer part\n",
    "    time_interval = str(int(time_interval))\n",
    "    df = df.resample(time_interval + \"S\").mean().ffill().interpolate()\n",
    "    assert (df.index.to_series().diff().dt.seconds > float(time_interval)).sum() == 0\n",
    "    df = df.resample(\"{}\".format(interval) + \"S\").mean().ffill().interpolate()\n",
    "    assert (df.index.to_series().diff().dt.seconds > float(interval)).sum() == 0\n",
    "    return df\n",
    "\n",
    "\n",
    "import numpy as np\n",
    "\n",
    "\n",
    "def normalize(values: np.ndarray):\n",
    "    return (values - values.mean()) / np.std(values)"
   ]
  },
  {
   "cell_type": "code",
   "execution_count": 9,
   "id": "8c23fed6-e860-45fd-9072-8645c07457e3",
   "metadata": {
    "execution": {
     "iopub.execute_input": "2021-11-10T21:17:04.123202Z",
     "iopub.status.busy": "2021-11-10T21:17:04.123202Z",
     "iopub.status.idle": "2021-11-10T21:17:04.234215Z",
     "shell.execute_reply": "2021-11-10T21:17:04.231222Z",
     "shell.execute_reply.started": "2021-11-10T21:17:04.123202Z"
    },
    "tags": []
   },
   "outputs": [
    {
     "name": "stdout",
     "output_type": "stream",
     "text": [
      "<class 'pandas.core.frame.DataFrame'>\n",
      "DatetimeIndex: 2923 entries, 2009-01-01 to 2017-01-01\n",
      "Freq: 86400S\n",
      "Data columns (total 1 columns):\n",
      " #   Column    Non-Null Count  Dtype  \n",
      "---  ------    --------------  -----  \n",
      " 0   T (degC)  2923 non-null   float16\n",
      "dtypes: float16(1)\n",
      "memory usage: 28.5 KB\n"
     ]
    }
   ],
   "source": [
    "# Resample to 1 day\n",
    "df = resample_df(df, 86400)\n",
    "df[\"T (degC)\"] = df[\"T (degC)\"].astype(\"float16\")\n",
    "# df[\"T (degC)\"] = normalize(df[\"T (degC)\"].values)\n",
    "df.info(verbose=True, memory_usage=True, show_counts=True)"
   ]
  },
  {
   "cell_type": "code",
   "execution_count": 10,
   "id": "e5f730e5-736c-425a-9d87-3ac5495ebf3a",
   "metadata": {
    "execution": {
     "iopub.execute_input": "2021-11-10T21:17:04.237210Z",
     "iopub.status.busy": "2021-11-10T21:17:04.236209Z",
     "iopub.status.idle": "2021-11-10T21:17:04.263202Z",
     "shell.execute_reply": "2021-11-10T21:17:04.263202Z",
     "shell.execute_reply.started": "2021-11-10T21:17:04.237210Z"
    },
    "tags": []
   },
   "outputs": [
    {
     "data": {
      "text/html": [
       "<div>\n",
       "<style scoped>\n",
       "    .dataframe tbody tr th:only-of-type {\n",
       "        vertical-align: middle;\n",
       "    }\n",
       "\n",
       "    .dataframe tbody tr th {\n",
       "        vertical-align: top;\n",
       "    }\n",
       "\n",
       "    .dataframe thead th {\n",
       "        text-align: right;\n",
       "    }\n",
       "</style>\n",
       "<table border=\"1\" class=\"dataframe\">\n",
       "  <thead>\n",
       "    <tr style=\"text-align: right;\">\n",
       "      <th></th>\n",
       "      <th>T (degC)</th>\n",
       "    </tr>\n",
       "  </thead>\n",
       "  <tbody>\n",
       "    <tr>\n",
       "      <th>count</th>\n",
       "      <td>2923.000000</td>\n",
       "    </tr>\n",
       "    <tr>\n",
       "      <th>mean</th>\n",
       "      <td>9.437500</td>\n",
       "    </tr>\n",
       "    <tr>\n",
       "      <th>std</th>\n",
       "      <td>7.835938</td>\n",
       "    </tr>\n",
       "    <tr>\n",
       "      <th>min</th>\n",
       "      <td>-16.453125</td>\n",
       "    </tr>\n",
       "    <tr>\n",
       "      <th>25%</th>\n",
       "      <td>3.811523</td>\n",
       "    </tr>\n",
       "    <tr>\n",
       "      <th>50%</th>\n",
       "      <td>9.710938</td>\n",
       "    </tr>\n",
       "    <tr>\n",
       "      <th>75%</th>\n",
       "      <td>15.417969</td>\n",
       "    </tr>\n",
       "    <tr>\n",
       "      <th>max</th>\n",
       "      <td>29.375000</td>\n",
       "    </tr>\n",
       "  </tbody>\n",
       "</table>\n",
       "</div>"
      ],
      "text/plain": [
       "          T (degC)\n",
       "count  2923.000000\n",
       "mean      9.437500\n",
       "std       7.835938\n",
       "min     -16.453125\n",
       "25%       3.811523\n",
       "50%       9.710938\n",
       "75%      15.417969\n",
       "max      29.375000"
      ]
     },
     "execution_count": 10,
     "metadata": {},
     "output_type": "execute_result"
    }
   ],
   "source": [
    "df.describe()"
   ]
  },
  {
   "cell_type": "markdown",
   "id": "992cda5c-9d5c-4c80-9ced-0ca9abc77bc8",
   "metadata": {},
   "source": [
    "# PROPHET FORECAST"
   ]
  },
  {
   "cell_type": "code",
   "execution_count": 11,
   "id": "c84f04b3-1177-44b5-a584-409bad149b38",
   "metadata": {
    "execution": {
     "iopub.execute_input": "2021-11-10T21:17:04.264201Z",
     "iopub.status.busy": "2021-11-10T21:17:04.264201Z",
     "iopub.status.idle": "2021-11-10T21:17:04.278231Z",
     "shell.execute_reply": "2021-11-10T21:17:04.278231Z",
     "shell.execute_reply.started": "2021-11-10T21:17:04.264201Z"
    },
    "tags": []
   },
   "outputs": [],
   "source": [
    "propeth_df = df.copy().reset_index()"
   ]
  },
  {
   "cell_type": "code",
   "execution_count": 12,
   "id": "fdfbd4c5-b66a-4d47-aa0b-a15ec6263fda",
   "metadata": {
    "execution": {
     "iopub.execute_input": "2021-11-10T21:17:04.280201Z",
     "iopub.status.busy": "2021-11-10T21:17:04.280201Z",
     "iopub.status.idle": "2021-11-10T21:17:04.294231Z",
     "shell.execute_reply": "2021-11-10T21:17:04.294231Z",
     "shell.execute_reply.started": "2021-11-10T21:17:04.280201Z"
    },
    "tags": []
   },
   "outputs": [],
   "source": [
    "propeth_df.columns = [\"ds\", \"y\"]"
   ]
  },
  {
   "cell_type": "code",
   "execution_count": 13,
   "id": "1abc8608-c2bb-4f00-b10c-86e77bcb127f",
   "metadata": {
    "execution": {
     "iopub.execute_input": "2021-11-10T21:17:04.295201Z",
     "iopub.status.busy": "2021-11-10T21:17:04.295201Z",
     "iopub.status.idle": "2021-11-10T21:17:04.310235Z",
     "shell.execute_reply": "2021-11-10T21:17:04.310235Z",
     "shell.execute_reply.started": "2021-11-10T21:17:04.295201Z"
    },
    "tags": []
   },
   "outputs": [],
   "source": [
    "x = propeth_df.copy()\n",
    "x = x[:-7]"
   ]
  },
  {
   "cell_type": "code",
   "execution_count": 14,
   "id": "529290fd-aeab-4d38-adcc-86d211852387",
   "metadata": {
    "execution": {
     "iopub.execute_input": "2021-11-10T21:17:04.311202Z",
     "iopub.status.busy": "2021-11-10T21:17:04.311202Z",
     "iopub.status.idle": "2021-11-10T21:17:04.452232Z",
     "shell.execute_reply": "2021-11-10T21:17:04.452232Z",
     "shell.execute_reply.started": "2021-11-10T21:17:04.311202Z"
    },
    "tags": []
   },
   "outputs": [],
   "source": [
    "from prophet import Prophet"
   ]
  },
  {
   "cell_type": "code",
   "execution_count": 15,
   "id": "d7af8e33-b6da-4cac-bb91-6930bca65bce",
   "metadata": {
    "execution": {
     "iopub.execute_input": "2021-11-10T21:17:04.453201Z",
     "iopub.status.busy": "2021-11-10T21:17:04.453201Z",
     "iopub.status.idle": "2021-11-10T21:17:07.766231Z",
     "shell.execute_reply": "2021-11-10T21:17:07.766231Z",
     "shell.execute_reply.started": "2021-11-10T21:17:04.453201Z"
    },
    "tags": []
   },
   "outputs": [
    {
     "name": "stderr",
     "output_type": "stream",
     "text": [
      "INFO:prophet:Disabling daily seasonality. Run prophet with daily_seasonality=True to override this.\n"
     ]
    },
    {
     "data": {
      "text/plain": [
       "<prophet.forecaster.Prophet at 0x22f0e6d56d0>"
      ]
     },
     "execution_count": 15,
     "metadata": {},
     "output_type": "execute_result"
    }
   ],
   "source": [
    "m = Prophet()\n",
    "m.fit(x)"
   ]
  },
  {
   "cell_type": "code",
   "execution_count": 16,
   "id": "4ed49c3b-158a-482e-bca6-a703b9ec6ef6",
   "metadata": {
    "execution": {
     "iopub.execute_input": "2021-11-10T21:17:07.767230Z",
     "iopub.status.busy": "2021-11-10T21:17:07.767230Z",
     "iopub.status.idle": "2021-11-10T21:17:07.782230Z",
     "shell.execute_reply": "2021-11-10T21:17:07.782230Z",
     "shell.execute_reply.started": "2021-11-10T21:17:07.767230Z"
    },
    "tags": []
   },
   "outputs": [],
   "source": [
    "# Create empty dataframe\n",
    "future = m.make_future_dataframe(periods=7)"
   ]
  },
  {
   "cell_type": "code",
   "execution_count": 17,
   "id": "61b9a9c2-5ba6-455d-86ab-e4d2c3430e85",
   "metadata": {
    "execution": {
     "iopub.execute_input": "2021-11-10T21:17:07.783229Z",
     "iopub.status.busy": "2021-11-10T21:17:07.783229Z",
     "iopub.status.idle": "2021-11-10T21:17:09.436601Z",
     "shell.execute_reply": "2021-11-10T21:17:09.436601Z",
     "shell.execute_reply.started": "2021-11-10T21:17:07.783229Z"
    },
    "tags": []
   },
   "outputs": [],
   "source": [
    "forecast = m.predict(future)"
   ]
  },
  {
   "cell_type": "code",
   "execution_count": 18,
   "id": "21edcab9-71dc-4cec-823c-423e326b4fae",
   "metadata": {
    "execution": {
     "iopub.execute_input": "2021-11-10T21:17:09.437621Z",
     "iopub.status.busy": "2021-11-10T21:17:09.437621Z",
     "iopub.status.idle": "2021-11-10T21:17:09.643571Z",
     "shell.execute_reply": "2021-11-10T21:17:09.643571Z",
     "shell.execute_reply.started": "2021-11-10T21:17:09.437621Z"
    },
    "tags": []
   },
   "outputs": [
    {
     "data": {
      "image/png": "[encoded data removed]",
      "text/plain": [
       "<Figure size 720x432 with 1 Axes>"
      ]
     },
     "metadata": {},
     "output_type": "display_data"
    }
   ],
   "source": [
    "fig1 = m.plot(forecast)"
   ]
  },
  {
   "cell_type": "code",
   "execution_count": 19,
   "id": "0e2fe31d-bc36-4c2a-be47-d0ce58fbbe44",
   "metadata": {
    "execution": {
     "iopub.execute_input": "2021-11-10T21:17:09.644573Z",
     "iopub.status.busy": "2021-11-10T21:17:09.644573Z",
     "iopub.status.idle": "2021-11-10T21:17:10.041601Z",
     "shell.execute_reply": "2021-11-10T21:17:10.041601Z",
     "shell.execute_reply.started": "2021-11-10T21:17:09.644573Z"
    },
    "tags": []
   },
   "outputs": [
    {
     "data": {
      "image/png": "[encoded data removed]",
      "text/plain": [
       "<Figure size 648x648 with 3 Axes>"
      ]
     },
     "metadata": {},
     "output_type": "display_data"
    }
   ],
   "source": [
    "fig2 = m.plot_components(forecast)"
   ]
  },
  {
   "cell_type": "code",
   "execution_count": 20,
   "id": "84a50d22-e331-4b76-be74-a37f788ac963",
   "metadata": {
    "execution": {
     "iopub.execute_input": "2021-11-10T21:17:10.042572Z",
     "iopub.status.busy": "2021-11-10T21:17:10.042572Z",
     "iopub.status.idle": "2021-11-10T21:17:49.283382Z",
     "shell.execute_reply": "2021-11-10T21:17:49.283382Z",
     "shell.execute_reply.started": "2021-11-10T21:17:10.042572Z"
    },
    "scrolled": true,
    "tags": []
   },
   "outputs": [
    {
     "name": "stderr",
     "output_type": "stream",
     "text": [
      "INFO:prophet:Making 22 forecasts with cutoffs between 2010-01-24 00:00:00 and 2016-12-18 00:00:00\n"
     ]
    },
    {
     "data": {
      "application/vnd.jupyter.widget-view+json": {
       "model_id": "de6c7224972a4c5384e338c3ee149da4",
       "version_major": 2,
       "version_minor": 0
      },
      "text/plain": [
       "  0%|          | 0/22 [00:00<?, ?it/s]"
      ]
     },
     "metadata": {},
     "output_type": "display_data"
    }
   ],
   "source": [
    "from prophet.diagnostics import cross_validation, performance_metrics\n",
    "\n",
    "# We know from the above graph that we have ~year seasonality\n",
    "df_cv = cross_validation(m, initial=\"370 days\", period=\"120 days\", horizon=\"7 days\")\n",
    "df_p = performance_metrics(df_cv)"
   ]
  },
  {
   "cell_type": "code",
   "execution_count": 21,
   "id": "61dea677-cb1a-4523-8550-6e659d391e08",
   "metadata": {
    "execution": {
     "iopub.execute_input": "2021-11-10T21:17:49.284382Z",
     "iopub.status.busy": "2021-11-10T21:17:49.284382Z",
     "iopub.status.idle": "2021-11-10T21:17:49.299381Z",
     "shell.execute_reply": "2021-11-10T21:17:49.299381Z",
     "shell.execute_reply.started": "2021-11-10T21:17:49.284382Z"
    },
    "tags": []
   },
   "outputs": [
    {
     "data": {
      "text/html": [
       "<div>\n",
       "<style scoped>\n",
       "    .dataframe tbody tr th:only-of-type {\n",
       "        vertical-align: middle;\n",
       "    }\n",
       "\n",
       "    .dataframe tbody tr th {\n",
       "        vertical-align: top;\n",
       "    }\n",
       "\n",
       "    .dataframe thead th {\n",
       "        text-align: right;\n",
       "    }\n",
       "</style>\n",
       "<table border=\"1\" class=\"dataframe\">\n",
       "  <thead>\n",
       "    <tr style=\"text-align: right;\">\n",
       "      <th></th>\n",
       "      <th>horizon</th>\n",
       "      <th>mse</th>\n",
       "      <th>rmse</th>\n",
       "      <th>mae</th>\n",
       "      <th>mape</th>\n",
       "      <th>mdape</th>\n",
       "      <th>smape</th>\n",
       "      <th>coverage</th>\n",
       "    </tr>\n",
       "  </thead>\n",
       "  <tbody>\n",
       "    <tr>\n",
       "      <th>0</th>\n",
       "      <td>1 days</td>\n",
       "      <td>19.228217</td>\n",
       "      <td>4.384999</td>\n",
       "      <td>3.816849</td>\n",
       "      <td>0.665942</td>\n",
       "      <td>0.314939</td>\n",
       "      <td>0.663648</td>\n",
       "      <td>0.727273</td>\n",
       "    </tr>\n",
       "    <tr>\n",
       "      <th>1</th>\n",
       "      <td>2 days</td>\n",
       "      <td>22.229109</td>\n",
       "      <td>4.714776</td>\n",
       "      <td>3.657307</td>\n",
       "      <td>0.754760</td>\n",
       "      <td>0.333073</td>\n",
       "      <td>0.618331</td>\n",
       "      <td>0.772727</td>\n",
       "    </tr>\n",
       "    <tr>\n",
       "      <th>2</th>\n",
       "      <td>3 days</td>\n",
       "      <td>18.492411</td>\n",
       "      <td>4.300280</td>\n",
       "      <td>3.368212</td>\n",
       "      <td>0.793048</td>\n",
       "      <td>0.225955</td>\n",
       "      <td>0.637923</td>\n",
       "      <td>0.818182</td>\n",
       "    </tr>\n",
       "    <tr>\n",
       "      <th>3</th>\n",
       "      <td>4 days</td>\n",
       "      <td>15.095717</td>\n",
       "      <td>3.885321</td>\n",
       "      <td>3.044261</td>\n",
       "      <td>19.895005</td>\n",
       "      <td>0.254486</td>\n",
       "      <td>0.599473</td>\n",
       "      <td>0.818182</td>\n",
       "    </tr>\n",
       "    <tr>\n",
       "      <th>4</th>\n",
       "      <td>5 days</td>\n",
       "      <td>16.281444</td>\n",
       "      <td>4.035027</td>\n",
       "      <td>3.082205</td>\n",
       "      <td>1.542756</td>\n",
       "      <td>0.214467</td>\n",
       "      <td>0.602429</td>\n",
       "      <td>0.772727</td>\n",
       "    </tr>\n",
       "    <tr>\n",
       "      <th>5</th>\n",
       "      <td>6 days</td>\n",
       "      <td>13.421185</td>\n",
       "      <td>3.663494</td>\n",
       "      <td>2.814863</td>\n",
       "      <td>0.511354</td>\n",
       "      <td>0.240457</td>\n",
       "      <td>0.494921</td>\n",
       "      <td>0.818182</td>\n",
       "    </tr>\n",
       "    <tr>\n",
       "      <th>6</th>\n",
       "      <td>7 days</td>\n",
       "      <td>15.894500</td>\n",
       "      <td>3.986791</td>\n",
       "      <td>3.518801</td>\n",
       "      <td>1.340969</td>\n",
       "      <td>0.308180</td>\n",
       "      <td>0.650956</td>\n",
       "      <td>0.727273</td>\n",
       "    </tr>\n",
       "  </tbody>\n",
       "</table>\n",
       "</div>"
      ],
      "text/plain": [
       "  horizon        mse      rmse       mae       mape     mdape     smape  \\\n",
       "0  1 days  19.228217  4.384999  3.816849   0.665942  0.314939  0.663648   \n",
       "1  2 days  22.229109  4.714776  3.657307   0.754760  0.333073  0.618331   \n",
       "2  3 days  18.492411  4.300280  3.368212   0.793048  0.225955  0.637923   \n",
       "3  4 days  15.095717  3.885321  3.044261  19.895005  0.254486  0.599473   \n",
       "4  5 days  16.281444  4.035027  3.082205   1.542756  0.214467  0.602429   \n",
       "5  6 days  13.421185  3.663494  2.814863   0.511354  0.240457  0.494921   \n",
       "6  7 days  15.894500  3.986791  3.518801   1.340969  0.308180  0.650956   \n",
       "\n",
       "   coverage  \n",
       "0  0.727273  \n",
       "1  0.772727  \n",
       "2  0.818182  \n",
       "3  0.818182  \n",
       "4  0.772727  \n",
       "5  0.818182  \n",
       "6  0.727273  "
      ]
     },
     "execution_count": 21,
     "metadata": {},
     "output_type": "execute_result"
    }
   ],
   "source": [
    "df_p"
   ]
  },
  {
   "cell_type": "code",
   "execution_count": 22,
   "id": "36b4cc67-f187-42b0-9af8-9f6f9f39c4f3",
   "metadata": {
    "execution": {
     "iopub.execute_input": "2021-11-10T21:17:49.300382Z",
     "iopub.status.busy": "2021-11-10T21:17:49.300382Z",
     "iopub.status.idle": "2021-11-10T21:17:49.315381Z",
     "shell.execute_reply": "2021-11-10T21:17:49.315381Z",
     "shell.execute_reply.started": "2021-11-10T21:17:49.300382Z"
    },
    "tags": []
   },
   "outputs": [],
   "source": [
    "real_values = list(propeth_df[-7:][\"y\"].values)\n",
    "prophet_values = list(forecast[-7:][\"yhat\"].values)"
   ]
  },
  {
   "cell_type": "code",
   "execution_count": 23,
   "id": "706d77da-6c3b-407f-bd63-fe8fbebf303b",
   "metadata": {
    "execution": {
     "iopub.execute_input": "2021-11-10T21:17:49.316382Z",
     "iopub.status.busy": "2021-11-10T21:17:49.316382Z",
     "iopub.status.idle": "2021-11-10T21:17:49.331476Z",
     "shell.execute_reply": "2021-11-10T21:17:49.331476Z",
     "shell.execute_reply.started": "2021-11-10T21:17:49.316382Z"
    },
    "tags": []
   },
   "outputs": [
    {
     "data": {
      "text/html": [
       "<div>\n",
       "<style scoped>\n",
       "    .dataframe tbody tr th:only-of-type {\n",
       "        vertical-align: middle;\n",
       "    }\n",
       "\n",
       "    .dataframe tbody tr th {\n",
       "        vertical-align: top;\n",
       "    }\n",
       "\n",
       "    .dataframe thead th {\n",
       "        text-align: right;\n",
       "    }\n",
       "</style>\n",
       "<table border=\"1\" class=\"dataframe\">\n",
       "  <thead>\n",
       "    <tr style=\"text-align: right;\">\n",
       "      <th></th>\n",
       "      <th>ds</th>\n",
       "      <th>y</th>\n",
       "    </tr>\n",
       "  </thead>\n",
       "  <tbody>\n",
       "    <tr>\n",
       "      <th>2916</th>\n",
       "      <td>2016-12-26</td>\n",
       "      <td>7.527344</td>\n",
       "    </tr>\n",
       "    <tr>\n",
       "      <th>2917</th>\n",
       "      <td>2016-12-27</td>\n",
       "      <td>5.246094</td>\n",
       "    </tr>\n",
       "    <tr>\n",
       "      <th>2918</th>\n",
       "      <td>2016-12-28</td>\n",
       "      <td>4.886719</td>\n",
       "    </tr>\n",
       "    <tr>\n",
       "      <th>2919</th>\n",
       "      <td>2016-12-29</td>\n",
       "      <td>2.675781</td>\n",
       "    </tr>\n",
       "    <tr>\n",
       "      <th>2920</th>\n",
       "      <td>2016-12-30</td>\n",
       "      <td>-1.707031</td>\n",
       "    </tr>\n",
       "    <tr>\n",
       "      <th>2921</th>\n",
       "      <td>2016-12-31</td>\n",
       "      <td>-2.492188</td>\n",
       "    </tr>\n",
       "    <tr>\n",
       "      <th>2922</th>\n",
       "      <td>2017-01-01</td>\n",
       "      <td>-4.820312</td>\n",
       "    </tr>\n",
       "  </tbody>\n",
       "</table>\n",
       "</div>"
      ],
      "text/plain": [
       "             ds         y\n",
       "2916 2016-12-26  7.527344\n",
       "2917 2016-12-27  5.246094\n",
       "2918 2016-12-28  4.886719\n",
       "2919 2016-12-29  2.675781\n",
       "2920 2016-12-30 -1.707031\n",
       "2921 2016-12-31 -2.492188\n",
       "2922 2017-01-01 -4.820312"
      ]
     },
     "metadata": {},
     "output_type": "display_data"
    },
    {
     "data": {
      "text/html": [
       "<div>\n",
       "<style scoped>\n",
       "    .dataframe tbody tr th:only-of-type {\n",
       "        vertical-align: middle;\n",
       "    }\n",
       "\n",
       "    .dataframe tbody tr th {\n",
       "        vertical-align: top;\n",
       "    }\n",
       "\n",
       "    .dataframe thead th {\n",
       "        text-align: right;\n",
       "    }\n",
       "</style>\n",
       "<table border=\"1\" class=\"dataframe\">\n",
       "  <thead>\n",
       "    <tr style=\"text-align: right;\">\n",
       "      <th></th>\n",
       "      <th>ds</th>\n",
       "      <th>yhat</th>\n",
       "    </tr>\n",
       "  </thead>\n",
       "  <tbody>\n",
       "    <tr>\n",
       "      <th>2916</th>\n",
       "      <td>2016-12-26</td>\n",
       "      <td>2.954093</td>\n",
       "    </tr>\n",
       "    <tr>\n",
       "      <th>2917</th>\n",
       "      <td>2016-12-27</td>\n",
       "      <td>2.877983</td>\n",
       "    </tr>\n",
       "    <tr>\n",
       "      <th>2918</th>\n",
       "      <td>2016-12-28</td>\n",
       "      <td>2.678845</td>\n",
       "    </tr>\n",
       "    <tr>\n",
       "      <th>2919</th>\n",
       "      <td>2016-12-29</td>\n",
       "      <td>2.803323</td>\n",
       "    </tr>\n",
       "    <tr>\n",
       "      <th>2920</th>\n",
       "      <td>2016-12-30</td>\n",
       "      <td>2.827974</td>\n",
       "    </tr>\n",
       "    <tr>\n",
       "      <th>2921</th>\n",
       "      <td>2016-12-31</td>\n",
       "      <td>2.615642</td>\n",
       "    </tr>\n",
       "    <tr>\n",
       "      <th>2922</th>\n",
       "      <td>2017-01-01</td>\n",
       "      <td>2.580719</td>\n",
       "    </tr>\n",
       "  </tbody>\n",
       "</table>\n",
       "</div>"
      ],
      "text/plain": [
       "             ds      yhat\n",
       "2916 2016-12-26  2.954093\n",
       "2917 2016-12-27  2.877983\n",
       "2918 2016-12-28  2.678845\n",
       "2919 2016-12-29  2.803323\n",
       "2920 2016-12-30  2.827974\n",
       "2921 2016-12-31  2.615642\n",
       "2922 2017-01-01  2.580719"
      ]
     },
     "metadata": {},
     "output_type": "display_data"
    }
   ],
   "source": [
    "display(propeth_df.tail(7))\n",
    "display(forecast[-7:][[\"ds\", \"yhat\"]])"
   ]
  },
  {
   "cell_type": "code",
   "execution_count": 24,
   "id": "0f5f401c-b6fe-4af2-99d9-87bb4c7a252b",
   "metadata": {
    "execution": {
     "iopub.execute_input": "2021-11-10T21:17:49.332381Z",
     "iopub.status.busy": "2021-11-10T21:17:49.332381Z",
     "iopub.status.idle": "2021-11-10T21:17:49.347385Z",
     "shell.execute_reply": "2021-11-10T21:17:49.347385Z",
     "shell.execute_reply.started": "2021-11-10T21:17:49.332381Z"
    },
    "tags": []
   },
   "outputs": [],
   "source": [
    "d = {\"real_values\": real_values, \"prophet_values\": prophet_values}"
   ]
  },
  {
   "cell_type": "code",
   "execution_count": 25,
   "id": "81ac845e-a39f-4250-a987-a8b300908af0",
   "metadata": {
    "execution": {
     "iopub.execute_input": "2021-11-10T21:17:49.348383Z",
     "iopub.status.busy": "2021-11-10T21:17:49.348383Z",
     "iopub.status.idle": "2021-11-10T21:17:49.457598Z",
     "shell.execute_reply": "2021-11-10T21:17:49.457598Z",
     "shell.execute_reply.started": "2021-11-10T21:17:49.348383Z"
    },
    "tags": []
   },
   "outputs": [
    {
     "data": {
      "text/plain": [
       "<AxesSubplot:>"
      ]
     },
     "execution_count": 25,
     "metadata": {},
     "output_type": "execute_result"
    },
    {
     "data": {
      "image/png": "[encoded data removed]",
      "text/plain": [
       "<Figure size 432x288 with 1 Axes>"
      ]
     },
     "metadata": {
      "needs_background": "light"
     },
     "output_type": "display_data"
    }
   ],
   "source": [
    "pd.DataFrame(d).plot()"
   ]
  },
  {
   "cell_type": "code",
   "execution_count": 26,
   "id": "a5deae62-05a5-4208-aa67-88047cd9e8b9",
   "metadata": {
    "execution": {
     "iopub.execute_input": "2021-11-10T21:17:49.458524Z",
     "iopub.status.busy": "2021-11-10T21:17:49.458524Z",
     "iopub.status.idle": "2021-11-10T21:17:49.473495Z",
     "shell.execute_reply": "2021-11-10T21:17:49.473495Z",
     "shell.execute_reply.started": "2021-11-10T21:17:49.458524Z"
    },
    "tags": []
   },
   "outputs": [
    {
     "data": {
      "text/plain": [
       "366"
      ]
     },
     "execution_count": 26,
     "metadata": {},
     "output_type": "execute_result"
    }
   ],
   "source": [
    "import math\n",
    "\n",
    "seasonality = 0\n",
    "for key in m.seasonalities:\n",
    "    seasonality = int(math.ceil(m.seasonalities[key][\"period\"]))\n",
    "    break\n",
    "seasonality"
   ]
  },
  {
   "cell_type": "markdown",
   "id": "e329577a-b8ce-440c-90aa-dfb06eabc4f0",
   "metadata": {},
   "source": [
    "# TENSORFLOW"
   ]
  },
  {
   "cell_type": "code",
   "execution_count": 27,
   "id": "f9ae46a7-ce59-44b5-a49d-d4fe46dde903",
   "metadata": {
    "execution": {
     "iopub.execute_input": "2021-11-10T21:17:49.474493Z",
     "iopub.status.busy": "2021-11-10T21:17:49.474493Z",
     "iopub.status.idle": "2021-11-10T21:17:52.091898Z",
     "shell.execute_reply": "2021-11-10T21:17:52.091898Z",
     "shell.execute_reply.started": "2021-11-10T21:17:49.474493Z"
    },
    "tags": []
   },
   "outputs": [
    {
     "name": "stderr",
     "output_type": "stream",
     "text": [
      "INFO:tensorflow:Mixed precision compatibility check (mixed_float16): OK\n",
      "Your GPU will likely run quickly with dtype policy mixed_float16 as it has compute capability of at least 7.0. Your GPU: NVIDIA GeForce RTX 2080 Ti, compute capability 7.5\n"
     ]
    }
   ],
   "source": [
    "import tensorflow as tf\n",
    "from tensorflow.keras import mixed_precision\n",
    "\n",
    "policy = mixed_precision.Policy(\"mixed_float16\")\n",
    "mixed_precision.set_global_policy(policy)"
   ]
  },
  {
   "cell_type": "code",
   "execution_count": 28,
   "id": "d104b8b1-1271-4adb-8745-d2111a60f6a4",
   "metadata": {
    "execution": {
     "iopub.execute_input": "2021-11-10T21:17:52.092867Z",
     "iopub.status.busy": "2021-11-10T21:17:52.092867Z",
     "iopub.status.idle": "2021-11-10T21:17:52.107895Z",
     "shell.execute_reply": "2021-11-10T21:17:52.107895Z",
     "shell.execute_reply.started": "2021-11-10T21:17:52.092867Z"
    },
    "tags": []
   },
   "outputs": [
    {
     "data": {
      "text/plain": [
       "(2916,)"
      ]
     },
     "execution_count": 28,
     "metadata": {},
     "output_type": "execute_result"
    }
   ],
   "source": [
    "numpy_x = x[\"y\"].values\n",
    "numpy_x.shape"
   ]
  },
  {
   "cell_type": "code",
   "execution_count": 29,
   "id": "1b329e13-920f-4f10-a579-2c82f4799aac",
   "metadata": {
    "execution": {
     "iopub.execute_input": "2021-11-10T21:17:52.108865Z",
     "iopub.status.busy": "2021-11-10T21:17:52.108865Z",
     "iopub.status.idle": "2021-11-10T21:17:52.123895Z",
     "shell.execute_reply": "2021-11-10T21:17:52.123895Z",
     "shell.execute_reply.started": "2021-11-10T21:17:52.108865Z"
    },
    "tags": []
   },
   "outputs": [
    {
     "data": {
      "text/plain": [
       "(2916,)"
      ]
     },
     "execution_count": 29,
     "metadata": {},
     "output_type": "execute_result"
    }
   ],
   "source": [
    "# numpy_x = numpy_x.reshape(numpy_x.shape[0], 1)\n",
    "numpy_x.shape"
   ]
  },
  {
   "cell_type": "code",
   "execution_count": 30,
   "id": "e2e01908-785f-4e04-ac79-cdb9c55fb8dc",
   "metadata": {
    "execution": {
     "iopub.execute_input": "2021-11-10T21:17:52.124867Z",
     "iopub.status.busy": "2021-11-10T21:17:52.124867Z",
     "iopub.status.idle": "2021-11-10T21:17:52.139895Z",
     "shell.execute_reply": "2021-11-10T21:17:52.139895Z",
     "shell.execute_reply.started": "2021-11-10T21:17:52.124867Z"
    },
    "tags": []
   },
   "outputs": [],
   "source": [
    "import numpy as np\n",
    "\n",
    "\n",
    "# convert history into inputs and outputs\n",
    "def to_supervised(dfTrain, varDelay, varOutput):\n",
    "    # flatten data\n",
    "    if len(dfTrain.shape) == 2:\n",
    "        data = dfTrain.reshape((dfTrain.shape[0] * dfTrain.shape[1], 1))\n",
    "    elif len(dfTrain.shape) == 3:\n",
    "        data = dfTrain.reshape((dfTrain.shape[0] * dfTrain.shape[1], dfTrain.shape[2]))\n",
    "    else:\n",
    "        data = dfTrain\n",
    "    X, y = list(), list()\n",
    "    in_start = 0\n",
    "    # step over the entire history one time step at a time\n",
    "    for _ in range(len(data)):\n",
    "        # define the end of the input sequence\n",
    "        in_end = in_start + varDelay\n",
    "        out_end = in_end + varOutput\n",
    "        # ensure we have enough data for this instance\n",
    "        if out_end <= len(data):\n",
    "            x_input = data[in_start:in_end, 0]\n",
    "            x_input = x_input.reshape((len(x_input), 1))\n",
    "            X.append(x_input)\n",
    "            y.append(data[in_end:out_end, 0])\n",
    "        # move along one time step\n",
    "        in_start += 1\n",
    "    return np.array(X), np.array(y)\n",
    "\n",
    "\n",
    "def split_sequence(sequence, n_steps_in, n_steps_out):\n",
    "    X, y = list(), list()\n",
    "    for i in range(len(sequence)):\n",
    "        # find the end of this pattern\n",
    "        end_ix = i + n_steps_in\n",
    "        out_end_ix = end_ix + n_steps_out\n",
    "        # check if we are beyond the sequence\n",
    "        if out_end_ix > len(sequence):\n",
    "            break\n",
    "        # gather input and output parts of the pattern\n",
    "        seq_x, seq_y = sequence[i:end_ix], sequence[end_ix:out_end_ix]\n",
    "        X.append(seq_x)\n",
    "        y.append(seq_y)\n",
    "    return np.array(X), np.array(y)"
   ]
  },
  {
   "cell_type": "code",
   "execution_count": 31,
   "id": "9533051f-1df4-4b46-9279-f43d57a8ee1a",
   "metadata": {
    "execution": {
     "iopub.execute_input": "2021-11-10T21:17:52.140867Z",
     "iopub.status.busy": "2021-11-10T21:17:52.140867Z",
     "iopub.status.idle": "2021-11-10T21:17:52.155896Z",
     "shell.execute_reply": "2021-11-10T21:17:52.155896Z",
     "shell.execute_reply.started": "2021-11-10T21:17:52.140867Z"
    },
    "tags": []
   },
   "outputs": [
    {
     "data": {
      "text/plain": [
       "2544"
      ]
     },
     "execution_count": 31,
     "metadata": {},
     "output_type": "execute_result"
    }
   ],
   "source": [
    "# Use 366 days as history, predict 7 days\n",
    "history_window = seasonality\n",
    "n_prediction = 7\n",
    "df_x, df_y = split_sequence(numpy_x, history_window, n_prediction)\n",
    "len(df_x)"
   ]
  },
  {
   "cell_type": "code",
   "execution_count": 32,
   "id": "c7534a87-7178-4189-b31b-720b86a64a24",
   "metadata": {
    "execution": {
     "iopub.execute_input": "2021-11-10T21:17:52.156865Z",
     "iopub.status.busy": "2021-11-10T21:17:52.156865Z",
     "iopub.status.idle": "2021-11-10T21:17:52.171623Z",
     "shell.execute_reply": "2021-11-10T21:17:52.171623Z",
     "shell.execute_reply.started": "2021-11-10T21:17:52.156865Z"
    },
    "tags": []
   },
   "outputs": [
    {
     "data": {
      "text/plain": [
       "(2544, 366, 1)"
      ]
     },
     "execution_count": 32,
     "metadata": {},
     "output_type": "execute_result"
    }
   ],
   "source": [
    "# Reshaping into n_example, timestamps, features\n",
    "df_x = df_x.reshape(df_x.shape[0], df_x.shape[1], 1)\n",
    "df_x.shape"
   ]
  },
  {
   "cell_type": "code",
   "execution_count": 33,
   "id": "571978a3-6878-407f-b1e5-8a0c1236c934",
   "metadata": {
    "execution": {
     "iopub.execute_input": "2021-11-10T21:17:52.172523Z",
     "iopub.status.busy": "2021-11-10T21:17:52.172523Z",
     "iopub.status.idle": "2021-11-10T21:17:52.186670Z",
     "shell.execute_reply": "2021-11-10T21:17:52.186670Z",
     "shell.execute_reply.started": "2021-11-10T21:17:52.172523Z"
    },
    "tags": []
   },
   "outputs": [
    {
     "data": {
      "text/plain": [
       "(2544, 7)"
      ]
     },
     "execution_count": 33,
     "metadata": {},
     "output_type": "execute_result"
    }
   ],
   "source": [
    "# Reshaping in n_example, timestamps\n",
    "df_y = df_y.reshape(df_y.shape[0], df_y.shape[1])\n",
    "df_y.shape"
   ]
  },
  {
   "cell_type": "code",
   "execution_count": 34,
   "id": "3f0f5419-3f85-4fc6-a028-738d171e50b3",
   "metadata": {
    "execution": {
     "iopub.execute_input": "2021-11-10T21:17:52.187683Z",
     "iopub.status.busy": "2021-11-10T21:17:52.187683Z",
     "iopub.status.idle": "2021-11-10T21:17:52.202260Z",
     "shell.execute_reply": "2021-11-10T21:17:52.202260Z",
     "shell.execute_reply.started": "2021-11-10T21:17:52.187683Z"
    },
    "tags": []
   },
   "outputs": [],
   "source": [
    "# Reduce memory usage for Low End graphic cards\n",
    "df_x = np.float16(df_x)\n",
    "df_y = np.float16(df_y)"
   ]
  },
  {
   "cell_type": "code",
   "execution_count": 35,
   "id": "68c9e810-1d35-424e-bc26-879fe7dc0745",
   "metadata": {
    "execution": {
     "iopub.execute_input": "2021-11-10T21:17:52.203261Z",
     "iopub.status.busy": "2021-11-10T21:17:52.203261Z",
     "iopub.status.idle": "2021-11-10T21:17:53.594511Z",
     "shell.execute_reply": "2021-11-10T21:17:53.594511Z",
     "shell.execute_reply.started": "2021-11-10T21:17:52.203261Z"
    },
    "tags": []
   },
   "outputs": [
    {
     "name": "stdout",
     "output_type": "stream",
     "text": [
      "Model: \"sequential\"\n",
      "_________________________________________________________________\n",
      " Layer (type)                Output Shape              Param #   \n",
      "=================================================================\n",
      " lstm (LSTM)                 (None, 366, 512)          1052672   \n",
      "                                                                 \n",
      " lstm_1 (LSTM)               (None, 128)               328192    \n",
      "                                                                 \n",
      " dense (Dense)               (None, 7)                 903       \n",
      "                                                                 \n",
      "=================================================================\n",
      "Total params: 1,381,767\n",
      "Trainable params: 1,381,767\n",
      "Non-trainable params: 0\n",
      "_________________________________________________________________\n"
     ]
    }
   ],
   "source": [
    "model = tf.keras.Sequential(\n",
    "    [\n",
    "        tf.keras.layers.LSTM(\n",
    "            512,\n",
    "            input_shape=(df_x.shape[1], df_x.shape[2]),\n",
    "            return_sequences=True,\n",
    "        ),\n",
    "        tf.keras.layers.LSTM(128),\n",
    "        tf.keras.layers.Dense(df_y.shape[1]),\n",
    "    ]\n",
    ")\n",
    "callback = tf.keras.callbacks.EarlyStopping(\n",
    "    monitor=\"loss\", patience=10, restore_best_weights=True\n",
    ")\n",
    "opt = tf.keras.optimizers.Adam()\n",
    "model.compile(\n",
    "    optimizer=opt,\n",
    "    loss=\"mae\",\n",
    "    metrics=[\"mse\"],\n",
    ")\n",
    "model.summary()"
   ]
  },
  {
   "cell_type": "code",
   "execution_count": 36,
   "id": "6216dfcf-8f69-47d9-bf8e-ddef70bf8779",
   "metadata": {
    "execution": {
     "iopub.execute_input": "2021-11-10T21:17:53.595510Z",
     "iopub.status.busy": "2021-11-10T21:17:53.595510Z",
     "iopub.status.idle": "2021-11-10T21:39:34.171743Z",
     "shell.execute_reply": "2021-11-10T21:39:34.171743Z",
     "shell.execute_reply.started": "2021-11-10T21:17:53.595510Z"
    },
    "scrolled": true,
    "tags": []
   },
   "outputs": [
    {
     "name": "stdout",
     "output_type": "stream",
     "text": [
      "Epoch 1/1000\n",
      "80/80 [==============================] - 9s 50ms/step - loss: 6.9481 - mse: 70.9953A:  - ETA: 1s - loss: 7 - ETA: 0s - loss: 7.040\n",
      "Epoch 2/1000\n",
      "80/80 [==============================] - 4s 47ms/step - loss: 5.4821 - mse: 46.0064\n",
      "Epoch 3/1000\n",
      "80/80 [==============================] - 4s 46ms/step - loss: 3.5799 - mse: 20.8929 0s - loss: 3.5931 - mse: - ETA: 0s - loss: 3.5921 - mse:\n",
      "Epoch 4/1000\n",
      "80/80 [==============================] - 4s 47ms/step - loss: 3.3185 - mse: 18.0236 3s - los - ETA: 0s - loss: 3.3224 - ms\n",
      "Epoch 5/1000\n",
      "80/80 [==============================] - 4s 46ms/step - loss: 3.2439 - mse: 17.2903\n",
      "Epoch 6/1000\n",
      "80/80 [==============================] - 4s 46ms/step - loss: 3.2036 - mse: 16.9575\n",
      "Epoch 7/1000\n",
      "80/80 [==============================] - 4s 46ms/step - loss: 3.1269 - mse: 16.0050\n",
      "Epoch 8/1000\n",
      "80/80 [==============================] - 4s 46ms/step - loss: 3.1316 - mse: 16.0067\n",
      "Epoch 9/1000\n",
      "80/80 [==============================] - 4s 46ms/step - loss: 3.1085 - mse: 15.8343\n",
      "Epoch 10/1000\n",
      "80/80 [==============================] - 4s 46ms/step - loss: 3.0714 - mse: 15.3668\n",
      "Epoch 11/1000\n",
      "80/80 [==============================] - 4s 46ms/step - loss: 3.0229 - mse: 14.8623\n",
      "Epoch 12/1000\n",
      "80/80 [==============================] - 4s 47ms/step - loss: 2.9986 - mse: 14.7002\n",
      "Epoch 13/1000\n",
      "80/80 [==============================] - 4s 46ms/step - loss: 3.0302 - mse: 15.0371 0s - loss: 3.0256 - mse:\n",
      "Epoch 14/1000\n",
      "80/80 [==============================] - 4s 47ms/step - loss: 2.9855 - mse: 14.5428 2s - loss: 2.9 - ETA\n",
      "Epoch 15/1000\n",
      "80/80 [==============================] - 4s 46ms/step - loss: 2.9608 - mse: 14.3165 1s - loss: 2.9470 - mse: 1 - ETA: 0s - loss: 2\n",
      "Epoch 16/1000\n",
      "80/80 [==============================] - 4s 46ms/step - loss: 2.9312 - mse: 13.9838 2s - loss: 3.007 - ETA: 1s - loss: 2.9994 - mse: 1 - ETA: 1s - loss: 2.9969 -  - ETA: 0s - loss: 2 - ETA: 0s - loss: 2.9312 - mse: 13.98\n",
      "Epoch 17/1000\n",
      "80/80 [==============================] - 4s 46ms/step - loss: 2.9050 - mse: 13.7399 1s - loss: 2.9122 - ms - ETA: 0s - los\n",
      "Epoch 18/1000\n",
      "80/80 [==============================] - 4s 46ms/step - loss: 2.8486 - mse: 13.3190\n",
      "Epoch 19/1000\n",
      "80/80 [==============================] - 4s 46ms/step - loss: 2.8387 - mse: 13.1884 0s - loss: 2\n",
      "Epoch 20/1000\n",
      "80/80 [==============================] - 4s 47ms/step - loss: 2.8380 - mse: 13.1991 0s - loss: 2.8360 - ms\n",
      "Epoch 21/1000\n",
      "80/80 [==============================] - 4s 47ms/step - loss: 2.8119 - mse: 12.9805 2s - loss: 2.7 - ETA\n",
      "Epoch 22/1000\n",
      "80/80 [==============================] - 4s 47ms/step - loss: 2.7989 - mse: 12.9216\n",
      "Epoch 23/1000\n",
      "80/80 [==============================] - 4s 46ms/step - loss: 2.7862 - mse: 12.6980 3s - loss: 3.0417 -  - ETA: 3s\n",
      "Epoch 24/1000\n",
      "80/80 [==============================] - 4s 46ms/step - loss: 2.7759 - mse: 12.7075 2s - los - ETA: 1s - loss: 2.738 - ETA: 1s - l\n",
      "Epoch 25/1000\n",
      "80/80 [==============================] - 4s 46ms/step - loss: 2.7805 - mse: 12.7520 0s - loss: 2.7658 - mse: 12.66 - ETA: 0s - loss: 2.7680 -  - ETA: 0s - loss: 2.7760 - mse: 1\n",
      "Epoch 26/1000\n",
      "80/80 [==============================] - 4s 45ms/step - loss: 2.7660 - mse: 12.6296 0s - loss: 2.7660 - mse: 12.62\n",
      "Epoch 27/1000\n",
      "80/80 [==============================] - 4s 45ms/step - loss: 2.7416 - mse: 12.4500 2s - loss: 2.8029 - ms - E - ETA: 0s - loss: 2.7278 - mse: - ETA: 0s - loss: 2.7365 - ms\n",
      "Epoch 28/1000\n",
      "80/80 [==============================] - 4s 47ms/step - loss: 2.7324 - mse: 12.3379 0s - loss: 2.7319 - mse: 1\n",
      "Epoch 29/1000\n",
      "80/80 [==============================] - 4s 46ms/step - loss: 2.7320 - mse: 12.4132 0s - loss: 2.7310 - mse:\n",
      "Epoch 30/1000\n",
      "80/80 [==============================] - 4s 46ms/step - loss: 2.7133 - mse: 12.2999 1s - loss: 2.7028 - mse: - ETA: 0s - loss: 2.6986 - mse: 12.16 - ETA: 0s - loss: 2\n",
      "Epoch 31/1000\n",
      "80/80 [==============================] - 4s 46ms/step - loss: 2.7032 - mse: 12.1333\n",
      "Epoch 32/1000\n",
      "80/80 [==============================] - 4s 46ms/step - loss: 2.6985 - mse: 12.1834\n",
      "Epoch 33/1000\n",
      "80/80 [==============================] - 4s 46ms/step - loss: 2.6358 - mse: 11.6831 1s - loss: - ETA: 0s - loss: 2.6427 - mse: 1 - ETA: 0s - loss: 2.6454 - mse: 1\n",
      "Epoch 34/1000\n",
      "80/80 [==============================] - 4s 46ms/step - loss: 2.6149 - mse: 11.6056 3s - loss: 2.7383 - mse: 12.86\n",
      "Epoch 35/1000\n",
      "80/80 [==============================] - 4s 45ms/step - loss: 2.6258 - mse: 11.5731\n",
      "Epoch 36/1000\n",
      "80/80 [==============================] - 4s 46ms/step - loss: 2.6069 - mse: 11.4108\n",
      "Epoch 37/1000\n",
      "80/80 [==============================] - 4s 47ms/step - loss: 2.5962 - mse: 11.3639 2s - loss: 2.5858 - mse: 1 - ETA: 1s - loss: 2.5991 - ms - ETA: 1s - los - ETA: 0s - loss: 2.5937 - ms\n",
      "Epoch 38/1000\n",
      "80/80 [==============================] - 4s 46ms/step - loss: 2.5755 - mse: 11.1598 2s - loss: 2.661 - ETA: 1s - loss: 2.576 - ETA: 0s - loss: 2\n",
      "Epoch 39/1000\n",
      "80/80 [==============================] - 4s 46ms/step - loss: 2.4919 - mse: 10.5039 2s - - ETA: 1s - loss: - ETA: 0s - loss: 2.4955 - \n",
      "Epoch 40/1000\n",
      "80/80 [==============================] - 4s 46ms/step - loss: 2.4698 - mse: 10.3163 0s - loss: 2 - ETA: 0s - loss: 2.4698 - mse: 10.31\n",
      "Epoch 41/1000\n",
      "80/80 [==============================] - 4s 45ms/step - loss: 2.4447 - mse: 10.0735\n",
      "Epoch 42/1000\n",
      "80/80 [==============================] - 4s 46ms/step - loss: 2.4260 - mse: 9.9510: 2s - loss: 2.3737 - mse:  - ETA: 2s - loss: 2.4086 - ms - ETA: 1s - loss: 2.4214 - ms - ETA: 0s - loss: 2.4317 - mse: 10.01 - ETA: 0s - loss: 2.4275 - ms\n",
      "Epoch 43/1000\n",
      "80/80 [==============================] - 4s 46ms/step - loss: 2.3846 - mse: 9.6492: 2\n",
      "Epoch 44/1000\n",
      "80/80 [==============================] - 4s 45ms/step - loss: 2.3296 - mse: 9.2217: 1s - loss: 2.273 - ETA: 0s - loss: 2.3298 - mse: 9\n",
      "Epoch 45/1000\n",
      "80/80 [==============================] - 4s 46ms/step - loss: 2.2675 - mse: 8.8213: 0s - loss: 2.2634 -\n",
      "Epoch 46/1000\n",
      "80/80 [==============================] - 4s 46ms/step - loss: 2.3133 - mse: 9.1381\n",
      "Epoch 47/1000\n",
      "80/80 [==============================] - 4s 47ms/step - loss: 2.2351 - mse: 8.6242: 0s - loss: 2.2120 - ms\n",
      "Epoch 48/1000\n",
      "80/80 [==============================] - 4s 47ms/step - loss: 2.2455 - mse: 8.5113: 1s - loss: 2.29 - ETA: 0s - loss: 2.2503 - mse: 8.\n",
      "Epoch 49/1000\n",
      "80/80 [==============================] - 4s 46ms/step - loss: 2.1750 - mse: 8.1050\n",
      "Epoch 50/1000\n",
      "80/80 [==============================] - 4s 46ms/step - loss: 2.1332 - mse: 7.8331\n",
      "Epoch 51/1000\n",
      "80/80 [==============================] - 4s 46ms/step - loss: 2.1023 - mse: 7.6479: 2s - loss:  - ETA: 1s - loss: 2.1395 - ETA: 0s - loss: 2.1042 - mse: 7.66\n",
      "Epoch 52/1000\n",
      "80/80 [==============================] - 4s 46ms/step - loss: 2.0689 - mse: 7.3932: 3s - loss: 2.0917 - ETA: 1s - loss: \n",
      "Epoch 53/1000\n",
      "80/80 [==============================] - 4s 46ms/step - loss: 2.0898 - mse: 7.5205: 3s - loss: 2.048 - ETA: 1s - loss: 2.0959 - mse: - ETA: 1s - loss: 2.0827 - mse: 7. - ETA: 0s - loss: 2.0868 - mse: 7. - ETA: 0s - loss: 2.0917 - mse: \n",
      "Epoch 54/1000\n",
      "80/80 [==============================] - 4s 46ms/step - loss: 2.0284 - mse: 7.1496: \n",
      "Epoch 55/1000\n",
      "80/80 [==============================] - 4s 46ms/step - loss: 2.0109 - mse: 7.0207: 2s - loss: 2.0139 -  - ETA: 1s - loss: 1.9849 - mse: 6.86 - ETA: 1s - loss: \n",
      "Epoch 56/1000\n",
      "80/80 [==============================] - 4s 46ms/step - loss: 1.9579 - mse: 6.6903: 0s - loss: 1.9602 - mse: \n",
      "Epoch 57/1000\n",
      "80/80 [==============================] - 4s 47ms/step - loss: 1.9441 - mse: 6.5921: 1s - loss: 1.9270 - mse: 6. - ETA: 0s - loss: 1.9305 - \n",
      "Epoch 58/1000\n",
      "80/80 [==============================] - 4s 46ms/step - loss: 1.9612 - mse: 6.8142\n",
      "Epoch 59/1000\n",
      "80/80 [==============================] - 4s 46ms/step - loss: 1.9049 - mse: 6.3397: 0s - loss: 1.9092 - \n",
      "Epoch 60/1000\n",
      "80/80 [==============================] - 4s 46ms/step - loss: 1.9128 - mse: 6.4347: 0s - loss: 1.9157 - mse: 6.\n",
      "Epoch 61/1000\n",
      "80/80 [==============================] - 4s 47ms/step - loss: 1.8817 - mse: 6.1982: 1s - los\n",
      "Epoch 62/1000\n",
      "80/80 [==============================] - 4s 46ms/step - loss: 1.7968 - mse: 5.7719: 3s - loss: 1.7124 - mse: - ETA: 3s - loss: 1.7776 - mse: 5.6 - ETA: 2s - los - ETA: 0s - loss: 1.7955 - ms - ETA: 0s - loss: 1.7968 - mse: 5.771\n",
      "Epoch 63/1000\n",
      "80/80 [==============================] - 4s 46ms/step - loss: 1.7939 - mse: 5.7555: 2s - loss: 1.7750 - mse: 5.660 - ETA: \n",
      "Epoch 64/1000\n",
      "80/80 [==============================] - 4s 47ms/step - loss: 1.7629 - mse: 5.5901ETA: 0s - loss: 1.7614 - mse: 5\n",
      "Epoch 65/1000\n",
      "80/80 [==============================] - 4s 46ms/step - loss: 1.7911 - mse: 5.8367: 3s - loss: 1.7262 - mse: 5.439 - ETA: 3s - loss: 1.7137 - mse: - ETA: 2s -  - ETA: 0s - loss: 1.7818 - mse: 5.\n",
      "Epoch 66/1000\n",
      "80/80 [==============================] - 4s 47ms/step - loss: 1.8970 - mse: 6.5755: 2s - loss: 1.9436  - ETA: 1s - loss: 1.9050 - mse: 6. - ETA: 0s - loss: 1.8984 - \n",
      "Epoch 67/1000\n",
      "80/80 [==============================] - 4s 46ms/step - loss: 1.7378 - mse: 5.4773: 3s - loss: 1.6953 - mse: - ETA: 2s - loss: 1.7587 - mse: 5. - ETA: 2s - loss: 1.7784 - m - ETA: 1s - loss: \n",
      "Epoch 68/1000\n",
      "80/80 [==============================] - 4s 46ms/step - loss: 1.6839 - mse: 5.2012: 2s - loss: 1.6383 -  - ETA: 1s - loss: 1.6732 -  - ETA: 0s - loss: 1.6807 - mse: 5 - ETA: 0s - loss: 1.6823 - mse: \n",
      "Epoch 69/1000\n",
      "80/80 [==============================] - 4s 46ms/step - loss: 1.6744 - mse: 5.1776: 0s - loss: 1.6696 - ms\n",
      "Epoch 70/1000\n",
      "80/80 [==============================] - 4s 47ms/step - loss: 1.6201 - mse: 4.8491: 3s - loss: 1.6496 - mse: 4 - ETA: 2s - loss: 1.6290 - mse:  - ETA: 2s\n",
      "Epoch 71/1000\n",
      "80/80 [==============================] - 4s 47ms/step - loss: 1.6271 - mse: 4.8754: 1s - loss:\n",
      "Epoch 72/1000\n",
      "80/80 [==============================] - 4s 46ms/step - loss: 1.5731 - mse: 4.6224\n",
      "Epoch 73/1000\n",
      "80/80 [==============================] - 4s 45ms/step - loss: 1.5436 - mse: 4.4586: 1s - los - ETA: 0s - loss: 1.5436 - mse: 4.458\n",
      "Epoch 74/1000\n",
      "80/80 [==============================] - 4s 46ms/step - loss: 1.5127 - mse: 4.2982: 2s - loss: 1.4887 - - ETA: 1s - loss: 1.5048 - mse: - ETA: 0s - loss: 1.5026 -\n",
      "Epoch 75/1000\n",
      "80/80 [==============================] - 4s 46ms/step - loss: 1.4832 - mse: 4.1600: 3s - loss: - ETA: 1s - loss: 1.4779 -  - ETA: 0s - loss: 1.4909 - mse:\n",
      "Epoch 76/1000\n",
      "80/80 [==============================] - 4s 47ms/step - loss: 1.4520 - mse: 3.9513: \n",
      "Epoch 77/1000\n",
      "80/80 [==============================] - 4s 46ms/step - loss: 1.4459 - mse: 3.9764: 1s - loss: 1.4446 - mse: 3 - ETA: 0s - loss: 1.4437 - mse - ETA: 0s - loss: 1.4426 - mse: 3.960 - ETA: 0s - loss: 1.4434 - mse: 3.9\n",
      "Epoch 78/1000\n",
      "80/80 [==============================] - 4s 46ms/step - loss: 1.4006 - mse: 3.7645: 0s - loss: 1.3972 - mse: 3.743 - ETA: 0s - loss: 1.3975 - mse: 3.7\n",
      "Epoch 79/1000\n",
      "80/80 [==============================] - 4s 46ms/step - loss: 1.3812 - mse: 3.6414: 2s - \n",
      "Epoch 80/1000\n",
      "80/80 [==============================] - 4s 46ms/step - loss: 1.3754 - mse: 3.6109: 1s - loss: 1.3703 - mse:  - ETA: 0s - loss: 1.3744 - \n",
      "Epoch 81/1000\n",
      "80/80 [==============================] - 4s 46ms/step - loss: 1.3315 - mse: 3.3947: 1s - loss\n",
      "Epoch 82/1000\n",
      "80/80 [==============================] - 4s 47ms/step - loss: 1.3163 - mse: 3.3614: 3s - lo - ETA: 0s - loss: 1.3392 - mse: 3. - ETA: 0s - loss: 1.3249 - mse\n",
      "Epoch 83/1000\n",
      "80/80 [==============================] - 4s 46ms/step - loss: 1.2820 - mse: 3.1519: 3s - loss: 1.3117 - mse: 3.25 - ETA: 2s - loss: 1.2944 - mse: 3 - ETA: 2s \n",
      "Epoch 84/1000\n",
      "80/80 [==============================] - 4s 46ms/step - loss: 1.2496 - mse: 3.0010: 2s\n",
      "Epoch 85/1000\n",
      "80/80 [==============================] - 4s 46ms/step - loss: 1.2098 - mse: 2.8293: 2s - loss:  - ETA: 0s - loss: 1.2060 - mse: \n",
      "Epoch 86/1000\n",
      "80/80 [==============================] - 4s 47ms/step - loss: 1.1966 - mse: 2.7503: 1s - loss: 1.\n",
      "Epoch 87/1000\n",
      "80/80 [==============================] - 4s 46ms/step - loss: 1.1636 - mse: 2.6421\n",
      "Epoch 88/1000\n",
      "80/80 [==============================] - 4s 46ms/step - loss: 1.1271 - mse: 2.4785\n",
      "Epoch 89/1000\n",
      "80/80 [==============================] - 4s 46ms/step - loss: 1.1495 - mse: 2.5855: 1s - loss: 1.\n",
      "Epoch 90/1000\n",
      "80/80 [==============================] - 4s 46ms/step - loss: 1.1444 - mse: 2.5317\n",
      "Epoch 91/1000\n",
      "80/80 [==============================] - 4s 46ms/step - loss: 1.0919 - mse: 2.3416: 0s - loss: 1.0904 - mse: 2\n",
      "Epoch 92/1000\n",
      "80/80 [==============================] - 4s 47ms/step - loss: 1.0609 - mse: 2.1792: 3s - loss: 1.0657  - ETA: 2s - los\n",
      "Epoch 93/1000\n",
      "80/80 [==============================] - 4s 46ms/step - loss: 1.0409 - mse: 2.1346\n",
      "Epoch 94/1000\n",
      "80/80 [==============================] - 4s 46ms/step - loss: 1.0332 - mse: 2.0920\n",
      "Epoch 95/1000\n",
      "80/80 [==============================] - 4s 46ms/step - loss: 1.0305 - mse: 2.0830: 3s - loss: 0.9987 -  - ETA: 2s - loss: 0.9913 - m - ETA: 1s - loss: 1.0292  - ETA: 0s - loss: 1.0331 - mse: 2.\n",
      "Epoch 96/1000\n",
      "80/80 [==============================] - 4s 46ms/step - loss: 0.9926 - mse: 1.9367: 2s - loss: 1.01 - ETA: 1s - loss: 0.9923 - mse: 1.949 - ETA: 0s - loss: 0.9923 -\n",
      "Epoch 97/1000\n",
      "80/80 [==============================] - 4s 46ms/step - loss: 0.9696 - mse: 1.8833: 1s - loss: 0.9629 - ETA: 0s - loss: 0.9705 - ms\n",
      "Epoch 98/1000\n",
      "80/80 [==============================] - 4s 45ms/step - loss: 0.9377 - mse: 1.7629\n",
      "Epoch 99/1000\n",
      "80/80 [==============================] - 4s 46ms/step - loss: 0.9426 - mse: 1.7712: 3s - loss: 0.9132 - mse:  - ETA: 2s - loss: 0.9198 -  - ETA: 1s - loss: 0\n",
      "Epoch 100/1000\n",
      "80/80 [==============================] - 4s 46ms/step - loss: 0.9599 - mse: 1.8045: 1s - loss: 0 - ETA: 0s - loss: 0.9599 - mse: 1.804\n",
      "Epoch 101/1000\n",
      "80/80 [==============================] - 4s 46ms/step - loss: 0.9138 - mse: 1.6709: 3s - l - ETA: 0s - loss: 0.9088 - \n",
      "Epoch 102/1000\n",
      "80/80 [==============================] - 4s 46ms/step - loss: 0.8889 - mse: 1.6069: 0s - loss: 0.8778 \n",
      "Epoch 103/1000\n",
      "80/80 [==============================] - 4s 46ms/step - loss: 0.8963 - mse: 1.6136: 1s - loss: 0.8994 - m - ETA: 0s - loss: 0.8962 - mse: 1 - ETA: 0s - loss: 0.8961 - mse: 1.61\n",
      "Epoch 104/1000\n",
      "80/80 [==============================] - 4s 46ms/step - loss: 0.8783 - mse: 1.5506\n",
      "Epoch 105/1000\n",
      "80/80 [==============================] - 4s 46ms/step - loss: 0.8477 - mse: 1.4668\n",
      "Epoch 106/1000\n",
      "80/80 [==============================] - 4s 47ms/step - loss: 0.8602 - mse: 1.5027: 2s - loss: 0.8590 - mse: 1.4 - ETA: 2s - loss: 0.8572 - mse: 1 - ETA: 1s - loss: 0.8577 - ETA: 0s - loss: 0.8596 - mse: \n",
      "Epoch 107/1000\n",
      "80/80 [==============================] - 4s 47ms/step - loss: 0.8682 - mse: 1.5352: 2s - loss: 0 - ETA: 0s - loss: 0.8707 - mse: 1.547 - ETA: 0s - loss: 0.8699 - mse: \n",
      "Epoch 108/1000\n",
      "80/80 [==============================] - 4s 46ms/step - loss: 0.8465 - mse: 1.4496: 3s - loss: 0.8716 - mse: - ETA: 2\n",
      "Epoch 109/1000\n",
      "80/80 [==============================] - 4s 46ms/step - loss: 0.8128 - mse: 1.3476: 2s - lo - ETA: 0s - loss: 0.8106 - ms\n",
      "Epoch 110/1000\n",
      "80/80 [==============================] - 4s 46ms/step - loss: 0.7999 - mse: 1.3070: 3s - loss: 0.7919 - mse: 1.29 - ET\n",
      "Epoch 111/1000\n",
      "80/80 [==============================] - 4s 46ms/step - loss: 0.7781 - mse: 1.2589\n",
      "Epoch 112/1000\n",
      "80/80 [==============================] - 4s 45ms/step - loss: 0.7674 - mse: 1.2215: 2s - loss: 0.7646 - - ETA: 1s - loss: 0.7739 - mse: 1.25 - ETA: 1s - loss: 0.77\n",
      "Epoch 113/1000\n",
      "80/80 [==============================] - 4s 46ms/step - loss: 0.7601 - mse: 1.2076: 2s - loss: 0.7888 - ETA: 1s - loss: 0.7610 - mse: - ETA: 0s - loss: 0.7600 - \n",
      "Epoch 114/1000\n",
      "80/80 [==============================] - 4s 46ms/step - loss: 0.7540 - mse: 1.1794: 2s - loss: 0.7458  - ETA: 1s - loss: 0.7505\n",
      "Epoch 115/1000\n",
      "80/80 [==============================] - 4s 47ms/step - loss: 0.7473 - mse: 1.1630: 0s - loss: 0.7478 - mse: 1.\n",
      "Epoch 116/1000\n",
      "80/80 [==============================] - 4s 46ms/step - loss: 0.7771 - mse: 1.2581: 3s - loss: 0.7903 - mse - ETA: 2s - loss: 0.7951 - mse: 1.332 - ETA: 2s - loss: 0.7963 - mse: 1.342 - ETA: 2s - loss: 0.7947 -  - ETA: 1s - loss: 0.7853 - mse: 1 - ETA: 0s - loss: 0.7837 - mse: 1.2 - ETA: 0s - loss: 0.7825 - mse: 1.2 - ETA: 0s - loss: 0.7801 - mse: \n",
      "Epoch 117/1000\n",
      "80/80 [==============================] - 4s 47ms/step - loss: 0.7415 - mse: 1.1357: 3s - loss: 0.7808 - mse: - ETA: 3s - loss: 0. - ETA: 1s - loss: 0.7442 - mse: 1 - ETA: 0s - loss: 0.7417 - \n",
      "Epoch 118/1000\n",
      "80/80 [==============================] - 4s 47ms/step - loss: 0.7327 - mse: 1.1200: 3s - loss: 0.7314 - mse: 1 - E\n",
      "Epoch 119/1000\n",
      "80/80 [==============================] - 4s 46ms/step - loss: 0.7367 - mse: 1.1400: 0s - loss: 0.7388 - mse: 1.1\n",
      "Epoch 120/1000\n",
      "80/80 [==============================] - 4s 46ms/step - loss: 0.7000 - mse: 1.0297: 1s - loss: 0.7023 - mse: 1.0 - ETA: 1s - loss: 0.7016 \n",
      "Epoch 121/1000\n",
      "80/80 [==============================] - 4s 47ms/step - loss: 0.6967 - mse: 1.0244: 1s - loss: 0.6936 - m - ETA: 0s - loss: 0.6987 - mse: 1\n",
      "Epoch 122/1000\n",
      "80/80 [==============================] - 4s 46ms/step - loss: 0.7173 - mse: 1.0989\n",
      "Epoch 123/1000\n",
      "80/80 [==============================] - 4s 47ms/step - loss: 0.7149 - mse: 1.0603: 0s - loss: 0.7142 - mse: 1.05 - ETA: 0s - loss: 0.7149 - mse: 1.060\n",
      "Epoch 124/1000\n",
      "80/80 [==============================] - 4s 46ms/step - loss: 0.6866 - mse: 0.9885: 3s - loss: 0.6857  - ETA: 1s - loss: 0.6879 - m - ETA: 0s - loss: 0.6901 - mse:  - ETA: 0s - loss: 0.6883 - mse: \n",
      "Epoch 125/1000\n",
      "80/80 [==============================] - 4s 46ms/step - loss: 0.6768 - mse: 0.9656: 1s - loss: 0.6659 - ms - ETA: 0s - loss: 0.6750 - mse: \n",
      "Epoch 126/1000\n",
      "80/80 [==============================] - 4s 47ms/step - loss: 0.6751 - mse: 0.9521\n",
      "Epoch 127/1000\n",
      "80/80 [==============================] - 4s 46ms/step - loss: 0.6547 - mse: 0.9076: 2s - loss: 0.6616 - ETA: 1s - loss: 0.6532 - mse: 0. - ETA: 0s - loss: 0.6511 - m\n",
      "Epoch 128/1000\n",
      "80/80 [==============================] - 4s 47ms/step - loss: 0.6512 - mse: 0.8959\n",
      "Epoch 129/1000\n",
      "80/80 [==============================] - 4s 46ms/step - loss: 0.6399 - mse: 0.8753: 2s -  - ETA: 0s - loss: 0.6393 - mse: 0.8\n",
      "Epoch 130/1000\n",
      "80/80 [==============================] - 4s 46ms/step - loss: 0.6539 - mse: 0.9400: 1s - loss: 0.6520 - mse:  - ETA: 0s - loss: 0.6503 -\n",
      "Epoch 131/1000\n",
      "80/80 [==============================] - 4s 45ms/step - loss: 0.6411 - mse: 0.8692: 2s - loss: 0.64 - ETA: 1s - loss: 0.644 - ETA: 0s - loss: 0.6411 - mse: 0.869\n",
      "Epoch 132/1000\n",
      "80/80 [==============================] - 4s 46ms/step - loss: 0.6257 - mse: 0.8369: 1s - loss: 0.6 - ETA: 0s - loss: 0.6318 - mse: \n",
      "Epoch 133/1000\n",
      "80/80 [==============================] - 4s 47ms/step - loss: 0.6224 - mse: 0.8232: 3s - loss: 0.6252 - mse: 0. - ETA\n",
      "Epoch 134/1000\n",
      "80/80 [==============================] - 4s 46ms/step - loss: 0.6107 - mse: 0.8067\n",
      "Epoch 135/1000\n",
      "80/80 [==============================] - 4s 47ms/step - loss: 0.6056 - mse: 0.7900: 3s - loss: 0.5796 - mse:  - ETA: 2\n",
      "Epoch 136/1000\n",
      "80/80 [==============================] - 4s 46ms/step - loss: 0.6041 - mse: 0.7850\n",
      "Epoch 137/1000\n",
      "80/80 [==============================] - 4s 47ms/step - loss: 0.5978 - mse: 0.7746: 0s - loss: 0.5977 -\n",
      "Epoch 138/1000\n",
      "80/80 [==============================] - 4s 46ms/step - loss: 0.5925 - mse: 0.7570: 2s - los - ETA: 0s - loss: 0.5930 - mse: 0.7\n",
      "Epoch 139/1000\n",
      "80/80 [==============================] - 4s 46ms/step - loss: 0.5905 - mse: 0.7532: 1s - loss: 0.5883 - mse: 0.752 - ETA: 1s - loss: 0.5898 - mse: 0.7 - ETA: 1s - loss: 0.5899 - mse - ETA: 0s - loss: 0.5911 - mse: 0 - ETA: 0s - loss: 0.5903 - mse: \n",
      "Epoch 140/1000\n",
      "80/80 [==============================] - 4s 47ms/step - loss: 0.5941 - mse: 0.7471: 1s - lo\n",
      "Epoch 141/1000\n",
      "80/80 [==============================] - 4s 47ms/step - loss: 0.5745 - mse: 0.7114: 1s - loss: 0.5771 - ETA: 0s - loss: 0.5774 - ms\n",
      "Epoch 142/1000\n",
      "80/80 [==============================] - 4s 46ms/step - loss: 0.5702 - mse: 0.7022: 2s - loss: 0.5647 - mse - ETA: 1s - loss: 0.5701 - - ETA: 0s - loss: 0.5683 - mse: 0.6 - ETA: 0s - loss: 0.5685 - ms\n",
      "Epoch 143/1000\n",
      "80/80 [==============================] - 4s 47ms/step - loss: 0.5690 - mse: 0.7014\n",
      "Epoch 144/1000\n",
      "80/80 [==============================] - 4s 46ms/step - loss: 0.5661 - mse: 0.6910: 2s - loss: 0 - ETA: 0s - loss: 0.5641 - mse: 0.6 - ETA: 0s - loss: 0.5657 - mse: 0.6\n",
      "Epoch 145/1000\n",
      "80/80 [==============================] - 4s 47ms/step - loss: 0.5551 - mse: 0.6640: 2s \n",
      "Epoch 146/1000\n",
      "80/80 [==============================] - 4s 46ms/step - loss: 0.5588 - mse: 0.6733: 2s - loss: 0.5545 - mse: 0.671 - ETA: \n",
      "Epoch 147/1000\n",
      "80/80 [==============================] - 4s 46ms/step - loss: 0.5532 - mse: 0.6597\n",
      "Epoch 148/1000\n",
      "80/80 [==============================] - 4s 47ms/step - loss: 0.5483 - mse: 0.6648: 3s - loss: 0.5688 -  - ETA: 2s \n",
      "Epoch 149/1000\n",
      "80/80 [==============================] - 4s 47ms/step - loss: 0.5402 - mse: 0.6315: 3s - loss: 0.5205 - mse:  - ETA: 2s - loss: 0.53 - ETA: 1s - loss: 0.5496 - mse - ETA: 0s - loss: 0.5428 - ms - ETA: 0s - loss: 0.5407 - mse: 0.63\n",
      "Epoch 150/1000\n",
      "80/80 [==============================] - 4s 46ms/step - loss: 0.5385 - mse: 0.6283: 3s - loss: 0.5253 - mse - ETA: 2s - loss: 0.5248 - ETA: 1s - loss: 0.5412 - mse: 0 - ETA: 0s - loss: 0.5409 - mse: 0.640 - ETA: 0s - loss: 0.5404 - m\n",
      "Epoch 151/1000\n",
      "80/80 [==============================] - 4s 46ms/step - loss: 0.5275 - mse: 0.6051: 1s - loss: 0.5334 - mse: 0.62 - ETA: 1s - loss: 0.5299 - mse - ETA: 0s - loss: 0.5275 - mse: 0. - ETA: 0s - loss: 0.5255 - mse:\n",
      "Epoch 152/1000\n",
      "80/80 [==============================] - 4s 47ms/step - loss: 0.5231 - mse: 0.5917: 0s - loss: 0.5265 - mse:  - ETA: 0s - loss: 0.5232 - mse: 0.5\n",
      "Epoch 153/1000\n",
      "80/80 [==============================] - 4s 46ms/step - loss: 0.5160 - mse: 0.5765: 3s - loss: 0.5058 - mse - ETA: 2s - loss - ETA: 0s - loss: 0.5145 - mse: 0.573 - ETA: 0s - loss: 0.5146 - mse: \n",
      "Epoch 154/1000\n",
      "80/80 [==============================] - 4s 45ms/step - loss: 0.5123 - mse: 0.5657: 2s - loss: 0 - ETA: 1s - loss: 0.5188\n",
      "Epoch 155/1000\n",
      "80/80 [==============================] - 4s 47ms/step - loss: 0.5038 - mse: 0.5540: 2s - loss: 0.5201 - mse: 0.601 - ETA: 2s - loss: 0.5220 - mse: - ETA: 2s - loss: 0.5179 - mse: 0.5 - ETA: 1s - loss:\n",
      "Epoch 156/1000\n",
      "80/80 [==============================] - 4s 46ms/step - loss: 0.5016 - mse: 0.5493: 1s - loss: 0.5041 - mse: 0. - ETA: 1s - loss: 0.5023 - ETA: 0s - loss: 0.5026 - mse: 0.\n",
      "Epoch 157/1000\n",
      "80/80 [==============================] - 4s 45ms/step - loss: 0.5014 - mse: 0.5456: 1s - loss:\n",
      "Epoch 158/1000\n",
      "80/80 [==============================] - 4s 48ms/step - loss: 0.4972 - mse: 0.5322\n",
      "Epoch 159/1000\n",
      "80/80 [==============================] - 4s 49ms/step - loss: 0.4902 - mse: 0.5170\n",
      "Epoch 160/1000\n",
      "80/80 [==============================] - 4s 51ms/step - loss: 0.5021 - mse: 0.5372\n",
      "Epoch 161/1000\n",
      "80/80 [==============================] - 4s 51ms/step - loss: 0.4905 - mse: 0.5114\n",
      "Epoch 162/1000\n",
      "80/80 [==============================] - 4s 50ms/step - loss: 0.4818 - mse: 0.4986: 1s - loss: 0.4852 - mse: - ETA: 0s - loss: 0.4829 - mse:\n",
      "Epoch 163/1000\n",
      "80/80 [==============================] - 4s 50ms/step - loss: 0.4695 - mse: 0.4780\n",
      "Epoch 164/1000\n",
      "80/80 [==============================] - 4s 53ms/step - loss: 0.4686 - mse: 0.4717: 0s - loss: 0.4683 - \n",
      "Epoch 165/1000\n",
      "80/80 [==============================] - 4s 53ms/step - loss: 0.4657 - mse: 0.4625: 1s - loss: 0.4688 \n",
      "Epoch 166/1000\n",
      "80/80 [==============================] - 4s 52ms/step - loss: 0.4537 - mse: 0.4444\n",
      "Epoch 167/1000\n",
      "80/80 [==============================] - 4s 54ms/step - loss: 0.4587 - mse: 0.4461\n",
      "Epoch 168/1000\n",
      "80/80 [==============================] - 4s 51ms/step - loss: 0.4505 - mse: 0.4319: 0s - loss: 0.4503 - \n",
      "Epoch 169/1000\n",
      "80/80 [==============================] - 4s 50ms/step - loss: 0.4379 - mse: 0.4080\n",
      "Epoch 170/1000\n",
      "80/80 [==============================] - 4s 50ms/step - loss: 0.4326 - mse: 0.3997\n",
      "Epoch 171/1000\n",
      "80/80 [==============================] - 4s 55ms/step - loss: 0.4354 - mse: 0.4059: 1s - lo\n",
      "Epoch 172/1000\n",
      "80/80 [==============================] - 4s 51ms/step - loss: 0.4219 - mse: 0.3767\n",
      "Epoch 173/1000\n",
      "80/80 [==============================] - 4s 52ms/step - loss: 0.4146 - mse: 0.3636\n",
      "Epoch 174/1000\n",
      "80/80 [==============================] - 4s 51ms/step - loss: 0.4103 - mse: 0.3560:\n",
      "Epoch 175/1000\n",
      "80/80 [==============================] - 4s 46ms/step - loss: 0.4023 - mse: 0.3438\n",
      "Epoch 176/1000\n",
      "80/80 [==============================] - 4s 46ms/step - loss: 0.4006 - mse: 0.3371\n",
      "Epoch 177/1000\n",
      "80/80 [==============================] - 4s 46ms/step - loss: 0.3903 - mse: 0.3215: 2s - loss: 0.3788 - mse: 0.29 - ETA: \n",
      "Epoch 178/1000\n",
      "80/80 [==============================] - 4s 47ms/step - loss: 0.3894 - mse: 0.3134\n",
      "Epoch 179/1000\n",
      "80/80 [==============================] - 4s 49ms/step - loss: 0.3783 - mse: 0.3017\n",
      "Epoch 180/1000\n",
      "80/80 [==============================] - 4s 51ms/step - loss: 0.3697 - mse: 0.2856\n",
      "Epoch 181/1000\n",
      "80/80 [==============================] - 4s 49ms/step - loss: 0.3653 - mse: 0.2780\n",
      "Epoch 182/1000\n",
      "80/80 [==============================] - 4s 51ms/step - loss: 0.3642 - mse: 0.2750\n",
      "Epoch 183/1000\n",
      "80/80 [==============================] - 4s 49ms/step - loss: 0.3584 - mse: 0.2653: 2s - loss: 0. - ETA: 0s - loss: 0.3562 - mse: - ETA: 0s - loss: 0.3570 - mse: 0\n",
      "Epoch 184/1000\n",
      "80/80 [==============================] - 4s 51ms/step - loss: 0.3558 - mse: 0.2581\n",
      "Epoch 185/1000\n",
      "80/80 [==============================] - 4s 52ms/step - loss: 0.3479 - mse: 0.2504\n",
      "Epoch 186/1000\n",
      "80/80 [==============================] - 4s 49ms/step - loss: 0.3518 - mse: 0.2716\n",
      "Epoch 187/1000\n",
      "80/80 [==============================] - 4s 51ms/step - loss: 0.3477 - mse: 0.2505: 0s - loss: 0.3479 - mse: 0.25 - ETA: 0s - loss: 0.3471 - mse:\n",
      "Epoch 188/1000\n",
      "80/80 [==============================] - 4s 49ms/step - loss: 0.3297 - mse: 0.2198\n",
      "Epoch 189/1000\n",
      "80/80 [==============================] - 4s 49ms/step - loss: 0.3109 - mse: 0.1998: 1s - loss: \n",
      "Epoch 190/1000\n",
      "80/80 [==============================] - 4s 48ms/step - loss: 0.3101 - mse: 0.1943\n",
      "Epoch 191/1000\n",
      "80/80 [==============================] - 4s 47ms/step - loss: 0.3033 - mse: 0.1832\n",
      "Epoch 192/1000\n",
      "80/80 [==============================] - 4s 48ms/step - loss: 0.2912 - mse: 0.1704: \n",
      "Epoch 193/1000\n",
      "80/80 [==============================] - 4s 48ms/step - loss: 0.2930 - mse: 0.1702: 2s - loss: 0.283 - ETA: 1s - loss: \n",
      "Epoch 194/1000\n",
      "80/80 [==============================] - 4s 47ms/step - loss: 0.2842 - mse: 0.1587: 2s - lo\n",
      "Epoch 195/1000\n",
      "80/80 [==============================] - 4s 49ms/step - loss: 0.2718 - mse: 0.1433\n",
      "Epoch 196/1000\n",
      "80/80 [==============================] - 4s 46ms/step - loss: 0.2614 - mse: 0.1332\n",
      "Epoch 197/1000\n",
      "80/80 [==============================] - 4s 46ms/step - loss: 0.2516 - mse: 0.1233\n",
      "Epoch 198/1000\n",
      "80/80 [==============================] - 4s 46ms/step - loss: 0.2584 - mse: 0.1318: 1s - loss: 0.2546\n",
      "Epoch 199/1000\n",
      "80/80 [==============================] - 4s 47ms/step - loss: 0.2475 - mse: 0.1195\n",
      "Epoch 200/1000\n",
      "80/80 [==============================] - 4s 46ms/step - loss: 0.2381 - mse: 0.1109\n",
      "Epoch 201/1000\n",
      "80/80 [==============================] - 4s 47ms/step - loss: 0.2305 - mse: 0.1030: 1s - loss: 0.2\n",
      "Epoch 202/1000\n",
      "80/80 [==============================] - 4s 47ms/step - loss: 0.2255 - mse: 0.0989: 3s - loss: 0.2318  - ETA: 2s - loss: 0.2258 - mse: 0. - ETA: 1s - loss: 0.2253 - ETA: 0s - loss: 0.2255 - mse: 0. - ETA: 0s - loss: 0.2253 - mse: 0.\n",
      "Epoch 203/1000\n",
      "80/80 [==============================] - 4s 47ms/step - loss: 0.2208 - mse: 0.0941\n",
      "Epoch 204/1000\n",
      "80/80 [==============================] - 4s 46ms/step - loss: 0.2220 - mse: 0.0936\n",
      "Epoch 205/1000\n",
      "80/80 [==============================] - 4s 46ms/step - loss: 0.2145 - mse: 0.0889\n",
      "Epoch 206/1000\n",
      "80/80 [==============================] - 4s 46ms/step - loss: 0.2119 - mse: 0.0849\n",
      "Epoch 207/1000\n",
      "80/80 [==============================] - 4s 47ms/step - loss: 0.2130 - mse: 0.0876\n",
      "Epoch 208/1000\n",
      "80/80 [==============================] - 4s 47ms/step - loss: 0.2072 - mse: 0.0815: 3s - loss: 0.2009  - ETA: 1s - loss: 0.2070 - ms - ETA: 1s - loss: 0.2047 \n",
      "Epoch 209/1000\n",
      "80/80 [==============================] - 4s 47ms/step - loss: 0.2055 - mse: 0.0802: 2s - - ETA: 0s - loss: 0.2061 - mse: 0.\n",
      "Epoch 210/1000\n",
      "80/80 [==============================] - 4s 46ms/step - loss: 0.2065 - mse: 0.0813: 1s - loss: 0.2059\n",
      "Epoch 211/1000\n",
      "80/80 [==============================] - 4s 46ms/step - loss: 0.2008 - mse: 0.0764\n",
      "Epoch 212/1000\n",
      "80/80 [==============================] - 4s 47ms/step - loss: 0.1993 - mse: 0.0748\n",
      "Epoch 213/1000\n",
      "80/80 [==============================] - 4s 46ms/step - loss: 0.1912 - mse: 0.0699: 3s - loss: 0.17 - ETA: 1s - loss\n",
      "Epoch 214/1000\n",
      "80/80 [==============================] - 4s 46ms/step - loss: 0.1914 - mse: 0.0695: 2s -\n",
      "Epoch 215/1000\n",
      "80/80 [==============================] - 4s 47ms/step - loss: 0.1903 - mse: 0.0675: 2s - \n",
      "Epoch 216/1000\n",
      "80/80 [==============================] - 4s 48ms/step - loss: 0.1898 - mse: 0.0674: 3s - loss: 0.1920 - ms - ETA: 2s - loss: 0.1900 - mse: 0.07 - ETA: 2s - loss: 0.1909 - mse - ETA: 2s - loss: 0.1872 - mse: 0 - ETA: 1s - loss: \n",
      "Epoch 217/1000\n",
      "80/80 [==============================] - 4s 49ms/step - loss: 0.1912 - mse: 0.0687: 1s - loss: 0.1909 -  - ETA: 0s - loss: 0.1913 - mse: 0.06\n",
      "Epoch 218/1000\n",
      "80/80 [==============================] - 4s 48ms/step - loss: 0.1888 - mse: 0.0671: 3s - loss: - ETA: 1s - loss: 0.1920 - mse: - ETA: 0s - loss: 0.1904 - mse: 0. - ETA: 0s - loss: 0.1890 - mse: 0.\n",
      "Epoch 219/1000\n",
      "80/80 [==============================] - 4s 45ms/step - loss: 0.1832 - mse: 0.0636\n",
      "Epoch 220/1000\n",
      "80/80 [==============================] - 4s 47ms/step - loss: 0.1822 - mse: 0.0622: 3s - loss: 0.1908 -  - ETA: 2s -\n",
      "Epoch 221/1000\n",
      "80/80 [==============================] - 4s 47ms/step - loss: 0.1827 - mse: 0.0625: 3s - loss: 0.1825 - mse: 0. - ETA: 3s - loss: 0.183 - ETA: 1s - loss: 0. - ETA: 0s - loss: 0.1826 - mse: 0.0\n",
      "Epoch 222/1000\n",
      "80/80 [==============================] - 4s 47ms/step - loss: 0.1808 - mse: 0.0621\n",
      "Epoch 223/1000\n",
      "80/80 [==============================] - 4s 48ms/step - loss: 0.1807 - mse: 0.0608: 2\n",
      "Epoch 224/1000\n",
      "80/80 [==============================] - 4s 46ms/step - loss: 0.1830 - mse: 0.0622\n",
      "Epoch 225/1000\n",
      "80/80 [==============================] - 4s 46ms/step - loss: 0.1822 - mse: 0.0614\n",
      "Epoch 226/1000\n",
      "80/80 [==============================] - 4s 45ms/step - loss: 0.1833 - mse: 0.0619: 1s - loss:\n",
      "Epoch 227/1000\n",
      "80/80 [==============================] - 4s 46ms/step - loss: 0.1755 - mse: 0.0573: 2s\n",
      "Epoch 228/1000\n",
      "80/80 [==============================] - 4s 45ms/step - loss: 0.1728 - mse: 0.0548: 0s - loss: 0.1728 - mse: 0.054\n",
      "Epoch 229/1000\n",
      "80/80 [==============================] - 4s 45ms/step - loss: 0.2015 - mse: 0.0788: 0s - loss: 0.2047 - mse:\n",
      "Epoch 230/1000\n",
      "80/80 [==============================] - 4s 46ms/step - loss: 0.1795 - mse: 0.0596\n",
      "Epoch 231/1000\n",
      "80/80 [==============================] - 4s 46ms/step - loss: 0.1719 - mse: 0.0550: 2s - loss: 0.1788 - mse: 0.0 - ETA: \n",
      "Epoch 232/1000\n",
      "80/80 [==============================] - 4s 45ms/step - loss: 0.1718 - mse: 0.0544: 3s - loss: 0.1737 - mse: 0.05 - ETA: 3s - loss: 0.17 - ETA: 1s - loss: \n",
      "Epoch 233/1000\n",
      "80/80 [==============================] - 4s 46ms/step - loss: 0.1670 - mse: 0.0507: 2s - loss: 0 - ETA: 1s - loss: 0.1685 -  - ETA: 0s - loss: 0.1671 - mse: 0.0\n",
      "Epoch 234/1000\n",
      "80/80 [==============================] - 4s 47ms/step - loss: 0.1652 - mse: 0.0504\n",
      "Epoch 235/1000\n",
      "80/80 [==============================] - 4s 47ms/step - loss: 0.1665 - mse: 0.0505: 2s - loss: 0.1727 - mse:  - ETA: 1s - loss: \n",
      "Epoch 236/1000\n",
      "80/80 [==============================] - 7s 86ms/step - loss: 0.1662 - mse: 0.0514: 2s - loss: 0.1\n",
      "Epoch 237/1000\n",
      "80/80 [==============================] - 4s 46ms/step - loss: 0.1588 - mse: 0.0467: 1s - loss: 0.1562 -  - ETA: 0s - loss: 0.1583 - mse:\n",
      "Epoch 238/1000\n",
      "80/80 [==============================] - 4s 46ms/step - loss: 0.1584 - mse: 0.0459: 0s - loss: 0.1584 - mse: 0.045\n",
      "Epoch 239/1000\n",
      "80/80 [==============================] - 4s 47ms/step - loss: 0.1582 - mse: 0.0459\n",
      "Epoch 240/1000\n",
      "80/80 [==============================] - 4s 46ms/step - loss: 0.1589 - mse: 0.0461\n",
      "Epoch 241/1000\n",
      "80/80 [==============================] - 4s 46ms/step - loss: 0.1632 - mse: 0.0485: 0s - loss: 0.1639 - mse: 0.0\n",
      "Epoch 242/1000\n",
      "80/80 [==============================] - 4s 45ms/step - loss: 0.1701 - mse: 0.0567:  - ETA: 0s - loss: 0.1706 - mse: \n",
      "Epoch 243/1000\n",
      "80/80 [==============================] - 4s 47ms/step - loss: 0.1608 - mse: 0.0473\n",
      "Epoch 244/1000\n",
      "80/80 [==============================] - 4s 46ms/step - loss: 0.1550 - mse: 0.0440: 2s - loss: 0.1541 - - ETA: 1s - loss: 0.1534 - mse: 0.0 - ETA: 0s - loss: 0.1543 - ms\n",
      "Epoch 245/1000\n",
      "80/80 [==============================] - 4s 46ms/step - loss: 0.1509 - mse: 0.0415: 0s - loss: 0.1514 - mse: 0.\n",
      "Epoch 246/1000\n",
      "80/80 [==============================] - 4s 45ms/step - loss: 0.1514 - mse: 0.0419: 3s - loss: - ETA: 1s - loss: 0.15\n",
      "Epoch 247/1000\n",
      "80/80 [==============================] - 4s 46ms/step - loss: 0.1538 - mse: 0.0434\n",
      "Epoch 248/1000\n",
      "80/80 [==============================] - 5s 66ms/step - loss: 0.1550 - mse: 0.0428: 1s - loss: 0.\n",
      "Epoch 249/1000\n",
      "80/80 [==============================] - 4s 50ms/step - loss: 0.1504 - mse: 0.0408: 3s - loss: 0.1542 - mse: 0. - ETA:\n",
      "Epoch 250/1000\n",
      "80/80 [==============================] - 4s 46ms/step - loss: 0.1506 - mse: 0.0409: 0s - loss: 0.1507 - m\n",
      "Epoch 251/1000\n",
      "80/80 [==============================] - 4s 45ms/step - loss: 0.1536 - mse: 0.0423\n",
      "Epoch 252/1000\n",
      "80/80 [==============================] - 4s 46ms/step - loss: 0.1530 - mse: 0.0428: 2s - loss: 0.1565 - mse: 0 - ETA: 1s - loss: 0.1551 - mse: 0.04 - ETA: 1s - loss: 0.1556 - mse: 0. - ETA: 1s - loss: 0.1543 - ms - ETA: 0s - loss: 0.1535 - mse: 0\n",
      "Epoch 253/1000\n",
      "80/80 [==============================] - 4s 46ms/step - loss: 0.1508 - mse: 0.0409: 2s - loss: 0.15 - ETA: 0s - loss: 0.1517 - mse: 0. - ETA: 0s - loss: 0.1506 - mse: 0.\n",
      "Epoch 254/1000\n",
      "80/80 [==============================] - 4s 45ms/step - loss: 0.1528 - mse: 0.0422: 2s - loss: - ETA: 1s - loss: 0.1534 \n",
      "Epoch 255/1000\n",
      "80/80 [==============================] - 4s 45ms/step - loss: 0.1492 - mse: 0.0398\n",
      "Epoch 256/1000\n",
      "80/80 [==============================] - 4s 46ms/step - loss: 0.1457 - mse: 0.0381: 1s - loss: \n",
      "Epoch 257/1000\n",
      "80/80 [==============================] - 4s 45ms/step - loss: 0.1490 - mse: 0.0399: 3s - loss: 0. - ETA: 1s - loss: \n",
      "Epoch 258/1000\n",
      "80/80 [==============================] - 4s 45ms/step - loss: 0.1500 - mse: 0.0399: 2s - loss: 0.1487 - m - ETA: 1s - loss: 0\n",
      "Epoch 259/1000\n",
      "80/80 [==============================] - 4s 47ms/step - loss: 0.1459 - mse: 0.0382: 2s - loss: 0.149 - ETA: 0s - loss: 0.1460 -\n",
      "Epoch 260/1000\n",
      "80/80 [==============================] - 7s 88ms/step - loss: 0.1432 - mse: 0.0368: 0s - loss: 0.1430 - mse: 0.036 - ETA: 0s - loss: 0.1432 - mse: 0.0\n",
      "Epoch 261/1000\n",
      "80/80 [==============================] - 4s 55ms/step - loss: 0.1459 - mse: 0.0380\n",
      "Epoch 262/1000\n",
      "80/80 [==============================] - 4s 45ms/step - loss: 0.1439 - mse: 0.0368: 2s -\n",
      "Epoch 263/1000\n",
      "80/80 [==============================] - 4s 45ms/step - loss: 0.1446 - mse: 0.0370\n",
      "Epoch 264/1000\n",
      "80/80 [==============================] - 4s 46ms/step - loss: 0.1433 - mse: 0.0365: 3s - loss: 0.1515 - ms - ETA: 2s - loss:  - ETA: 0s - loss: 0.1452 - mse\n",
      "Epoch 265/1000\n",
      "80/80 [==============================] - 4s 45ms/step - loss: 0.1382 - mse: 0.0344\n",
      "Epoch 266/1000\n",
      "80/80 [==============================] - 4s 46ms/step - loss: 0.1373 - mse: 0.0333\n",
      "Epoch 267/1000\n",
      "80/80 [==============================] - 4s 45ms/step - loss: 0.1409 - mse: 0.0347\n",
      "Epoch 268/1000\n",
      "80/80 [==============================] - 4s 47ms/step - loss: 0.1460 - mse: 0.0376: 3s - loss - ETA: 1s - loss: 0.1501 - - ETA: 0s - loss: 0.1472 - mse: 0.03 - ETA: 0s - loss: 0.1461 - mse: 0.0\n",
      "Epoch 269/1000\n",
      "80/80 [==============================] - 4s 46ms/step - loss: 0.1379 - mse: 0.0335: 1s - loss: 0.\n",
      "Epoch 270/1000\n",
      "80/80 [==============================] - 4s 45ms/step - loss: 0.1352 - mse: 0.0319: 0s - loss: 0.1352 - mse: 0. - ETA: 0s - loss: 0.1355 - mse: 0.03 - ETA: 0s - loss: 0.1352 - mse: 0.031\n",
      "Epoch 271/1000\n",
      "80/80 [==============================] - 4s 44ms/step - loss: 0.1379 - mse: 0.0338\n",
      "Epoch 272/1000\n",
      "80/80 [==============================] - 4s 46ms/step - loss: 0.1366 - mse: 0.0333: 1s - loss: 0.1393 - mse: 0. - ETA: 1s - loss: 0.1\n",
      "Epoch 273/1000\n",
      "80/80 [==============================] - 4s 46ms/step - loss: 0.1354 - mse: 0.0325: 0s - loss: 0.1344 - mse: \n",
      "Epoch 274/1000\n",
      "80/80 [==============================] - 4s 45ms/step - loss: 0.1383 - mse: 0.0341\n",
      "Epoch 275/1000\n",
      "80/80 [==============================] - 4s 46ms/step - loss: 0.1414 - mse: 0.0353:\n",
      "Epoch 276/1000\n",
      "80/80 [==============================] - 4s 45ms/step - loss: 0.1355 - mse: 0.0327\n",
      "Epoch 277/1000\n",
      "80/80 [==============================] - 4s 46ms/step - loss: 0.1343 - mse: 0.0317: 2s\n",
      "Epoch 278/1000\n",
      "80/80 [==============================] - 4s 46ms/step - loss: 0.1391 - mse: 0.0339\n",
      "Epoch 279/1000\n",
      "80/80 [==============================] - 4s 44ms/step - loss: 0.1384 - mse: 0.0335: 1s - loss: 0.141\n",
      "Epoch 280/1000\n",
      "80/80 [==============================] - 4s 45ms/step - loss: 0.1350 - mse: 0.0316\n",
      "Epoch 281/1000\n",
      "80/80 [==============================] - 4s 44ms/step - loss: 0.1326 - mse: 0.0311\n",
      "Epoch 282/1000\n",
      "80/80 [==============================] - 4s 47ms/step - loss: 0.1307 - mse: 0.0300\n",
      "Epoch 283/1000\n",
      "80/80 [==============================] - 4s 55ms/step - loss: 0.1280 - mse: 0.0288: 1s - loss: 0.1297 - m - ETA: 0s - loss: 0.1280 - mse: 0.028\n",
      "Epoch 284/1000\n",
      "80/80 [==============================] - 4s 45ms/step - loss: 0.1328 - mse: 0.0307: 3s - loss: 0 - ETA: 1s - loss: 0.1311 - ms - ETA: 0s - loss: 0.1320 - ms\n",
      "Epoch 285/1000\n",
      "80/80 [==============================] - 4s 46ms/step - loss: 0.1344 - mse: 0.0315: 2s - loss: 0.1385 - - ETA: 1s - loss\n",
      "Epoch 286/1000\n",
      "80/80 [==============================] - 4s 46ms/step - loss: 0.1328 - mse: 0.0304: 2s - loss: 0.13 - ETA: 0s - loss: 0.1337 - mse: 0.03 - ETA: 0s - loss: 0.1335 - mse:\n",
      "Epoch 287/1000\n",
      "80/80 [==============================] - 4s 46ms/step - loss: 0.1288 - mse: 0.0290\n",
      "Epoch 288/1000\n",
      "80/80 [==============================] - 4s 46ms/step - loss: 0.1317 - mse: 0.0306: 2s - loss: 0.1318 - mse: 0.030 - ETA: 2\n",
      "Epoch 289/1000\n",
      "80/80 [==============================] - 4s 46ms/step - loss: 0.1378 - mse: 0.0336: 2s - loss: 0.1317 - mse: 0.03 - ETA: 2s - loss: 0 - ETA: 0s - loss: 0.1366 - mse: 0 - ETA: 0s - loss: 0.1378 - mse: \n",
      "Epoch 290/1000\n",
      "80/80 [==============================] - 4s 45ms/step - loss: 0.1360 - mse: 0.0323: 0s - loss: 0.1370 - \n",
      "Epoch 291/1000\n",
      "80/80 [==============================] - 4s 46ms/step - loss: 0.1290 - mse: 0.0287: 3s - l - ETA: 1s - loss: 0.1281 - ms - ETA: 0s - loss: 0.1289 - mse: 0.0\n",
      "Epoch 292/1000\n",
      "80/80 [==============================] - 4s 47ms/step - loss: 0.1331 - mse: 0.0309: 3s - loss: 0.1298 - ETA: 1s - loss: 0.1305 - mse: 0.029 - ETA: 1s - loss\n",
      "Epoch 293/1000\n",
      "80/80 [==============================] - 4s 45ms/step - loss: 0.1270 - mse: 0.0279: 2s - loss: 0.1350 - mse: 0 - ETA: 2s - loss: 0.1329 - - ETA: 1s - loss: 0.1297 - mse: 0. - ETA: 0s - loss: 0.1286 -\n",
      "Epoch 294/1000\n",
      "80/80 [==============================] - 4s 46ms/step - loss: 0.1272 - mse: 0.0281: 1s - loss: 0.1327  - ETA: 0s - loss: 0.1283 - mse: 0.02 - ETA: 0s - loss: 0.1278 - mse: 0\n",
      "Epoch 295/1000\n",
      "80/80 [==============================] - 4s 47ms/step - loss: 0.1224 - mse: 0.0262: 2s - loss: 0.1262 - mse - ETA: 1s - loss: 0.1234 - ms - ETA: 1s - loss: 0.1214 - mse: - ETA: 0s - loss: 0.1214 - mse: - ETA: 0s - loss: 0.1223 - mse: 0.02\n",
      "Epoch 296/1000\n",
      "80/80 [==============================] - 4s 48ms/step - loss: 0.1260 - mse: 0.0276: 2s - loss: - ETA: 0s - loss: 0.1263 - mse: \n",
      "Epoch 297/1000\n",
      "80/80 [==============================] - 4s 46ms/step - loss: 0.1274 - mse: 0.0282\n",
      "Epoch 298/1000\n",
      "80/80 [==============================] - 4s 45ms/step - loss: 0.1249 - mse: 0.0270: 2s - loss: 0.1324 - mse: 0.030 - ETA: 2s - lo - ETA: 0s - loss: 0.1253 - ms\n",
      "Epoch 299/1000\n",
      "80/80 [==============================] - 4s 45ms/step - loss: 0.1216 - mse: 0.0257: 2s - loss: 0. - ETA: 0s - loss: 0.1222 -\n",
      "Epoch 300/1000\n",
      "80/80 [==============================] - 4s 45ms/step - loss: 0.1270 - mse: 0.0281: 2s - loss: 0.1265 - ms - ETA: 1s - loss: 0.1261 -  - ETA: 0s - loss: 0.1267 - mse: 0.\n",
      "Epoch 301/1000\n",
      "80/80 [==============================] - 4s 46ms/step - loss: 0.1234 - mse: 0.0261: 1s - loss: 0.1246 \n",
      "Epoch 302/1000\n",
      "80/80 [==============================] - 4s 46ms/step - loss: 0.1222 - mse: 0.0258: 1s - loss: 0\n",
      "Epoch 303/1000\n",
      "80/80 [==============================] - 4s 45ms/step - loss: 0.1207 - mse: 0.0252\n",
      "Epoch 304/1000\n",
      "80/80 [==============================] - 4s 45ms/step - loss: 0.1201 - mse: 0.0250\n",
      "Epoch 305/1000\n",
      "80/80 [==============================] - 4s 45ms/step - loss: 0.1222 - mse: 0.0256: 3s - loss: 0.12 - ETA: 2s - loss: 0.1253  - ETA: 0s - loss: 0.1228 - \n",
      "Epoch 306/1000\n",
      "80/80 [==============================] - 4s 45ms/step - loss: 0.1266 - mse: 0.0276: 1s - loss: 0\n",
      "Epoch 307/1000\n",
      "80/80 [==============================] - 4s 45ms/step - loss: 0.1283 - mse: 0.0282: 1s - loss: 0.1290 - mse: 0.0 - ETA: 1s - loss: 0.129\n",
      "Epoch 308/1000\n",
      "80/80 [==============================] - 4s 45ms/step - loss: 0.1210 - mse: 0.0253: 2s\n",
      "Epoch 309/1000\n",
      "80/80 [==============================] - 4s 45ms/step - loss: 0.1229 - mse: 0.0266: 2s - l\n",
      "Epoch 310/1000\n",
      "80/80 [==============================] - 4s 45ms/step - loss: 0.1244 - mse: 0.0269\n",
      "Epoch 311/1000\n",
      "80/80 [==============================] - 4s 45ms/step - loss: 0.1221 - mse: 0.0264: 3s - loss: 0.12 - ETA: 1s - loss: 0.1243 - mse: 0.02 - ETA: 1s - loss: 0.1232 - m - ETA: 0s - loss: 0.1215 - mse\n",
      "Epoch 312/1000\n",
      "80/80 [==============================] - 4s 46ms/step - loss: 0.1223 - mse: 0.0258\n",
      "Epoch 313/1000\n",
      "80/80 [==============================] - 4s 46ms/step - loss: 0.1166 - mse: 0.0235: 2s - loss: 0.1157 - mse:  - ETA: 1s - loss: 0.1156 - mse: 0. - ETA: 1s - loss: 0.1166\n",
      "Epoch 314/1000\n",
      "80/80 [==============================] - 4s 46ms/step - loss: 0.1163 - mse: 0.0233: 0s - loss: 0.1161 - mse: 0.02\n",
      "Epoch 315/1000\n",
      "80/80 [==============================] - 4s 46ms/step - loss: 0.1187 - mse: 0.0245\n",
      "Epoch 316/1000\n",
      "80/80 [==============================] - 4s 45ms/step - loss: 0.1278 - mse: 0.0446\n",
      "Epoch 317/1000\n",
      "80/80 [==============================] - 4s 45ms/step - loss: 0.1304 - mse: 0.0405\n",
      "Epoch 318/1000\n",
      "80/80 [==============================] - 4s 45ms/step - loss: 0.1217 - mse: 0.0260: 0s - loss: 0.1218 - mse: 0.0\n",
      "Epoch 319/1000\n",
      "80/80 [==============================] - 4s 46ms/step - loss: 0.1180 - mse: 0.0239: \n",
      "Epoch 320/1000\n",
      "80/80 [==============================] - 4s 46ms/step - loss: 0.1160 - mse: 0.0230\n",
      "Epoch 321/1000\n",
      "80/80 [==============================] - 4s 46ms/step - loss: 0.1164 - mse: 0.0232: 0s - loss: 0.1157 - mse: 0.02 - ETA: 0s - loss: 0.1159 - mse:\n",
      "Epoch 322/1000\n",
      "80/80 [==============================] - 4s 46ms/step - loss: 0.1208 - mse: 0.0251\n",
      "Epoch 323/1000\n",
      "80/80 [==============================] - 4s 45ms/step - loss: 0.1198 - mse: 0.0252: 2s - loss: 0. - ETA: 1s - loss: 0.1205 \n",
      "Epoch 324/1000\n",
      "80/80 [==============================] - 4s 47ms/step - loss: 0.1163 - mse: 0.0233\n",
      "Epoch 325/1000\n",
      "80/80 [==============================] - 4s 47ms/step - loss: 0.1190 - mse: 0.0244: 2s - loss: 0.1259 - mse - ETA: 1s - loss:\n",
      "Epoch 326/1000\n",
      "80/80 [==============================] - 4s 46ms/step - loss: 0.1140 - mse: 0.0224: 1s - loss: 0.1134 - ms - ETA: 0s - loss: 0.1135 - mse: 0. - ETA: 0s - loss: 0.1131 - mse\n",
      "Epoch 327/1000\n",
      "80/80 [==============================] - 4s 47ms/step - loss: 0.1189 - mse: 0.0242TA: 0s - loss: 0.1191 - mse: 0.02\n",
      "Epoch 328/1000\n",
      "80/80 [==============================] - 4s 47ms/step - loss: 0.1116 - mse: 0.0214: 3s - loss: 0.1135 - mse: 0.0 -\n",
      "Epoch 329/1000\n",
      "80/80 [==============================] - 4s 46ms/step - loss: 0.1153 - mse: 0.0227\n",
      "Epoch 330/1000\n",
      "80/80 [==============================] - 4s 46ms/step - loss: 0.1138 - mse: 0.0221: 1s - loss: 0.1151 - m - ETA: 0s - loss: 0.1143 - ms\n",
      "Epoch 331/1000\n",
      "80/80 [==============================] - 4s 48ms/step - loss: 0.1180 - mse: 0.0237: 3s - loss: 0.1168 -  - ETA: 2s - loss: 0.1186 - mse: 0.02 - ETA: 2s - lo - ETA: 0s - loss: 0.1179 - mse: 0.0 - ETA: 0s - loss: 0.1180 - mse: 0.023\n",
      "Epoch 332/1000\n",
      "80/80 [==============================] - 4s 47ms/step - loss: 0.1161 - mse: 0.0231: 2s - loss: 0.1195 - mse: 0.02 - ETA: 2s - loss: 0.1195 - mse: 0.024 - ETA: 1s - los\n",
      "Epoch 333/1000\n",
      "80/80 [==============================] - 4s 48ms/step - loss: 0.1101 - mse: 0.0207 - ETA: 0s - loss: 0.1097 - mse: 0.\n",
      "Epoch 334/1000\n",
      "80/80 [==============================] - 4s 46ms/step - loss: 0.1109 - mse: 0.0211: 2\n",
      "Epoch 335/1000\n",
      "80/80 [==============================] - 4s 46ms/step - loss: 0.1098 - mse: 0.0206\n",
      "Epoch 336/1000\n",
      "80/80 [==============================] - 4s 46ms/step - loss: 0.1130 - mse: 0.0225: 0s - loss: 0.1130 - mse: 0.022\n",
      "Epoch 337/1000\n",
      "80/80 [==============================] - 4s 48ms/step - loss: 0.1207 - mse: 0.0247: 0s - loss: 0.1214 - mse: 0.02 - ETA: 0s - loss: 0.1212 - mse: 0.\n",
      "Epoch 338/1000\n",
      "80/80 [==============================] - 4s 47ms/step - loss: 0.1146 - mse: 0.0225: 0s - loss: 0.1144 - mse: \n",
      "Epoch 339/1000\n",
      "80/80 [==============================] - 4s 47ms/step - loss: 1.0170 - mse: 3.6123: 3s - ETA: 0s - loss: 0.8757 - m\n",
      "Epoch 340/1000\n",
      "80/80 [==============================] - 4s 48ms/step - loss: 1.4734 - mse: 5.2445: 3s - loss: 1.4114 - mse: - ETA: 2s - loss: 1.4663 - mse: 5.28 - ETA: 2s - loss: 1.4821 - - ETA: 1s - loss: 1.4723  - ETA: 0s - loss: 1.4750 - mse: 5.2\n",
      "Epoch 341/1000\n",
      "80/80 [==============================] - 4s 46ms/step - loss: 1.3144 - mse: 4.4109: 0s - loss: 1.3214 - mse: 4.4\n",
      "Epoch 342/1000\n",
      "80/80 [==============================] - 4s 48ms/step - loss: 0.9737 - mse: 2.7330\n",
      "Epoch 343/1000\n",
      "80/80 [==============================] - 4s 47ms/step - loss: 0.7938 - mse: 1.9980: - ETA: 0s - loss: 0.7986 - mse: 2.\n",
      "Epoch 344/1000\n",
      "80/80 [==============================] - 4s 48ms/step - loss: 0.7715 - mse: 2.0591: 0s - loss: 0.7518 - mse: 1\n",
      "Epoch 345/1000\n",
      "80/80 [==============================] - 4s 48ms/step - loss: 0.7086 - mse: 1.8111\n"
     ]
    },
    {
     "data": {
      "text/plain": [
       "<keras.callbacks.History at 0x22f5ad2ed30>"
      ]
     },
     "execution_count": 36,
     "metadata": {},
     "output_type": "execute_result"
    }
   ],
   "source": [
    "model.fit(df_x[:-1], df_y[:-1], epochs=1000, callbacks=[callback])"
   ]
  },
  {
   "cell_type": "code",
   "execution_count": 37,
   "id": "0f9b6df4-7760-4ae8-85e5-9406a96d2f68",
   "metadata": {
    "execution": {
     "iopub.execute_input": "2021-11-10T21:39:34.172751Z",
     "iopub.status.busy": "2021-11-10T21:39:34.172751Z",
     "iopub.status.idle": "2021-11-10T21:39:34.186774Z",
     "shell.execute_reply": "2021-11-10T21:39:34.186774Z",
     "shell.execute_reply.started": "2021-11-10T21:39:34.172751Z"
    },
    "tags": []
   },
   "outputs": [],
   "source": [
    "# Reshape input in order to have a single example with `history_window` timestamp\n",
    "model_input = df_x[-1].reshape(1, history_window, 1)"
   ]
  },
  {
   "cell_type": "code",
   "execution_count": 38,
   "id": "e7543481-5243-4dc5-aa2d-7967820a6896",
   "metadata": {
    "execution": {
     "iopub.execute_input": "2021-11-10T21:39:34.187779Z",
     "iopub.status.busy": "2021-11-10T21:39:34.187779Z",
     "iopub.status.idle": "2021-11-10T21:39:34.887891Z",
     "shell.execute_reply": "2021-11-10T21:39:34.887891Z",
     "shell.execute_reply.started": "2021-11-10T21:39:34.187779Z"
    },
    "tags": []
   },
   "outputs": [],
   "source": [
    "model_prediction = model.predict(model_input).ravel()"
   ]
  },
  {
   "cell_type": "code",
   "execution_count": 39,
   "id": "f557bde3-7b78-4be8-8742-5aebc56fb858",
   "metadata": {
    "execution": {
     "iopub.execute_input": "2021-11-10T21:39:34.890892Z",
     "iopub.status.busy": "2021-11-10T21:39:34.890892Z",
     "iopub.status.idle": "2021-11-10T21:39:34.904864Z",
     "shell.execute_reply": "2021-11-10T21:39:34.903967Z",
     "shell.execute_reply.started": "2021-11-10T21:39:34.890892Z"
    },
    "tags": []
   },
   "outputs": [],
   "source": [
    "d = {\n",
    "    \"real_values\": df_y[-1],\n",
    "    \"model_values\": model_prediction,\n",
    "}"
   ]
  },
  {
   "cell_type": "code",
   "execution_count": 40,
   "id": "497af2a6-67e4-4f00-8d8b-e47801a6076a",
   "metadata": {
    "execution": {
     "iopub.execute_input": "2021-11-10T21:39:34.904864Z",
     "iopub.status.busy": "2021-11-10T21:39:34.904864Z",
     "iopub.status.idle": "2021-11-10T21:39:35.015103Z",
     "shell.execute_reply": "2021-11-10T21:39:35.015103Z",
     "shell.execute_reply.started": "2021-11-10T21:39:34.904864Z"
    },
    "tags": []
   },
   "outputs": [
    {
     "data": {
      "text/plain": [
       "<AxesSubplot:>"
      ]
     },
     "execution_count": 40,
     "metadata": {},
     "output_type": "execute_result"
    },
    {
     "data": {
      "image/png": "[encoded data removed]",
      "text/plain": [
       "<Figure size 432x288 with 1 Axes>"
      ]
     },
     "metadata": {
      "needs_background": "light"
     },
     "output_type": "display_data"
    }
   ],
   "source": [
    "pd.DataFrame(d).plot()"
   ]
  },
  {
   "cell_type": "code",
   "execution_count": 41,
   "id": "fe26af04-7fa7-48dd-b8aa-e4d05d270f3c",
   "metadata": {
    "execution": {
     "iopub.execute_input": "2021-11-10T21:39:35.016006Z",
     "iopub.status.busy": "2021-11-10T21:39:35.016006Z",
     "iopub.status.idle": "2021-11-10T21:39:35.697896Z",
     "shell.execute_reply": "2021-11-10T21:39:35.697896Z",
     "shell.execute_reply.started": "2021-11-10T21:39:35.016006Z"
    },
    "tags": []
   },
   "outputs": [],
   "source": [
    "model.save(\"my_model.h5\")\n",
    "model = tf.keras.models.load_model(\"my_model.h5\")"
   ]
  },
  {
   "cell_type": "code",
   "execution_count": 42,
   "id": "b64581c5-14cb-4311-9e82-64f88aeba27e",
   "metadata": {
    "execution": {
     "iopub.execute_input": "2021-11-10T21:39:35.698825Z",
     "iopub.status.busy": "2021-11-10T21:39:35.698825Z",
     "iopub.status.idle": "2021-11-10T21:39:35.713961Z",
     "shell.execute_reply": "2021-11-10T21:39:35.713961Z",
     "shell.execute_reply.started": "2021-11-10T21:39:35.698825Z"
    },
    "tags": []
   },
   "outputs": [],
   "source": [
    "# import shap\n",
    "\n",
    "# # we use the first 100 training examples as our background dataset to integrate over\n",
    "# explainer = shap.DeepExplainer(model, df_x[:history_window*3])\n",
    "\n",
    "# # explain the first 10 predictions\n",
    "# # explaining each prediction requires 2 * background dataset size runs\n",
    "# shap_values = explainer.shap_values(df_x[:10])"
   ]
  }
 ],
 "metadata": {
  "kernelspec": {
   "display_name": "Python 3 (ipykernel)",
   "language": "python",
   "name": "python3"
  },
  "language_info": {
   "codemirror_mode": {
    "name": "ipython",
    "version": 3
   },
   "file_extension": ".py",
   "mimetype": "text/x-python",
   "name": "python",
   "nbconvert_exporter": "python",
   "pygments_lexer": "ipython3",
   "version": "3.8.12"
  }
 },
 "nbformat": 4,
 "nbformat_minor": 5
}
